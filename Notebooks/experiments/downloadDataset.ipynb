{
  "nbformat": 4,
  "nbformat_minor": 0,
  "metadata": {
    "colab": {
      "provenance": []
    },
    "kernelspec": {
      "name": "python3",
      "display_name": "Python 3"
    },
    "language_info": {
      "name": "python"
    }
  },
  "cells": [
    {
      "cell_type": "code",
      "source": [
        "!pip install -q kaggle\n",
        "import zipfile\n",
        "from google.colab import drive, files\n",
        "drive.mount('/content/gdrive')"
      ],
      "metadata": {
        "colab": {
          "base_uri": "https://localhost:8080/"
        },
        "id": "aeL11msh5Q_O",
        "outputId": "7bafe7cd-f747-42d8-d659-03cae369cf6a"
      },
      "execution_count": 1,
      "outputs": [
        {
          "output_type": "stream",
          "name": "stdout",
          "text": [
            "Mounted at /content/gdrive\n"
          ]
        }
      ]
    },
    {
      "cell_type": "code",
      "source": [
        "!cp \"/content/gdrive/MyDrive/kaggle.json\" \".\"\n",
        "!chmod 600 kaggle.json\n",
        "!rm -r ~/.kaggle\n",
        "!mkdir ~/.kaggle\n",
        "!mv ./kaggle.json ~/.kaggle/\n",
        "!chmod 600 ~/.kaggle/kaggle.json"
      ],
      "metadata": {
        "colab": {
          "base_uri": "https://localhost:8080/"
        },
        "id": "LiZSu7AU7qjE",
        "outputId": "0c436c3f-7a4d-4307-e4a9-7043013b71d7"
      },
      "execution_count": 2,
      "outputs": [
        {
          "output_type": "stream",
          "name": "stdout",
          "text": [
            "rm: cannot remove '/root/.kaggle': No such file or directory\n"
          ]
        }
      ]
    },
    {
      "cell_type": "code",
      "source": [
        "!kaggle datasets download -d kmader/skin-cancer-mnist-ham10000"
      ],
      "metadata": {
        "colab": {
          "base_uri": "https://localhost:8080/"
        },
        "id": "Heu3QY9j3zRL",
        "outputId": "c57eb444-0638-44a9-fa5d-9f9a2485f030"
      },
      "execution_count": 3,
      "outputs": [
        {
          "output_type": "stream",
          "name": "stdout",
          "text": [
            "Downloading skin-cancer-mnist-ham10000.zip to /content\n",
            "100% 5.19G/5.20G [00:55<00:00, 67.7MB/s]\n",
            "100% 5.20G/5.20G [00:55<00:00, 100MB/s] \n"
          ]
        }
      ]
    },
    {
      "cell_type": "code",
      "execution_count": 4,
      "metadata": {
        "id": "GdjLj7AY3SD8"
      },
      "outputs": [],
      "source": [
        "with zipfile.ZipFile(\"/content/skin-cancer-mnist-ham10000.zip\", 'r') as zip_ref:\n",
        "    zip_ref.extractall(\".\")\n"
      ]
    },
    {
      "cell_type": "code",
      "source": [
        "!mv /content/HAM10000_images_part_1/*.jpg /content/HAM10000_images_part_2"
      ],
      "metadata": {
        "id": "Iw2AvPuz-Jl1"
      },
      "execution_count": 5,
      "outputs": []
    },
    {
      "cell_type": "code",
      "source": [
        "!find /content/HAM10000_images_part_2/ -type f| wc -l"
      ],
      "metadata": {
        "colab": {
          "base_uri": "https://localhost:8080/"
        },
        "id": "7Gb2udkpBH6t",
        "outputId": "6d3fddbe-fd30-4bc0-ea6c-e97dbafeed01"
      },
      "execution_count": 13,
      "outputs": [
        {
          "output_type": "stream",
          "name": "stdout",
          "text": [
            "10015\n"
          ]
        }
      ]
    }
  ]
}