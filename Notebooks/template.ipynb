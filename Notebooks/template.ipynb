{
  "cells": [
    {
      "cell_type": "markdown",
      "metadata": {
        "id": "VA-nf-22_XzF"
      },
      "source": [
        "# Library imports and directory mount"
      ]
    },
    {
      "cell_type": "code",
      "execution_count": 1,
      "metadata": {
        "colab": {
          "base_uri": "https://localhost:8080/"
        },
        "id": "Hw1Mqezw_Rtq",
        "outputId": "62770580-c595-499d-ab7e-4a4c5ab9bd29"
      },
      "outputs": [
        {
          "output_type": "stream",
          "name": "stdout",
          "text": [
            "Mounted at /content/gdrive\n",
            "Python 3.10.11\n"
          ]
        }
      ],
      "source": [
        "import matplotlib.pyplot as plt, numpy as np, pandas as pd, seaborn as sns, tensorflow as tf\n",
        "import cv2, gc, glob, joblib, os, random, sys, warnings\n",
        "\n",
        "from google.colab import drive\n",
        "\n",
        "from tensorflow.keras.optimizers import AdamW\n",
        "from keras.callbacks import EarlyStopping\n",
        "from keras.preprocessing.image import ImageDataGenerator\n",
        "from keras.utils import np_utils\n",
        "\n",
        "from skimage.transform import resize\n",
        "\n",
        "from sklearn.metrics import accuracy_score, precision_score, recall_score, confusion_matrix, roc_auc_score, f1_score, multilabel_confusion_matrix\n",
        "from sklearn.model_selection import train_test_split\n",
        "from sklearn.preprocessing import MinMaxScaler, StandardScaler\n",
        "\n",
        "warnings.filterwarnings('ignore') \n",
        "\n",
        "sns.set() # for ploting\n",
        "\n",
        "drive.mount('/content/gdrive')\n",
        "\n",
        "tf.config.experimental.set_memory_growth(tf.config.list_physical_devices('GPU')[0], True)\n",
        "!python --version"
      ]
    },
    {
      "cell_type": "markdown",
      "metadata": {
        "id": "iuyoZ4-Gygv9"
      },
      "source": [
        "## Configuration variables\n",
        "\n",
        "Index | Recommended configuration\n",
        ":---: | :---:\n",
        "1 | Rotation up to 20º<br>shear up to 15º<br>Horizontal and vertical flip<br>Vertical and horizontal shift up to 20%<br>Zoom out up to 20%\n",
        "2 | Rotation up to 15º<br>Vertical and horizontal flip<br>Image resize up to 10%"
      ]
    },
    {
      "cell_type": "code",
      "execution_count": 2,
      "metadata": {
        "id": "wK0wsZE6ygCz"
      },
      "outputs": [],
      "source": [
        "### Environment\n",
        "csvMetadataPath = \"/content/gdrive/MyDrive/PUC/TCC/Datasets/ham10000/HAM10000_metadata.csv\" # \"HAM10000_metadata.csv\"\n",
        "imagesPath = \"gdrive/MyDrive/PUC/TCC/Datasets/ham10000/imgs/\" # \"images\"\n",
        "savePath = \"/content/gdrive/MyDrive/PUC/TCC/Notebooks/\"\n",
        "saveName = \"xceptionRaw\"\n",
        "\n",
        "### Height and weight of images to be crop\n",
        "h, w = 224, 224\n",
        "\n",
        "### Model architecture\n",
        "architecture = \"xception\" # convNeXt | resNetV2 | xception\n",
        "\n",
        "### Transfer learning from imagenet\n",
        "transferLearning = False\n",
        "freezeLayers = False\n",
        "\n",
        "### Remove duplicates\n",
        "removeDuplicates = True # 0 = 10015, 1 = 7470\n",
        "\n",
        "### Segmentation\n",
        "segmentation = False\n",
        "\n",
        "### Data augmentation\n",
        "dataAugmentation = False\n",
        "rotation = .45\n",
        "widthShift, heightShift = .1, .1\n",
        "channelShift = .15\n",
        "shear = .2\n",
        "zoom = .25\n",
        "hFlip, vFlip = True, True\n",
        "fill = 'nearest' # constant, nearest, reflect, wrap\n",
        "cval = .5 # case the previous is constant\n",
        "bright = [.6,1.4]\n",
        "\n",
        "### Normalization\n",
        "featureCenter = False\n",
        "sampleCenter = False\n",
        "featureStdNorm = False\n",
        "sampleStdNorm = False\n",
        "zcaWhitening = False\n",
        "### Separate from imageDataGenerator\n",
        "standardScalerNorm = False\n",
        "minMaxScalerNorm = False\n",
        "\n",
        "### Model configuration\n",
        "epochs = 5\n",
        "batchSize = 8\n",
        "customOptimizer = False\n",
        "useCallback = False\n",
        "\n",
        "cancerType = {\n",
        "    'akiec': 0, # 0.0 - 'Doenca de Bowens'\n",
        "    'bcc': 1, # 1.0 - 'Carcinoma basocelular'\n",
        "    'bkl': 2, # 2.0 - 'Keratose benigna'\n",
        "    'df': 3, # 3.0 - 'Dermatofibroma'\n",
        "    'vasc': 4, # 4.0 - 'Lesao vascular'\n",
        "    'mel': 5, # 5.0 - 'Melanoma'\n",
        "    'nv': 6  # 6.0 - 'Nevo melanocitico'\n",
        "}\n",
        "totalClasses = len(cancerType)"
      ]
    },
    {
      "cell_type": "markdown",
      "metadata": {
        "id": "B_swJdui_gsF"
      },
      "source": [
        "# Dataset import (CSV Metadata)"
      ]
    },
    {
      "cell_type": "code",
      "execution_count": 3,
      "metadata": {
        "colab": {
          "base_uri": "https://localhost:8080/",
          "height": 206
        },
        "id": "vWRqA6em_lA8",
        "outputId": "a30568be-2c22-44af-e0a1-f2390adb3458"
      },
      "outputs": [
        {
          "output_type": "execute_result",
          "data": {
            "text/plain": [
              "      lesionId       imageId cancerId\n",
              "0  HAM_0000118  ISIC_0027419      bkl\n",
              "1  HAM_0000118  ISIC_0025030      bkl\n",
              "2  HAM_0002730  ISIC_0026769      bkl\n",
              "3  HAM_0002730  ISIC_0025661      bkl\n",
              "4  HAM_0001466  ISIC_0031633      bkl"
            ],
            "text/html": [
              "\n",
              "  <div id=\"df-b5335f1a-83e3-4858-81df-f303b7bfaa05\">\n",
              "    <div class=\"colab-df-container\">\n",
              "      <div>\n",
              "<style scoped>\n",
              "    .dataframe tbody tr th:only-of-type {\n",
              "        vertical-align: middle;\n",
              "    }\n",
              "\n",
              "    .dataframe tbody tr th {\n",
              "        vertical-align: top;\n",
              "    }\n",
              "\n",
              "    .dataframe thead th {\n",
              "        text-align: right;\n",
              "    }\n",
              "</style>\n",
              "<table border=\"1\" class=\"dataframe\">\n",
              "  <thead>\n",
              "    <tr style=\"text-align: right;\">\n",
              "      <th></th>\n",
              "      <th>lesionId</th>\n",
              "      <th>imageId</th>\n",
              "      <th>cancerId</th>\n",
              "    </tr>\n",
              "  </thead>\n",
              "  <tbody>\n",
              "    <tr>\n",
              "      <th>0</th>\n",
              "      <td>HAM_0000118</td>\n",
              "      <td>ISIC_0027419</td>\n",
              "      <td>bkl</td>\n",
              "    </tr>\n",
              "    <tr>\n",
              "      <th>1</th>\n",
              "      <td>HAM_0000118</td>\n",
              "      <td>ISIC_0025030</td>\n",
              "      <td>bkl</td>\n",
              "    </tr>\n",
              "    <tr>\n",
              "      <th>2</th>\n",
              "      <td>HAM_0002730</td>\n",
              "      <td>ISIC_0026769</td>\n",
              "      <td>bkl</td>\n",
              "    </tr>\n",
              "    <tr>\n",
              "      <th>3</th>\n",
              "      <td>HAM_0002730</td>\n",
              "      <td>ISIC_0025661</td>\n",
              "      <td>bkl</td>\n",
              "    </tr>\n",
              "    <tr>\n",
              "      <th>4</th>\n",
              "      <td>HAM_0001466</td>\n",
              "      <td>ISIC_0031633</td>\n",
              "      <td>bkl</td>\n",
              "    </tr>\n",
              "  </tbody>\n",
              "</table>\n",
              "</div>\n",
              "      <button class=\"colab-df-convert\" onclick=\"convertToInteractive('df-b5335f1a-83e3-4858-81df-f303b7bfaa05')\"\n",
              "              title=\"Convert this dataframe to an interactive table.\"\n",
              "              style=\"display:none;\">\n",
              "        \n",
              "  <svg xmlns=\"http://www.w3.org/2000/svg\" height=\"24px\"viewBox=\"0 0 24 24\"\n",
              "       width=\"24px\">\n",
              "    <path d=\"M0 0h24v24H0V0z\" fill=\"none\"/>\n",
              "    <path d=\"M18.56 5.44l.94 2.06.94-2.06 2.06-.94-2.06-.94-.94-2.06-.94 2.06-2.06.94zm-11 1L8.5 8.5l.94-2.06 2.06-.94-2.06-.94L8.5 2.5l-.94 2.06-2.06.94zm10 10l.94 2.06.94-2.06 2.06-.94-2.06-.94-.94-2.06-.94 2.06-2.06.94z\"/><path d=\"M17.41 7.96l-1.37-1.37c-.4-.4-.92-.59-1.43-.59-.52 0-1.04.2-1.43.59L10.3 9.45l-7.72 7.72c-.78.78-.78 2.05 0 2.83L4 21.41c.39.39.9.59 1.41.59.51 0 1.02-.2 1.41-.59l7.78-7.78 2.81-2.81c.8-.78.8-2.07 0-2.86zM5.41 20L4 18.59l7.72-7.72 1.47 1.35L5.41 20z\"/>\n",
              "  </svg>\n",
              "      </button>\n",
              "      \n",
              "  <style>\n",
              "    .colab-df-container {\n",
              "      display:flex;\n",
              "      flex-wrap:wrap;\n",
              "      gap: 12px;\n",
              "    }\n",
              "\n",
              "    .colab-df-convert {\n",
              "      background-color: #E8F0FE;\n",
              "      border: none;\n",
              "      border-radius: 50%;\n",
              "      cursor: pointer;\n",
              "      display: none;\n",
              "      fill: #1967D2;\n",
              "      height: 32px;\n",
              "      padding: 0 0 0 0;\n",
              "      width: 32px;\n",
              "    }\n",
              "\n",
              "    .colab-df-convert:hover {\n",
              "      background-color: #E2EBFA;\n",
              "      box-shadow: 0px 1px 2px rgba(60, 64, 67, 0.3), 0px 1px 3px 1px rgba(60, 64, 67, 0.15);\n",
              "      fill: #174EA6;\n",
              "    }\n",
              "\n",
              "    [theme=dark] .colab-df-convert {\n",
              "      background-color: #3B4455;\n",
              "      fill: #D2E3FC;\n",
              "    }\n",
              "\n",
              "    [theme=dark] .colab-df-convert:hover {\n",
              "      background-color: #434B5C;\n",
              "      box-shadow: 0px 1px 3px 1px rgba(0, 0, 0, 0.15);\n",
              "      filter: drop-shadow(0px 1px 2px rgba(0, 0, 0, 0.3));\n",
              "      fill: #FFFFFF;\n",
              "    }\n",
              "  </style>\n",
              "\n",
              "      <script>\n",
              "        const buttonEl =\n",
              "          document.querySelector('#df-b5335f1a-83e3-4858-81df-f303b7bfaa05 button.colab-df-convert');\n",
              "        buttonEl.style.display =\n",
              "          google.colab.kernel.accessAllowed ? 'block' : 'none';\n",
              "\n",
              "        async function convertToInteractive(key) {\n",
              "          const element = document.querySelector('#df-b5335f1a-83e3-4858-81df-f303b7bfaa05');\n",
              "          const dataTable =\n",
              "            await google.colab.kernel.invokeFunction('convertToInteractive',\n",
              "                                                     [key], {});\n",
              "          if (!dataTable) return;\n",
              "\n",
              "          const docLinkHtml = 'Like what you see? Visit the ' +\n",
              "            '<a target=\"_blank\" href=https://colab.research.google.com/notebooks/data_table.ipynb>data table notebook</a>'\n",
              "            + ' to learn more about interactive tables.';\n",
              "          element.innerHTML = '';\n",
              "          dataTable['output_type'] = 'display_data';\n",
              "          await google.colab.output.renderOutput(dataTable, element);\n",
              "          const docLink = document.createElement('div');\n",
              "          docLink.innerHTML = docLinkHtml;\n",
              "          element.appendChild(docLink);\n",
              "        }\n",
              "      </script>\n",
              "    </div>\n",
              "  </div>\n",
              "  "
            ]
          },
          "metadata": {},
          "execution_count": 3
        }
      ],
      "source": [
        "datasetMetadata = pd.read_csv(csvMetadataPath)\n",
        "datasetMetadata = datasetMetadata.drop(columns=['dx_type','age','sex','localization']) # Non-utilized columns\n",
        "datasetMetadata = datasetMetadata.rename(columns={\"lesion_id\": \"lesionId\",\n",
        "                                                  \"image_id\": \"imageId\",\n",
        "                                                  \"dx\": \"cancerId\"})\n",
        "datasetMetadata.head()"
      ]
    },
    {
      "cell_type": "code",
      "execution_count": 4,
      "metadata": {
        "id": "O9THGK5kOWv-"
      },
      "outputs": [],
      "source": [
        "datasetMetadata['duplicate'] = datasetMetadata['lesionId']      # Creating a column to indicate if the lesion has more than one image\n",
        "\n",
        "uniqueLesions = datasetMetadata.groupby('lesionId').count()     # Counts the number of lesions for each id\n",
        "uniqueLesions = uniqueLesions[uniqueLesions['imageId'] == 1]    # Filter lesions which ones have unique id\n",
        "uniqueLesions.reset_index(inplace = True)                       # Add default index column\n",
        "uniqueLesions = uniqueLesions['lesionId'].values.tolist()       # Extracts the indexes into a list\n",
        "\n",
        "datasetMetadata['duplicate'] = datasetMetadata['lesionId'].apply(lambda x: False if x in uniqueLesions else True) # Fill the rows indicating if the lesion has a duplicated image\n",
        "datasetMetadata['duplicate'].value_counts()\n",
        "del uniqueLesions"
      ]
    },
    {
      "cell_type": "markdown",
      "metadata": {
        "id": "qE6Eucogc4Gw"
      },
      "source": [
        "Removing Duplicates"
      ]
    },
    {
      "cell_type": "code",
      "execution_count": 5,
      "metadata": {
        "colab": {
          "base_uri": "https://localhost:8080/",
          "height": 206
        },
        "id": "_Hk2vbz9x72u",
        "outputId": "d998f6f8-233c-49a8-ef8e-c0de56d00f2b"
      },
      "outputs": [
        {
          "output_type": "execute_result",
          "data": {
            "text/plain": [
              "      lesionId       imageId cancerId  duplicate\n",
              "0  HAM_0000118  ISIC_0027419      bkl       True\n",
              "2  HAM_0002730  ISIC_0026769      bkl       True\n",
              "4  HAM_0001466  ISIC_0031633      bkl       True\n",
              "6  HAM_0002761  ISIC_0029176      bkl       True\n",
              "8  HAM_0005132  ISIC_0025837      bkl       True"
            ],
            "text/html": [
              "\n",
              "  <div id=\"df-38c8628b-1488-4c69-9c2d-3ecc6e437988\">\n",
              "    <div class=\"colab-df-container\">\n",
              "      <div>\n",
              "<style scoped>\n",
              "    .dataframe tbody tr th:only-of-type {\n",
              "        vertical-align: middle;\n",
              "    }\n",
              "\n",
              "    .dataframe tbody tr th {\n",
              "        vertical-align: top;\n",
              "    }\n",
              "\n",
              "    .dataframe thead th {\n",
              "        text-align: right;\n",
              "    }\n",
              "</style>\n",
              "<table border=\"1\" class=\"dataframe\">\n",
              "  <thead>\n",
              "    <tr style=\"text-align: right;\">\n",
              "      <th></th>\n",
              "      <th>lesionId</th>\n",
              "      <th>imageId</th>\n",
              "      <th>cancerId</th>\n",
              "      <th>duplicate</th>\n",
              "    </tr>\n",
              "  </thead>\n",
              "  <tbody>\n",
              "    <tr>\n",
              "      <th>0</th>\n",
              "      <td>HAM_0000118</td>\n",
              "      <td>ISIC_0027419</td>\n",
              "      <td>bkl</td>\n",
              "      <td>True</td>\n",
              "    </tr>\n",
              "    <tr>\n",
              "      <th>2</th>\n",
              "      <td>HAM_0002730</td>\n",
              "      <td>ISIC_0026769</td>\n",
              "      <td>bkl</td>\n",
              "      <td>True</td>\n",
              "    </tr>\n",
              "    <tr>\n",
              "      <th>4</th>\n",
              "      <td>HAM_0001466</td>\n",
              "      <td>ISIC_0031633</td>\n",
              "      <td>bkl</td>\n",
              "      <td>True</td>\n",
              "    </tr>\n",
              "    <tr>\n",
              "      <th>6</th>\n",
              "      <td>HAM_0002761</td>\n",
              "      <td>ISIC_0029176</td>\n",
              "      <td>bkl</td>\n",
              "      <td>True</td>\n",
              "    </tr>\n",
              "    <tr>\n",
              "      <th>8</th>\n",
              "      <td>HAM_0005132</td>\n",
              "      <td>ISIC_0025837</td>\n",
              "      <td>bkl</td>\n",
              "      <td>True</td>\n",
              "    </tr>\n",
              "  </tbody>\n",
              "</table>\n",
              "</div>\n",
              "      <button class=\"colab-df-convert\" onclick=\"convertToInteractive('df-38c8628b-1488-4c69-9c2d-3ecc6e437988')\"\n",
              "              title=\"Convert this dataframe to an interactive table.\"\n",
              "              style=\"display:none;\">\n",
              "        \n",
              "  <svg xmlns=\"http://www.w3.org/2000/svg\" height=\"24px\"viewBox=\"0 0 24 24\"\n",
              "       width=\"24px\">\n",
              "    <path d=\"M0 0h24v24H0V0z\" fill=\"none\"/>\n",
              "    <path d=\"M18.56 5.44l.94 2.06.94-2.06 2.06-.94-2.06-.94-.94-2.06-.94 2.06-2.06.94zm-11 1L8.5 8.5l.94-2.06 2.06-.94-2.06-.94L8.5 2.5l-.94 2.06-2.06.94zm10 10l.94 2.06.94-2.06 2.06-.94-2.06-.94-.94-2.06-.94 2.06-2.06.94z\"/><path d=\"M17.41 7.96l-1.37-1.37c-.4-.4-.92-.59-1.43-.59-.52 0-1.04.2-1.43.59L10.3 9.45l-7.72 7.72c-.78.78-.78 2.05 0 2.83L4 21.41c.39.39.9.59 1.41.59.51 0 1.02-.2 1.41-.59l7.78-7.78 2.81-2.81c.8-.78.8-2.07 0-2.86zM5.41 20L4 18.59l7.72-7.72 1.47 1.35L5.41 20z\"/>\n",
              "  </svg>\n",
              "      </button>\n",
              "      \n",
              "  <style>\n",
              "    .colab-df-container {\n",
              "      display:flex;\n",
              "      flex-wrap:wrap;\n",
              "      gap: 12px;\n",
              "    }\n",
              "\n",
              "    .colab-df-convert {\n",
              "      background-color: #E8F0FE;\n",
              "      border: none;\n",
              "      border-radius: 50%;\n",
              "      cursor: pointer;\n",
              "      display: none;\n",
              "      fill: #1967D2;\n",
              "      height: 32px;\n",
              "      padding: 0 0 0 0;\n",
              "      width: 32px;\n",
              "    }\n",
              "\n",
              "    .colab-df-convert:hover {\n",
              "      background-color: #E2EBFA;\n",
              "      box-shadow: 0px 1px 2px rgba(60, 64, 67, 0.3), 0px 1px 3px 1px rgba(60, 64, 67, 0.15);\n",
              "      fill: #174EA6;\n",
              "    }\n",
              "\n",
              "    [theme=dark] .colab-df-convert {\n",
              "      background-color: #3B4455;\n",
              "      fill: #D2E3FC;\n",
              "    }\n",
              "\n",
              "    [theme=dark] .colab-df-convert:hover {\n",
              "      background-color: #434B5C;\n",
              "      box-shadow: 0px 1px 3px 1px rgba(0, 0, 0, 0.15);\n",
              "      filter: drop-shadow(0px 1px 2px rgba(0, 0, 0, 0.3));\n",
              "      fill: #FFFFFF;\n",
              "    }\n",
              "  </style>\n",
              "\n",
              "      <script>\n",
              "        const buttonEl =\n",
              "          document.querySelector('#df-38c8628b-1488-4c69-9c2d-3ecc6e437988 button.colab-df-convert');\n",
              "        buttonEl.style.display =\n",
              "          google.colab.kernel.accessAllowed ? 'block' : 'none';\n",
              "\n",
              "        async function convertToInteractive(key) {\n",
              "          const element = document.querySelector('#df-38c8628b-1488-4c69-9c2d-3ecc6e437988');\n",
              "          const dataTable =\n",
              "            await google.colab.kernel.invokeFunction('convertToInteractive',\n",
              "                                                     [key], {});\n",
              "          if (!dataTable) return;\n",
              "\n",
              "          const docLinkHtml = 'Like what you see? Visit the ' +\n",
              "            '<a target=\"_blank\" href=https://colab.research.google.com/notebooks/data_table.ipynb>data table notebook</a>'\n",
              "            + ' to learn more about interactive tables.';\n",
              "          element.innerHTML = '';\n",
              "          dataTable['output_type'] = 'display_data';\n",
              "          await google.colab.output.renderOutput(dataTable, element);\n",
              "          const docLink = document.createElement('div');\n",
              "          docLink.innerHTML = docLinkHtml;\n",
              "          element.appendChild(docLink);\n",
              "        }\n",
              "      </script>\n",
              "    </div>\n",
              "  </div>\n",
              "  "
            ]
          },
          "metadata": {},
          "execution_count": 5
        }
      ],
      "source": [
        "if removeDuplicates: # Adjusted to get only one of the duplicates and non duplicates\n",
        "    datasetMetadata = datasetMetadata[~((datasetMetadata['lesionId'].duplicated()) & (datasetMetadata['duplicate']))]\n",
        "datasetMetadata.head()"
      ]
    },
    {
      "cell_type": "code",
      "execution_count": 6,
      "metadata": {
        "colab": {
          "base_uri": "https://localhost:8080/",
          "height": 609
        },
        "id": "SrYBPrkGGwIw",
        "outputId": "18fcadef-8ca8-476b-8b7f-910dd0dc676d"
      },
      "outputs": [
        {
          "output_type": "display_data",
          "data": {
            "text/plain": [
              "<Figure size 640x480 with 1 Axes>"
            ],
            "image/png": "[encoded data removed]"
          },
          "metadata": {}
        },
        {
          "output_type": "stream",
          "name": "stdout",
          "text": [
            "cancerId\n",
            "df         73\n",
            "vasc       98\n",
            "akiec     228\n",
            "bcc       327\n",
            "mel       614\n",
            "bkl       727\n",
            "nv       5403\n",
            "dtype: int64\n",
            "Total:  7470\n"
          ]
        }
      ],
      "source": [
        "labelSize = datasetMetadata.groupby('cancerId').size().sort_values() # Sort and order every cancer class\n",
        "\n",
        "ax = labelSize.plot.barh()\n",
        "\n",
        "for i, v in enumerate(labelSize):\n",
        "    ax.text(v + 3, i + .25, str(v) + ' (' + str(round(v/datasetMetadata.shape[0]*100, 2)) + '%)') # Set the percentage of each cancer class\n",
        "\n",
        "plt.show()\n",
        "\n",
        "print(labelSize)\n",
        "print(\"Total: \", labelSize.sum())\n",
        "del labelSize"
      ]
    },
    {
      "cell_type": "code",
      "execution_count": 7,
      "metadata": {
        "colab": {
          "base_uri": "https://localhost:8080/",
          "height": 206
        },
        "id": "zrjawKPGCCFt",
        "outputId": "7620c113-b0ae-4f19-b0e8-1168f8ee02a9"
      },
      "outputs": [
        {
          "output_type": "execute_result",
          "data": {
            "text/plain": [
              "      lesionId       imageId  cancerId  duplicate\n",
              "0  HAM_0000118  ISIC_0027419         2       True\n",
              "2  HAM_0002730  ISIC_0026769         2       True\n",
              "4  HAM_0001466  ISIC_0031633         2       True\n",
              "6  HAM_0002761  ISIC_0029176         2       True\n",
              "8  HAM_0005132  ISIC_0025837         2       True"
            ],
            "text/html": [
              "\n",
              "  <div id=\"df-57a58759-1172-4366-922c-698093694135\">\n",
              "    <div class=\"colab-df-container\">\n",
              "      <div>\n",
              "<style scoped>\n",
              "    .dataframe tbody tr th:only-of-type {\n",
              "        vertical-align: middle;\n",
              "    }\n",
              "\n",
              "    .dataframe tbody tr th {\n",
              "        vertical-align: top;\n",
              "    }\n",
              "\n",
              "    .dataframe thead th {\n",
              "        text-align: right;\n",
              "    }\n",
              "</style>\n",
              "<table border=\"1\" class=\"dataframe\">\n",
              "  <thead>\n",
              "    <tr style=\"text-align: right;\">\n",
              "      <th></th>\n",
              "      <th>lesionId</th>\n",
              "      <th>imageId</th>\n",
              "      <th>cancerId</th>\n",
              "      <th>duplicate</th>\n",
              "    </tr>\n",
              "  </thead>\n",
              "  <tbody>\n",
              "    <tr>\n",
              "      <th>0</th>\n",
              "      <td>HAM_0000118</td>\n",
              "      <td>ISIC_0027419</td>\n",
              "      <td>2</td>\n",
              "      <td>True</td>\n",
              "    </tr>\n",
              "    <tr>\n",
              "      <th>2</th>\n",
              "      <td>HAM_0002730</td>\n",
              "      <td>ISIC_0026769</td>\n",
              "      <td>2</td>\n",
              "      <td>True</td>\n",
              "    </tr>\n",
              "    <tr>\n",
              "      <th>4</th>\n",
              "      <td>HAM_0001466</td>\n",
              "      <td>ISIC_0031633</td>\n",
              "      <td>2</td>\n",
              "      <td>True</td>\n",
              "    </tr>\n",
              "    <tr>\n",
              "      <th>6</th>\n",
              "      <td>HAM_0002761</td>\n",
              "      <td>ISIC_0029176</td>\n",
              "      <td>2</td>\n",
              "      <td>True</td>\n",
              "    </tr>\n",
              "    <tr>\n",
              "      <th>8</th>\n",
              "      <td>HAM_0005132</td>\n",
              "      <td>ISIC_0025837</td>\n",
              "      <td>2</td>\n",
              "      <td>True</td>\n",
              "    </tr>\n",
              "  </tbody>\n",
              "</table>\n",
              "</div>\n",
              "      <button class=\"colab-df-convert\" onclick=\"convertToInteractive('df-57a58759-1172-4366-922c-698093694135')\"\n",
              "              title=\"Convert this dataframe to an interactive table.\"\n",
              "              style=\"display:none;\">\n",
              "        \n",
              "  <svg xmlns=\"http://www.w3.org/2000/svg\" height=\"24px\"viewBox=\"0 0 24 24\"\n",
              "       width=\"24px\">\n",
              "    <path d=\"M0 0h24v24H0V0z\" fill=\"none\"/>\n",
              "    <path d=\"M18.56 5.44l.94 2.06.94-2.06 2.06-.94-2.06-.94-.94-2.06-.94 2.06-2.06.94zm-11 1L8.5 8.5l.94-2.06 2.06-.94-2.06-.94L8.5 2.5l-.94 2.06-2.06.94zm10 10l.94 2.06.94-2.06 2.06-.94-2.06-.94-.94-2.06-.94 2.06-2.06.94z\"/><path d=\"M17.41 7.96l-1.37-1.37c-.4-.4-.92-.59-1.43-.59-.52 0-1.04.2-1.43.59L10.3 9.45l-7.72 7.72c-.78.78-.78 2.05 0 2.83L4 21.41c.39.39.9.59 1.41.59.51 0 1.02-.2 1.41-.59l7.78-7.78 2.81-2.81c.8-.78.8-2.07 0-2.86zM5.41 20L4 18.59l7.72-7.72 1.47 1.35L5.41 20z\"/>\n",
              "  </svg>\n",
              "      </button>\n",
              "      \n",
              "  <style>\n",
              "    .colab-df-container {\n",
              "      display:flex;\n",
              "      flex-wrap:wrap;\n",
              "      gap: 12px;\n",
              "    }\n",
              "\n",
              "    .colab-df-convert {\n",
              "      background-color: #E8F0FE;\n",
              "      border: none;\n",
              "      border-radius: 50%;\n",
              "      cursor: pointer;\n",
              "      display: none;\n",
              "      fill: #1967D2;\n",
              "      height: 32px;\n",
              "      padding: 0 0 0 0;\n",
              "      width: 32px;\n",
              "    }\n",
              "\n",
              "    .colab-df-convert:hover {\n",
              "      background-color: #E2EBFA;\n",
              "      box-shadow: 0px 1px 2px rgba(60, 64, 67, 0.3), 0px 1px 3px 1px rgba(60, 64, 67, 0.15);\n",
              "      fill: #174EA6;\n",
              "    }\n",
              "\n",
              "    [theme=dark] .colab-df-convert {\n",
              "      background-color: #3B4455;\n",
              "      fill: #D2E3FC;\n",
              "    }\n",
              "\n",
              "    [theme=dark] .colab-df-convert:hover {\n",
              "      background-color: #434B5C;\n",
              "      box-shadow: 0px 1px 3px 1px rgba(0, 0, 0, 0.15);\n",
              "      filter: drop-shadow(0px 1px 2px rgba(0, 0, 0, 0.3));\n",
              "      fill: #FFFFFF;\n",
              "    }\n",
              "  </style>\n",
              "\n",
              "      <script>\n",
              "        const buttonEl =\n",
              "          document.querySelector('#df-57a58759-1172-4366-922c-698093694135 button.colab-df-convert');\n",
              "        buttonEl.style.display =\n",
              "          google.colab.kernel.accessAllowed ? 'block' : 'none';\n",
              "\n",
              "        async function convertToInteractive(key) {\n",
              "          const element = document.querySelector('#df-57a58759-1172-4366-922c-698093694135');\n",
              "          const dataTable =\n",
              "            await google.colab.kernel.invokeFunction('convertToInteractive',\n",
              "                                                     [key], {});\n",
              "          if (!dataTable) return;\n",
              "\n",
              "          const docLinkHtml = 'Like what you see? Visit the ' +\n",
              "            '<a target=\"_blank\" href=https://colab.research.google.com/notebooks/data_table.ipynb>data table notebook</a>'\n",
              "            + ' to learn more about interactive tables.';\n",
              "          element.innerHTML = '';\n",
              "          dataTable['output_type'] = 'display_data';\n",
              "          await google.colab.output.renderOutput(dataTable, element);\n",
              "          const docLink = document.createElement('div');\n",
              "          docLink.innerHTML = docLinkHtml;\n",
              "          element.appendChild(docLink);\n",
              "        }\n",
              "      </script>\n",
              "    </div>\n",
              "  </div>\n",
              "  "
            ]
          },
          "metadata": {},
          "execution_count": 7
        }
      ],
      "source": [
        "datasetMetadata['cancerId'] = datasetMetadata['cancerId'].map(cancerType) # Map each class into an integer\n",
        "datasetMetadata.head()"
      ]
    },
    {
      "cell_type": "markdown",
      "metadata": {
        "id": "psdovo08Q8Nu"
      },
      "source": [
        "# Dataset import (Imgs)"
      ]
    },
    {
      "cell_type": "markdown",
      "metadata": {
        "id": "vNR9jkwco5Pp"
      },
      "source": [
        "Path to the dataset images\n",
        "\n",
        "\"/content/gdrive/MyDrive/PUC/TCC/Datasets/ham10000/imgs/<imgId>.jpg\""
      ]
    },
    {
      "cell_type": "code",
      "execution_count": 8,
      "metadata": {
        "colab": {
          "base_uri": "https://localhost:8080/",
          "height": 235
        },
        "id": "kIBPw66BJMih",
        "outputId": "bd0cdb2d-1e63-41c2-aa3a-66d33d769767"
      },
      "outputs": [
        {
          "output_type": "error",
          "ename": "KeyboardInterrupt",
          "evalue": "ignored",
          "traceback": [
            "\u001b[0;31m---------------------------------------------------------------------------\u001b[0m",
            "\u001b[0;31mKeyboardInterrupt\u001b[0m                         Traceback (most recent call last)",
            "\u001b[0;32m<ipython-input-8-49dd1043c9f8>\u001b[0m in \u001b[0;36m<cell line: 4>\u001b[0;34m()\u001b[0m\n\u001b[1;32m      3\u001b[0m \u001b[0;34m\u001b[0m\u001b[0m\n\u001b[1;32m      4\u001b[0m \u001b[0;32mfor\u001b[0m \u001b[0mindex\u001b[0m\u001b[0;34m,\u001b[0m \u001b[0mrow\u001b[0m \u001b[0;32min\u001b[0m \u001b[0mdatasetMetadata\u001b[0m\u001b[0;34m.\u001b[0m\u001b[0miterrows\u001b[0m\u001b[0;34m(\u001b[0m\u001b[0;34m)\u001b[0m\u001b[0;34m:\u001b[0m\u001b[0;34m\u001b[0m\u001b[0;34m\u001b[0m\u001b[0m\n\u001b[0;32m----> 5\u001b[0;31m     \u001b[0mimg\u001b[0m \u001b[0;34m=\u001b[0m \u001b[0mcv2\u001b[0m\u001b[0;34m.\u001b[0m\u001b[0mimread\u001b[0m\u001b[0;34m(\u001b[0m\u001b[0;34m''\u001b[0m\u001b[0;34m.\u001b[0m\u001b[0mjoin\u001b[0m\u001b[0;34m(\u001b[0m\u001b[0;34m[\u001b[0m\u001b[0mimagesPath\u001b[0m\u001b[0;34m,\u001b[0m \u001b[0mrow\u001b[0m\u001b[0;34m[\u001b[0m\u001b[0;34m'imageId'\u001b[0m\u001b[0;34m]\u001b[0m\u001b[0;34m,\u001b[0m \u001b[0;34m'.jpg'\u001b[0m\u001b[0;34m]\u001b[0m\u001b[0;34m)\u001b[0m\u001b[0;34m)\u001b[0m \u001b[0;31m# Collect the image from drive\u001b[0m\u001b[0;34m\u001b[0m\u001b[0;34m\u001b[0m\u001b[0m\n\u001b[0m\u001b[1;32m      6\u001b[0m     \u001b[0mimg\u001b[0m \u001b[0;34m=\u001b[0m \u001b[0mcv2\u001b[0m\u001b[0;34m.\u001b[0m\u001b[0mcvtColor\u001b[0m\u001b[0;34m(\u001b[0m\u001b[0mimg\u001b[0m\u001b[0;34m,\u001b[0m \u001b[0mcv2\u001b[0m\u001b[0;34m.\u001b[0m\u001b[0mCOLOR_BGR2RGB\u001b[0m\u001b[0;34m)\u001b[0m \u001b[0;31m# Invert color BGR => RGB\u001b[0m\u001b[0;34m\u001b[0m\u001b[0;34m\u001b[0m\u001b[0m\n\u001b[1;32m      7\u001b[0m     \u001b[0mimg\u001b[0m \u001b[0;34m=\u001b[0m \u001b[0mcv2\u001b[0m\u001b[0;34m.\u001b[0m\u001b[0mresize\u001b[0m\u001b[0;34m(\u001b[0m\u001b[0mimg\u001b[0m\u001b[0;34m,\u001b[0m \u001b[0;34m(\u001b[0m\u001b[0mh\u001b[0m\u001b[0;34m,\u001b[0m \u001b[0mw\u001b[0m\u001b[0;34m)\u001b[0m\u001b[0;34m)\u001b[0m \u001b[0;31m# Resize the image according to params provided\u001b[0m\u001b[0;34m\u001b[0m\u001b[0;34m\u001b[0m\u001b[0m\n",
            "\u001b[0;31mKeyboardInterrupt\u001b[0m: "
          ]
        }
      ],
      "source": [
        "images = []\n",
        "loadedImages = 0\n",
        "\n",
        "for index, row in datasetMetadata.iterrows():\n",
        "    img = cv2.imread(''.join([imagesPath, row['imageId'], '.jpg'])) # Collect the image from drive\n",
        "    img = cv2.cvtColor(img, cv2.COLOR_BGR2RGB) # Invert color BGR => RGB\n",
        "    img = cv2.resize(img, (h, w)) # Resize the image according to params provided\n",
        "    images.append(img)\n",
        "\n",
        "    loadedImages = loadedImages + 1\n",
        "    if loadedImages % 1000 == 0:\n",
        "        print(loadedImages)\n",
        "del loadedImages, img"
      ]
    },
    {
      "cell_type": "code",
      "execution_count": null,
      "metadata": {
        "id": "YLbcmS9zWf0F"
      },
      "outputs": [],
      "source": [
        "plt.imshow(images[0])\n",
        "print(len(images))\n",
        "print(datasetMetadata.iloc[0])\n",
        "print(images[0].shape)\n",
        "plt.show()"
      ]
    },
    {
      "cell_type": "markdown",
      "metadata": {
        "id": "OPCe8saYY5hx"
      },
      "source": [
        "# Images treatment"
      ]
    },
    {
      "cell_type": "markdown",
      "source": [
        "\n",
        "1. Split train/val/test sets\n",
        "1. Data augmentation (training set)\n",
        "1. Segmentation (all sets)\n",
        "1. Np array\n",
        "1. Normalization (all sets, fit by training)\n",
        "1. Reshape / toCategorical"
      ],
      "metadata": {
        "id": "d5fVC1hTDxmK"
      }
    },
    {
      "cell_type": "markdown",
      "metadata": {
        "id": "m9q4nWYQeNU0"
      },
      "source": [
        "Spliting in training, validation and test balancing the batches by the cancer id:\n",
        "\n",
        "Train set = 70%\n",
        "\n",
        "Validation set = 10%\n",
        "\n",
        "Test set = 20%"
      ]
    },
    {
      "cell_type": "code",
      "execution_count": null,
      "metadata": {
        "id": "bLemfETheP3T"
      },
      "outputs": [],
      "source": [
        "XTrainVal, XTest, YTrainVal, YTest = train_test_split(images, datasetMetadata['cancerId'], test_size=0.2, train_size=0.8, stratify=datasetMetadata['cancerId'])\n",
        "del images, datasetMetadata\n",
        "XTrain, XVal, YTrain, YVal = train_test_split(XTrainVal, YTrainVal, test_size = 0.125, train_size = 0.875, stratify = YTrainVal)\n",
        "del XTrainVal, YTrainVal\n",
        "\n",
        "print('Train set size: ', YTrain.size)\n",
        "print('Validation set size: ', YVal.size)\n",
        "print('Test set size: ', YTest.size)"
      ]
    },
    {
      "cell_type": "markdown",
      "source": [
        "Information of each class in every set"
      ],
      "metadata": {
        "id": "XhbtolGj2wCm"
      }
    },
    {
      "cell_type": "code",
      "source": [
        "labelSize = YTrain.value_counts().sort_values()\n",
        "\n",
        "ax = labelSize.plot.barh()\n",
        "\n",
        "for i, v in enumerate(labelSize):\n",
        "    ax.text(v + 3, i + .25, str(v) + ' (' + str(round(v/YTrain.shape[0]*100, 2)) + '%)')\n",
        "\n",
        "plt.show()\n",
        "\n",
        "labelSize = YVal.value_counts().sort_values()\n",
        "\n",
        "ax = labelSize.plot.barh()\n",
        "\n",
        "for i, v in enumerate(labelSize):\n",
        "    ax.text(v + 3, i + .25, str(v) + ' (' + str(round(v/YVal.shape[0]*100, 2)) + '%)')\n",
        "\n",
        "plt.show()\n",
        "\n",
        "labelSize = YTest.value_counts().sort_values()\n",
        "\n",
        "ax = labelSize.plot.barh()\n",
        "\n",
        "for i, v in enumerate(labelSize):\n",
        "    ax.text(v + 3, i + .25, str(v) + ' (' + str(round(v/YTest.shape[0]*100, 2)) + '%)')\n",
        "\n",
        "plt.show()\n",
        "del labelSize, ax"
      ],
      "metadata": {
        "id": "3PL4otIPEYvd"
      },
      "execution_count": null,
      "outputs": []
    },
    {
      "cell_type": "markdown",
      "metadata": {
        "id": "utpkQiY2dD58"
      },
      "source": [
        "Data augmentation\n",
        "\n",
        "Only be applied in the training set"
      ]
    },
    {
      "cell_type": "code",
      "execution_count": null,
      "metadata": {
        "id": "sEb-yUHLdwSV"
      },
      "outputs": [],
      "source": [
        "if dataAugmentation: # TODO: test\n",
        "    datagen = ImageDataGenerator(\n",
        "        # Normalizations\n",
        "        featurewise_center = featureCenter,\n",
        "        samplewise_center = sampleCenter,\n",
        "        featurewise_std_normalization = featureStdNorm,\n",
        "        samplewise_std_normalization = sampleStdNorm,\n",
        "        zca_whitening = zcaWhitening,\n",
        "        # Image modifications\n",
        "        rotation_range = rotation,\n",
        "        zoom_range = zoom,\n",
        "        channel_shift_range = channelShift,\n",
        "        fill_mode = fill,\n",
        "        cval = cval,\n",
        "        width_shift_range = widthShift,\n",
        "        height_shift_range = heightShift,\n",
        "        horizontal_flip = hFlip,\n",
        "        brightness_range = bright,\n",
        "        shear_range = shear,\n",
        "        vertical_flip = vFlip\n",
        "    )\n",
        "\n",
        "    \"\"\"\n",
        "    YTrain.value_counts().sort_values()\n",
        "    total_samples = 5403 + 727 + 614 + 327 + 228 + 98 + 73 // YTrain.value_counts()\n",
        "\n",
        "    class_weights = {\n",
        "        0: total_samples / 5403,\n",
        "        1: total_samples / 727,\n",
        "        2: total_samples / 614,\n",
        "        3: total_samples / 327,\n",
        "        4: total_samples / 228,\n",
        "        5: total_samples / 98,\n",
        "        6: total_samples / 73\n",
        "    }\n",
        "\n",
        "\n",
        "    class_counts = YTrain.value_counts().sort_values()\n",
        "\n",
        "    total_samples = class_counts.sum()\n",
        "\n",
        "    class_weights = {\n",
        "        class_label: total_samples / count\n",
        "        for class_label, count in class_counts.items()\n",
        "    }\n",
        "\n",
        "    \"\"\"\n",
        "\n",
        "    print(XTrain.shape)\n",
        "    print(XTrain.size)\n",
        "    if featureCenter or featureStdNorm or zcaWhitening:\n",
        "        datagen.fit(XTrain)\n",
        "    print(XTrain.shape)\n",
        "    print(XTrain.size)\n",
        "    XTrain, YTrain, weights = datagen.flow(XTrain, YTrain, batch_size = batchSize) # TODO: review batchSize"
      ]
    },
    {
      "cell_type": "markdown",
      "source": [
        "Segmentation"
      ],
      "metadata": {
        "id": "4GdRR7cpdUtX"
      }
    },
    {
      "cell_type": "code",
      "source": [
        "def segmentImg(img, alpha = 1.0, kernelMask = (5, 5), kernelSoftMask = (21, 21)):\n",
        "    grayImg = cv2.cvtColor(img, cv2.COLOR_BGR2GRAY)\n",
        "    softenedImg = cv2.GaussianBlur(grayImg, kernelMask, 0)                                # Apply softened filter to reduce noise\n",
        "    _, mask = cv2.threshold(softenedImg, 0, 255, cv2.THRESH_BINARY_INV + cv2.THRESH_OTSU) # Thresholding algorithm to create mask\n",
        "    softenedMask = cv2.GaussianBlur(mask, kernelSoftMask, 0)                              # Smoothing filter\n",
        "    segmentedImg = cv2.bitwise_and(img, img, mask = softenedMask)                         # Apply mask\n",
        "    beta = 1.0 - alpha                                                                    # Beta = weight for original image, alpha = Weight for segmented image - 0 for highlight only the lesion, 1 for original image\n",
        "    return cv2.addWeighted(img, alpha, segmentedImg, beta, 0)                             # Merge segmented image and original image weighted\n",
        "\n",
        "def segmentImgList(imgs):\n",
        "    for i in range(len(imgs)):\n",
        "        imgs[i] = segmentImg(imgs[i])\n",
        "    return imgs\n",
        "\n",
        "if segmentation:\n",
        "    XTrain = segmentImgList(XTrain)\n",
        "    XVal = segmentImgList(XVal)\n",
        "    XTest = segmentImgList(XTest)"
      ],
      "metadata": {
        "id": "7Grmnw8qdTz8"
      },
      "execution_count": null,
      "outputs": []
    },
    {
      "cell_type": "markdown",
      "source": [
        "Transform datasets into np arrays"
      ],
      "metadata": {
        "id": "L6zYWVOXgC0J"
      }
    },
    {
      "cell_type": "code",
      "source": [
        "XTrain = np.array(XTrain)\n",
        "XTrain = XTrain.reshape(XTrain.shape[0], h * w * 3) # 4d -> 2d\n",
        "\n",
        "XVal = np.array(XVal)\n",
        "XVal = XVal.reshape(XVal.shape[0], h * w * 3) # 4d -> 2d\n",
        "\n",
        "XTest = np.array(XTest)\n",
        "XTest = XTest.reshape(XTest.shape[0], h * w * 3) # 4d -> 2d"
      ],
      "metadata": {
        "id": "1C_uIIkj-Z-7"
      },
      "execution_count": null,
      "outputs": []
    },
    {
      "cell_type": "markdown",
      "metadata": {
        "id": "qkJy_BxZdoTz"
      },
      "source": [
        "Normalization"
      ]
    },
    {
      "cell_type": "code",
      "execution_count": null,
      "metadata": {
        "id": "uMHsqqWLdn8V"
      },
      "outputs": [],
      "source": [
        "if minMaxScalerNorm:\n",
        "    minMaxScaler = MinMaxScaler()\n",
        "    minMaxScaler.fit(np.asarray(XTrain))\n",
        "\n",
        "    XTrain = minMaxScaler.transform(XTrain)\n",
        "    XVal = minMaxScaler.transform(XVal)\n",
        "    XTest = minMaxScaler.transform(XTest)\n",
        "elif standardScalerNorm:\n",
        "    standardScaler = StandardScaler()\n",
        "    standardScaler.fit(np.asarray(XTrain))\n",
        "\n",
        "    XTrain = standardScaler.transform(XTrain)\n",
        "    XVal = standardScaler.transform(XVal)\n",
        "    XTest = standardScaler.transform(XTest)\n",
        "\n",
        "print(np.shape(XTest))\n",
        "print(np.shape(XTrain))\n",
        "print(np.shape(XVal))\n",
        "print(YTrain.head())"
      ]
    },
    {
      "cell_type": "markdown",
      "metadata": {
        "id": "BXbxLdHMdlvD"
      },
      "source": [
        "Resize and input adaptation"
      ]
    },
    {
      "cell_type": "code",
      "execution_count": null,
      "metadata": {
        "id": "6GOF05mmeT_v"
      },
      "outputs": [],
      "source": [
        "print(XTrain.shape[0])\n",
        "print(XVal.shape[0])\n",
        "print(XTest.shape[0])\n",
        "\n",
        "XTrain = XTrain.reshape(XTrain.shape[0], h, w, 3).astype('float32')\n",
        "XVal = XVal.reshape(XVal.shape[0], h, w, 3).astype('float32')\n",
        "XTest = XTest.reshape(XTest.shape[0], h, w, 3).astype('float32')\n",
        "\n",
        "YTrain = np_utils.to_categorical(YTrain)\n",
        "YVal = np_utils.to_categorical(YVal)\n",
        "YTest = np_utils.to_categorical(YTest)\n",
        "\n",
        "print(XTrain[0].shape)\n",
        "XTrain.dtype"
      ]
    },
    {
      "cell_type": "code",
      "source": [
        "#for name, var in globals().copy().items():\n",
        "#    print(f\"{name}: {sys.getsizeof(var)} bytes\")"
      ],
      "metadata": {
        "id": "AzAP0fFAAXXE"
      },
      "execution_count": null,
      "outputs": []
    },
    {
      "cell_type": "markdown",
      "metadata": {
        "id": "gjwFM-cJZS3m"
      },
      "source": [
        "# Model training"
      ]
    },
    {
      "cell_type": "markdown",
      "metadata": {
        "id": "ABMk_62CdweF"
      },
      "source": [
        "Loading pre treined model"
      ]
    },
    {
      "cell_type": "code",
      "source": [
        "with tf.device('/GPU:0'): # Using GPU processing on model\n",
        "    match architecture:\n",
        "        case \"convNeXt\":\n",
        "            model = tf.keras.applications.ConvNeXtBase(classes = totalClasses,\n",
        "                                                       include_top = False,\n",
        "                                                       input_shape = (h,w,3),\n",
        "                                                       weights = 'imagenet' if transferLearning else None)\n",
        "        case \"resNetV2\":\n",
        "            model = tf.keras.applications.ResNet50V2(classes = totalClasses,\n",
        "                                                     include_top = False,\n",
        "                                                     input_shape = (h,w,3),\n",
        "                                                     weights = 'imagenet' if transferLearning else None)\n",
        "        case \"xception\":\n",
        "            model = tf.keras.applications.Xception(classes = totalClasses,\n",
        "                                                   include_top = False,\n",
        "                                                   input_shape = (h,w,3),\n",
        "                                                   weights = 'imagenet' if transferLearning else None)\n",
        "        case _:\n",
        "            raise Exception(\"model not configured or non existent\")\n",
        "\n",
        "    if freezeLayers:\n",
        "        for layer in model.layers:\n",
        "            layer.trainable = False\n",
        "\n",
        "    model = tf.keras.Model(inputs = model.input, outputs = tf.keras.layers.Dense(totalClasses, activation = 'softmax')(tf.keras.layers.Flatten()(model.output)))\n",
        "\n",
        "    if customOptimizer:\n",
        "        model.compile(optimizer = AdamW(amsgrad = True,\n",
        "                          beta_1 = 0.9 if transferLearning else 0.8,\n",
        "                          beta_2 = 0.999 if transferLearning else 0.99,\n",
        "                          lr = 0.00001 if transferLearning else 0.001,\n",
        "                          weight_decay = 0.04 if dataAugmentation else 0.0004),\n",
        "                      loss = \"categorical_crossentropy\",\n",
        "                      metrics = ['accuracy', tf.keras.metrics.AUC(), tf.keras.metrics.Recall(), tf.keras.metrics.Precision()])\n",
        "    else:\n",
        "        model.compile(optimizer = \"adam\",\n",
        "                      loss = \"categorical_crossentropy\",\n",
        "                      metrics = ['accuracy', tf.keras.metrics.AUC(), tf.keras.metrics.Recall(), tf.keras.metrics.Precision()])"
      ],
      "metadata": {
        "id": "sAN7huVP5Pf_"
      },
      "execution_count": null,
      "outputs": []
    },
    {
      "cell_type": "code",
      "source": [
        "gc.collect()\n",
        "plt.close('all')"
      ],
      "metadata": {
        "id": "y3kSK2-eFD26"
      },
      "execution_count": null,
      "outputs": []
    },
    {
      "cell_type": "markdown",
      "source": [
        "Training the model"
      ],
      "metadata": {
        "id": "rLvmetFYj1EU"
      }
    },
    {
      "cell_type": "code",
      "source": [
        "with tf.device('/GPU:0'):\n",
        "    history = model.fit(batch_size = batchSize, \n",
        "                        callbacks = [EarlyStopping(min_delta = 0.001, monitor = 'val_loss')] if useCallback else None,\n",
        "                        class_weight = None # TODO: set the weights\n",
        "                        epochs = epochs, \n",
        "                        validation_data = (XVal, YVal), \n",
        "                        validation_freq = list(range(1, epochs + 1, 2)), # Only apply validation in odd epochs\n",
        "                        verbose = 2,\n",
        "                        x = XTrain,\n",
        "                        y = YTrain) "
      ],
      "metadata": {
        "id": "YBQlworRS5M-"
      },
      "execution_count": null,
      "outputs": []
    },
    {
      "cell_type": "code",
      "source": [
        "del XTrain, YTrain\n",
        "gc.collect()"
      ],
      "metadata": {
        "id": "dVSWAlfrPH6F"
      },
      "execution_count": null,
      "outputs": []
    },
    {
      "cell_type": "markdown",
      "metadata": {
        "id": "oUCTAqwtZXq_"
      },
      "source": [
        "# Statistics"
      ]
    },
    {
      "cell_type": "markdown",
      "source": [
        "General eficiency"
      ],
      "metadata": {
        "id": "kNmDZmAyxftV"
      }
    },
    {
      "cell_type": "code",
      "source": [
        "YPredicted = model.predict(XTest)\n",
        "print('Test set evaluation: ', model.evaluate(XTest, YTest, verbose = 0))\n",
        "print('Validation set evaluation: ', model.evaluate(XVal, YVal, verbose = 0))"
      ],
      "metadata": {
        "id": "WE7LL0zwxf1W"
      },
      "execution_count": null,
      "outputs": []
    },
    {
      "cell_type": "markdown",
      "metadata": {
        "id": "8ecMbWGHewiC"
      },
      "source": [
        "Training epochs statistics"
      ]
    },
    {
      "cell_type": "code",
      "execution_count": null,
      "metadata": {
        "id": "zG7dLiHMewm8"
      },
      "outputs": [],
      "source": [
        "plt.plot(history.history['loss'])\n",
        "plt.plot(history.history['val_loss'])\n",
        "plt.title('Model loss')\n",
        "plt.ylabel('Loss')\n",
        "plt.xlabel('Epoch')\n",
        "plt.legend(['Train', 'Validation'], loc = 'upper right')\n",
        "plt.show()"
      ]
    },
    {
      "cell_type": "code",
      "source": [
        "pd.DataFrame(history.history).plot(figsize = (8,5))\n",
        "plt.title('Model Training History')\n",
        "plt.ylabel('Value')\n",
        "plt.xlabel('Epoch')\n",
        "plt.show()"
      ],
      "metadata": {
        "id": "ApQNKZFmzfV9"
      },
      "execution_count": null,
      "outputs": []
    },
    {
      "cell_type": "markdown",
      "metadata": {
        "id": "6iW5m0D1ffgd"
      },
      "source": [
        "Confusion matrix"
      ]
    },
    {
      "cell_type": "code",
      "execution_count": null,
      "metadata": {
        "id": "iDiyZhCAfGEA"
      },
      "outputs": [],
      "source": [
        "cm = confusion_matrix(YTest.argmax(axis = 1), YPredicted.argmax(axis = 1))\n",
        "\n",
        "labels = ['Bowens disease',\n",
        "          'Basal cell carcinoma',\n",
        "          'Benign keratosis',\n",
        "          'Dermatofibroma',\n",
        "          'Vascular lesion',\n",
        "          'Melanoma',\n",
        "          'Melanocytic nevi']\n",
        "dfCm = pd.DataFrame(cm, index = labels, columns = labels)\n",
        "\n",
        "plt.figure(figsize = (15, 15))\n",
        "sns.set(font_scale = 1.4) # Label size\n",
        "sns.heatmap(dfCm, annot = False, cmap=\"Blues\", annot_kws = {\"size\": 14}) # Font size\n",
        "\n",
        "for i in range(totalClasses):\n",
        "    for j in range(totalClasses):\n",
        "        text = plt.text(j + 0.5, i + 0.5, f\"{cm[i, j]:0d} ({cm[i, j] / cm[i].sum() * 100:.2f}%)\", \n",
        "                        va=\"center\", \n",
        "                        ha=\"center\",\n",
        "                        color=\"orange\",\n",
        "                        fontsize=10)\n",
        "\n",
        "ax = plt.gca()\n",
        "ax.set_xticklabels(ax.get_xticklabels(), rotation=45, ha='right')\n",
        "\n",
        "plt.title('Confusion Matrix')\n",
        "plt.ylabel('True label')\n",
        "plt.xlabel('Predicted label')\n",
        "del ax, cm, dfCm\n",
        "gc.collect()"
      ]
    },
    {
      "cell_type": "markdown",
      "source": [
        "Metrics"
      ],
      "metadata": {
        "id": "qXrwgJEbw539"
      }
    },
    {
      "cell_type": "code",
      "source": [
        "metrics = {\n",
        "    'Precision': precision_score(YTest.argmax(axis=1), YPredicted.argmax(axis=1), average=None),\n",
        "    'F1-score': f1_score(YTest.argmax(axis=1), YPredicted.argmax(axis=1), average=None),\n",
        "    'ROC AUC': roc_auc_score(YTest, YPredicted, average=None),\n",
        "    'Recall': recall_score(YTest.argmax(axis=1), YPredicted.argmax(axis=1), average=None)\n",
        "}\n",
        "\n",
        "cmMulti = multilabel_confusion_matrix(YTest.argmax(axis=1), YPredicted.argmax(axis=1))\n",
        "specificity = []\n",
        "for i in range(len(cmMulti)):\n",
        "    tn = cmMulti[i][0][0]\n",
        "    specificity.append(tn / (tn + cmMulti[i][0][1]))\n",
        "metrics[f'Specificity'] = specificity\n",
        "\n",
        "metrics[f'Confusion_Matrix'] = cmMulti\n",
        "del cmMulti, specificity"
      ],
      "metadata": {
        "id": "ZVGcTl2hsM88"
      },
      "execution_count": null,
      "outputs": []
    },
    {
      "cell_type": "code",
      "source": [
        "for metric, values in metrics.items():\n",
        "    print(metric + ':\\n')\n",
        "    if 'Confusion_Matrix' in metric:\n",
        "        for id, value in enumerate(values):\n",
        "          sns.set(font_scale = 1.4) # Label size\n",
        "          percentages = value / np.sum(value, axis = 1, keepdims = True)\n",
        "          sns.heatmap(value, annot = False, cmap = \"Blues\")\n",
        "          ax = plt.gca()\n",
        "          for i in range(len(value)):\n",
        "              for j in range(len(value)):\n",
        "                  ax.text(j + 0.5, i + 0.5, f'{value[i, j]:0d} ({percentages[i, j]*100:.0f}%)', \n",
        "                          ha='center', \n",
        "                          va='center', \n",
        "                          color='orange', \n",
        "                          fontsize = 14)\n",
        "          ax.set_yticklabels(['True', 'False'])\n",
        "          ax.set_xticklabels(['True', 'False'])\n",
        "          plt.title(f'{labels[id]}')\n",
        "          plt.ylabel('True label')\n",
        "          plt.xlabel('Predicted label')\n",
        "          plt.show()\n",
        "    else:\n",
        "        for id, value in enumerate(values):\n",
        "            df = pd.DataFrame({'Label': labels, 'Value': values})\n",
        "        print(df.to_string(index = False, col_space = 10, justify = 'center'))\n",
        "    print('\\n')"
      ],
      "metadata": {
        "id": "mOMGHwcqJpHg"
      },
      "execution_count": null,
      "outputs": []
    },
    {
      "cell_type": "markdown",
      "metadata": {
        "id": "MOSa8Znhfh6u"
      },
      "source": [
        "Saving model into google drive"
      ]
    },
    {
      "cell_type": "code",
      "execution_count": null,
      "metadata": {
        "id": "XgBtttlcfIEt"
      },
      "outputs": [],
      "source": [
        "model.save(''.join([savePath, saveName, '.h5']))\n",
        "if minMaxScalerNorm:\n",
        "    joblib.dump(minMaxScaler, ''.join([savePath, saveName, 'MMscaler.pkl']))\n",
        "elif standardScalerNorm:\n",
        "    joblib.dump(standardScaler, ''.join([savePath, saveName, 'StdScaler.pkl']))"
      ]
    }
  ],
  "metadata": {
    "accelerator": "GPU",
    "colab": {
      "provenance": [],
      "machine_shape": "hm",
      "gpuType": "A100"
    },
    "gpuClass": "standard",
    "kernelspec": {
      "display_name": "Python 3",
      "name": "python3"
    },
    "language_info": {
      "name": "python"
    }
  },
  "nbformat": 4,
  "nbformat_minor": 0
}