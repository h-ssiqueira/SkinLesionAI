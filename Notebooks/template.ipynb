{
  "cells": [
    {
      "cell_type": "markdown",
      "metadata": {
        "id": "iuyoZ4-Gygv9"
      },
      "source": [
        "## Configuration variables\n",
        "\n",
        "Index | Recommended configuration\n",
        ":---: | :---:\n",
        "1 | Rotation up to 20º<br>shear up to 15º<br>Horizontal and vertical flip<br>Vertical and horizontal shift up to 20%<br>Zoom out up to 20%\n",
        "2 | Rotation up to 15º<br>Vertical and horizontal flip<br>Image resize up to 10%"
      ]
    },
    {
      "cell_type": "code",
      "execution_count": null,
      "metadata": {
        "id": "wK0wsZE6ygCz"
      },
      "outputs": [],
      "source": [
        "### Environment\n",
        "csvMetadataPath = \"/content/gdrive/MyDrive/PUC/TCC/Datasets/ham10000/HAM10000_metadata.csv\" # \"HAM10000_metadata.csv\"\n",
        "imagesPath = \"gdrive/MyDrive/PUC/TCC/Datasets/ham10000/imgs/\" # \"images\"\n",
        "drive = True\n",
        "\n",
        "### Height and weight of images to be crop\n",
        "h, w = 200, 150\n",
        "totalImages = 5514 if removeDuplicates else 10015\n",
        "\n",
        "### Remove duplicates\n",
        "removeDuplicates = True\n",
        "\n",
        "### Segmentation\n",
        "segmentation = True\n",
        "segmentationNum = 100\n",
        "compactnessNum = 10\n",
        "\n",
        "### Data augmentation\n",
        "dataAugmentation = True\n",
        "rotation = .45\n",
        "widthShift, heightShift = .1, .1\n",
        "channelShift = .15\n",
        "shear = .2\n",
        "zoom = .25\n",
        "hFlip, vFlip = True, True\n",
        "fill = 'nearest' # constant, nearest, reflect, wrap\n",
        "cval = .5 # case the previous is constant\n",
        "bright = [.6,1.4]\n",
        "\n",
        "### Normalization\n",
        "featureCenter = False\n",
        "sampleCenter = False\n",
        "featureStdNorm = False\n",
        "sampleStdNorm = False\n",
        "zcaWhitening = False\n",
        "standardScalerNorm = True\n",
        "minMaxScalerNorm = False\n",
        "\n",
        "### Model configuration\n",
        "epochs = 5\n",
        "batchsize = 100"
      ]
    },
    {
      "cell_type": "markdown",
      "metadata": {
        "id": "VA-nf-22_XzF"
      },
      "source": [
        "# Library imports and directory mount"
      ]
    },
    {
      "cell_type": "code",
      "execution_count": null,
      "metadata": {
        "colab": {
          "base_uri": "https://localhost:8080/"
        },
        "id": "Hw1Mqezw_Rtq",
        "outputId": "2aca974c-126b-4ef7-f4f4-f30226ab167a"
      },
      "outputs": [
        {
          "output_type": "stream",
          "name": "stdout",
          "text": [
            "Looking in indexes: https://pypi.org/simple, https://us-python.pkg.dev/colab-wheels/public/simple/\n",
            "Requirement already satisfied: pip in /usr/local/lib/python3.9/dist-packages (23.0.1)\n",
            "\u001b[33mWARNING: Running pip as the 'root' user can result in broken permissions and conflicting behaviour with the system package manager. It is recommended to use a virtual environment instead: https://pip.pypa.io/warnings/venv\u001b[0m\u001b[33m\n",
            "\u001b[0mLooking in indexes: https://pypi.org/simple, https://us-python.pkg.dev/colab-wheels/public/simple/\n",
            "Requirement already satisfied: coremltools in /usr/local/lib/python3.9/dist-packages (6.2)\n",
            "Requirement already satisfied: protobuf<=4.0.0,>=3.1.0 in /usr/local/lib/python3.9/dist-packages (from coremltools) (3.19.6)\n",
            "Requirement already satisfied: packaging in /usr/local/lib/python3.9/dist-packages (from coremltools) (23.0)\n",
            "Requirement already satisfied: sympy in /usr/local/lib/python3.9/dist-packages (from coremltools) (1.7.1)\n",
            "Requirement already satisfied: numpy>=1.14.5 in /usr/local/lib/python3.9/dist-packages (from coremltools) (1.22.4)\n",
            "Requirement already satisfied: tqdm in /usr/local/lib/python3.9/dist-packages (from coremltools) (4.65.0)\n",
            "Requirement already satisfied: mpmath>=0.19 in /usr/local/lib/python3.9/dist-packages (from sympy->coremltools) (1.2.1)\n",
            "\u001b[33mWARNING: Running pip as the 'root' user can result in broken permissions and conflicting behaviour with the system package manager. It is recommended to use a virtual environment instead: https://pip.pypa.io/warnings/venv\u001b[0m\u001b[33m\n",
            "\u001b[0mDrive already mounted at /content/gdrive; to attempt to forcibly remount, call drive.mount(\"/content/gdrive\", force_remount=True).\n",
            "gdrive\tsample_data\n",
            "'arq win'\t\t\t\t        Invest.gsheet\n",
            "'Ativação windows 10'\t\t\t        Livros\n",
            "'Colab Notebooks'\t\t\t       'Mão de obra.gdoc'\n",
            " Currículo\t\t\t\t        profile\n",
            " Documentos\t\t\t\t        Programação\n",
            " Estudu\t\t\t\t\t        PUC\n",
            " git_auth.txt\t\t\t\t        Random\n",
            "'Henrique Sartori Siqueira - Glicemia.gsheet'  'Recuperação de contas'\n",
            " iLovePDF\t\t\t\t       'Untitled Diagram.drawio'\n"
          ]
        }
      ],
      "source": [
        "import matplotlib.pyplot as plt, numpy as np, pandas as pd, seaborn as sns, tensorflow as tf\n",
        "import cv2, glob, os, random, sys, warnings\n",
        "\n",
        "from keras.optimizers import Adam\n",
        "from keras.callbacks import ReduceLROnPlateau\n",
        "from keras.preprocessing.image import ImageDataGenerator\n",
        "from keras.utils import np_utils\n",
        "\n",
        "from skimage.segmentation import slic\n",
        "from skimage.transform import resize\n",
        "\n",
        "from sklearn.metrics import confusion_matrix\n",
        "from sklearn.model_selection import train_test_split\n",
        "from sklearn.preprocessing import MinMaxScaler, StandardScaler\n",
        "\n",
        "warnings.filterwarnings('ignore') \n",
        "\n",
        "sns.set() # for ploting\n",
        "\n",
        "if drive:\n",
        "    from google.colab import drive\n",
        "    drive.mount('/content/gdrive')\n",
        "    !ls\n",
        "    !ls 'gdrive/MyDrive'"
      ]
    },
    {
      "cell_type": "markdown",
      "metadata": {
        "id": "B_swJdui_gsF"
      },
      "source": [
        "# Dataset import (CSV Metadata)"
      ]
    },
    {
      "cell_type": "code",
      "execution_count": null,
      "metadata": {
        "colab": {
          "base_uri": "https://localhost:8080/",
          "height": 206
        },
        "id": "vWRqA6em_lA8",
        "outputId": "ed77fc7a-331e-4ea6-97ba-542f333fadfe"
      },
      "outputs": [
        {
          "output_type": "execute_result",
          "data": {
            "text/plain": [
              "      lesionId       imageId cancerId\n",
              "0  HAM_0000118  ISIC_0027419      bkl\n",
              "1  HAM_0000118  ISIC_0025030      bkl\n",
              "2  HAM_0002730  ISIC_0026769      bkl\n",
              "3  HAM_0002730  ISIC_0025661      bkl\n",
              "4  HAM_0001466  ISIC_0031633      bkl"
            ],
            "text/html": [
              "\n",
              "  <div id=\"df-5cdc182d-2131-4913-aa45-871eae72ffe0\">\n",
              "    <div class=\"colab-df-container\">\n",
              "      <div>\n",
              "<style scoped>\n",
              "    .dataframe tbody tr th:only-of-type {\n",
              "        vertical-align: middle;\n",
              "    }\n",
              "\n",
              "    .dataframe tbody tr th {\n",
              "        vertical-align: top;\n",
              "    }\n",
              "\n",
              "    .dataframe thead th {\n",
              "        text-align: right;\n",
              "    }\n",
              "</style>\n",
              "<table border=\"1\" class=\"dataframe\">\n",
              "  <thead>\n",
              "    <tr style=\"text-align: right;\">\n",
              "      <th></th>\n",
              "      <th>lesionId</th>\n",
              "      <th>imageId</th>\n",
              "      <th>cancerId</th>\n",
              "    </tr>\n",
              "  </thead>\n",
              "  <tbody>\n",
              "    <tr>\n",
              "      <th>0</th>\n",
              "      <td>HAM_0000118</td>\n",
              "      <td>ISIC_0027419</td>\n",
              "      <td>bkl</td>\n",
              "    </tr>\n",
              "    <tr>\n",
              "      <th>1</th>\n",
              "      <td>HAM_0000118</td>\n",
              "      <td>ISIC_0025030</td>\n",
              "      <td>bkl</td>\n",
              "    </tr>\n",
              "    <tr>\n",
              "      <th>2</th>\n",
              "      <td>HAM_0002730</td>\n",
              "      <td>ISIC_0026769</td>\n",
              "      <td>bkl</td>\n",
              "    </tr>\n",
              "    <tr>\n",
              "      <th>3</th>\n",
              "      <td>HAM_0002730</td>\n",
              "      <td>ISIC_0025661</td>\n",
              "      <td>bkl</td>\n",
              "    </tr>\n",
              "    <tr>\n",
              "      <th>4</th>\n",
              "      <td>HAM_0001466</td>\n",
              "      <td>ISIC_0031633</td>\n",
              "      <td>bkl</td>\n",
              "    </tr>\n",
              "  </tbody>\n",
              "</table>\n",
              "</div>\n",
              "      <button class=\"colab-df-convert\" onclick=\"convertToInteractive('df-5cdc182d-2131-4913-aa45-871eae72ffe0')\"\n",
              "              title=\"Convert this dataframe to an interactive table.\"\n",
              "              style=\"display:none;\">\n",
              "        \n",
              "  <svg xmlns=\"http://www.w3.org/2000/svg\" height=\"24px\"viewBox=\"0 0 24 24\"\n",
              "       width=\"24px\">\n",
              "    <path d=\"M0 0h24v24H0V0z\" fill=\"none\"/>\n",
              "    <path d=\"M18.56 5.44l.94 2.06.94-2.06 2.06-.94-2.06-.94-.94-2.06-.94 2.06-2.06.94zm-11 1L8.5 8.5l.94-2.06 2.06-.94-2.06-.94L8.5 2.5l-.94 2.06-2.06.94zm10 10l.94 2.06.94-2.06 2.06-.94-2.06-.94-.94-2.06-.94 2.06-2.06.94z\"/><path d=\"M17.41 7.96l-1.37-1.37c-.4-.4-.92-.59-1.43-.59-.52 0-1.04.2-1.43.59L10.3 9.45l-7.72 7.72c-.78.78-.78 2.05 0 2.83L4 21.41c.39.39.9.59 1.41.59.51 0 1.02-.2 1.41-.59l7.78-7.78 2.81-2.81c.8-.78.8-2.07 0-2.86zM5.41 20L4 18.59l7.72-7.72 1.47 1.35L5.41 20z\"/>\n",
              "  </svg>\n",
              "      </button>\n",
              "      \n",
              "  <style>\n",
              "    .colab-df-container {\n",
              "      display:flex;\n",
              "      flex-wrap:wrap;\n",
              "      gap: 12px;\n",
              "    }\n",
              "\n",
              "    .colab-df-convert {\n",
              "      background-color: #E8F0FE;\n",
              "      border: none;\n",
              "      border-radius: 50%;\n",
              "      cursor: pointer;\n",
              "      display: none;\n",
              "      fill: #1967D2;\n",
              "      height: 32px;\n",
              "      padding: 0 0 0 0;\n",
              "      width: 32px;\n",
              "    }\n",
              "\n",
              "    .colab-df-convert:hover {\n",
              "      background-color: #E2EBFA;\n",
              "      box-shadow: 0px 1px 2px rgba(60, 64, 67, 0.3), 0px 1px 3px 1px rgba(60, 64, 67, 0.15);\n",
              "      fill: #174EA6;\n",
              "    }\n",
              "\n",
              "    [theme=dark] .colab-df-convert {\n",
              "      background-color: #3B4455;\n",
              "      fill: #D2E3FC;\n",
              "    }\n",
              "\n",
              "    [theme=dark] .colab-df-convert:hover {\n",
              "      background-color: #434B5C;\n",
              "      box-shadow: 0px 1px 3px 1px rgba(0, 0, 0, 0.15);\n",
              "      filter: drop-shadow(0px 1px 2px rgba(0, 0, 0, 0.3));\n",
              "      fill: #FFFFFF;\n",
              "    }\n",
              "  </style>\n",
              "\n",
              "      <script>\n",
              "        const buttonEl =\n",
              "          document.querySelector('#df-5cdc182d-2131-4913-aa45-871eae72ffe0 button.colab-df-convert');\n",
              "        buttonEl.style.display =\n",
              "          google.colab.kernel.accessAllowed ? 'block' : 'none';\n",
              "\n",
              "        async function convertToInteractive(key) {\n",
              "          const element = document.querySelector('#df-5cdc182d-2131-4913-aa45-871eae72ffe0');\n",
              "          const dataTable =\n",
              "            await google.colab.kernel.invokeFunction('convertToInteractive',\n",
              "                                                     [key], {});\n",
              "          if (!dataTable) return;\n",
              "\n",
              "          const docLinkHtml = 'Like what you see? Visit the ' +\n",
              "            '<a target=\"_blank\" href=https://colab.research.google.com/notebooks/data_table.ipynb>data table notebook</a>'\n",
              "            + ' to learn more about interactive tables.';\n",
              "          element.innerHTML = '';\n",
              "          dataTable['output_type'] = 'display_data';\n",
              "          await google.colab.output.renderOutput(dataTable, element);\n",
              "          const docLink = document.createElement('div');\n",
              "          docLink.innerHTML = docLinkHtml;\n",
              "          element.appendChild(docLink);\n",
              "        }\n",
              "      </script>\n",
              "    </div>\n",
              "  </div>\n",
              "  "
            ]
          },
          "metadata": {},
          "execution_count": 4
        }
      ],
      "source": [
        "datasetMetadata = pd.read_csv(csvMetadataPath)\n",
        "datasetMetadata = datasetMetadata.drop(columns=['dx_type','age','sex','localization'])\n",
        "datasetMetadata = datasetMetadata.rename(columns={\"lesion_id\": \"lesionId\",\n",
        "                                                  \"image_id\": \"imageId\",\n",
        "                                                  \"dx\": \"cancerId\"})\n",
        "datasetMetadata.head()"
      ]
    },
    {
      "cell_type": "code",
      "execution_count": null,
      "metadata": {
        "colab": {
          "base_uri": "https://localhost:8080/"
        },
        "id": "O9THGK5kOWv-",
        "outputId": "0a2cedb0-f211-475b-c4a9-8aef37f82f40"
      },
      "outputs": [
        {
          "output_type": "execute_result",
          "data": {
            "text/plain": [
              "0    5514\n",
              "1    4501\n",
              "Name: duplicate, dtype: int64"
            ]
          },
          "metadata": {},
          "execution_count": 5
        }
      ],
      "source": [
        "datasetMetadata['duplicate'] = datasetMetadata['lesionId']      # Creating a column to indicate if the lesion has more than one image\n",
        "\n",
        "uniqueLesions = datasetMetadata.groupby('lesionId').count()     # Counts the number of lesions for each id\n",
        "uniqueLesions = uniqueLesions[uniqueLesions['imageId'] == 1]    # Filter lesions which ones have unique id\n",
        "uniqueLesions.reset_index(inplace=True)                         # Add default index column\n",
        "uniqueLesions = uniqueLesions['lesionId'].values.tolist()       # Extracts the indexes into a list\n",
        "\n",
        "datasetMetadata['duplicate'] = datasetMetadata['duplicate'].apply(lambda x: 0 if x in uniqueLesions else 1) # Fill the rows indicating if the lesion has a duplicated image\n",
        "datasetMetadata['duplicate'].value_counts()"
      ]
    },
    {
      "cell_type": "markdown",
      "metadata": {
        "id": "qE6Eucogc4Gw"
      },
      "source": [
        "Removing Duplicates"
      ]
    },
    {
      "cell_type": "code",
      "execution_count": null,
      "metadata": {
        "colab": {
          "base_uri": "https://localhost:8080/",
          "height": 206
        },
        "id": "_Hk2vbz9x72u",
        "outputId": "21ef6aec-d888-4f74-836b-63cbcfb67afa"
      },
      "outputs": [
        {
          "output_type": "execute_result",
          "data": {
            "text/plain": [
              "       lesionId       imageId cancerId  duplicate\n",
              "10  HAM_0001396  ISIC_0025276      bkl          0\n",
              "15  HAM_0007207  ISIC_0031326      bkl          0\n",
              "20  HAM_0006071  ISIC_0032343      bkl          0\n",
              "33  HAM_0005612  ISIC_0024981      bkl          0\n",
              "34  HAM_0005388  ISIC_0027815      bkl          0"
            ],
            "text/html": [
              "\n",
              "  <div id=\"df-63dae4de-199e-4265-80b3-e7cea5cf912a\">\n",
              "    <div class=\"colab-df-container\">\n",
              "      <div>\n",
              "<style scoped>\n",
              "    .dataframe tbody tr th:only-of-type {\n",
              "        vertical-align: middle;\n",
              "    }\n",
              "\n",
              "    .dataframe tbody tr th {\n",
              "        vertical-align: top;\n",
              "    }\n",
              "\n",
              "    .dataframe thead th {\n",
              "        text-align: right;\n",
              "    }\n",
              "</style>\n",
              "<table border=\"1\" class=\"dataframe\">\n",
              "  <thead>\n",
              "    <tr style=\"text-align: right;\">\n",
              "      <th></th>\n",
              "      <th>lesionId</th>\n",
              "      <th>imageId</th>\n",
              "      <th>cancerId</th>\n",
              "      <th>duplicate</th>\n",
              "    </tr>\n",
              "  </thead>\n",
              "  <tbody>\n",
              "    <tr>\n",
              "      <th>10</th>\n",
              "      <td>HAM_0001396</td>\n",
              "      <td>ISIC_0025276</td>\n",
              "      <td>bkl</td>\n",
              "      <td>0</td>\n",
              "    </tr>\n",
              "    <tr>\n",
              "      <th>15</th>\n",
              "      <td>HAM_0007207</td>\n",
              "      <td>ISIC_0031326</td>\n",
              "      <td>bkl</td>\n",
              "      <td>0</td>\n",
              "    </tr>\n",
              "    <tr>\n",
              "      <th>20</th>\n",
              "      <td>HAM_0006071</td>\n",
              "      <td>ISIC_0032343</td>\n",
              "      <td>bkl</td>\n",
              "      <td>0</td>\n",
              "    </tr>\n",
              "    <tr>\n",
              "      <th>33</th>\n",
              "      <td>HAM_0005612</td>\n",
              "      <td>ISIC_0024981</td>\n",
              "      <td>bkl</td>\n",
              "      <td>0</td>\n",
              "    </tr>\n",
              "    <tr>\n",
              "      <th>34</th>\n",
              "      <td>HAM_0005388</td>\n",
              "      <td>ISIC_0027815</td>\n",
              "      <td>bkl</td>\n",
              "      <td>0</td>\n",
              "    </tr>\n",
              "  </tbody>\n",
              "</table>\n",
              "</div>\n",
              "      <button class=\"colab-df-convert\" onclick=\"convertToInteractive('df-63dae4de-199e-4265-80b3-e7cea5cf912a')\"\n",
              "              title=\"Convert this dataframe to an interactive table.\"\n",
              "              style=\"display:none;\">\n",
              "        \n",
              "  <svg xmlns=\"http://www.w3.org/2000/svg\" height=\"24px\"viewBox=\"0 0 24 24\"\n",
              "       width=\"24px\">\n",
              "    <path d=\"M0 0h24v24H0V0z\" fill=\"none\"/>\n",
              "    <path d=\"M18.56 5.44l.94 2.06.94-2.06 2.06-.94-2.06-.94-.94-2.06-.94 2.06-2.06.94zm-11 1L8.5 8.5l.94-2.06 2.06-.94-2.06-.94L8.5 2.5l-.94 2.06-2.06.94zm10 10l.94 2.06.94-2.06 2.06-.94-2.06-.94-.94-2.06-.94 2.06-2.06.94z\"/><path d=\"M17.41 7.96l-1.37-1.37c-.4-.4-.92-.59-1.43-.59-.52 0-1.04.2-1.43.59L10.3 9.45l-7.72 7.72c-.78.78-.78 2.05 0 2.83L4 21.41c.39.39.9.59 1.41.59.51 0 1.02-.2 1.41-.59l7.78-7.78 2.81-2.81c.8-.78.8-2.07 0-2.86zM5.41 20L4 18.59l7.72-7.72 1.47 1.35L5.41 20z\"/>\n",
              "  </svg>\n",
              "      </button>\n",
              "      \n",
              "  <style>\n",
              "    .colab-df-container {\n",
              "      display:flex;\n",
              "      flex-wrap:wrap;\n",
              "      gap: 12px;\n",
              "    }\n",
              "\n",
              "    .colab-df-convert {\n",
              "      background-color: #E8F0FE;\n",
              "      border: none;\n",
              "      border-radius: 50%;\n",
              "      cursor: pointer;\n",
              "      display: none;\n",
              "      fill: #1967D2;\n",
              "      height: 32px;\n",
              "      padding: 0 0 0 0;\n",
              "      width: 32px;\n",
              "    }\n",
              "\n",
              "    .colab-df-convert:hover {\n",
              "      background-color: #E2EBFA;\n",
              "      box-shadow: 0px 1px 2px rgba(60, 64, 67, 0.3), 0px 1px 3px 1px rgba(60, 64, 67, 0.15);\n",
              "      fill: #174EA6;\n",
              "    }\n",
              "\n",
              "    [theme=dark] .colab-df-convert {\n",
              "      background-color: #3B4455;\n",
              "      fill: #D2E3FC;\n",
              "    }\n",
              "\n",
              "    [theme=dark] .colab-df-convert:hover {\n",
              "      background-color: #434B5C;\n",
              "      box-shadow: 0px 1px 3px 1px rgba(0, 0, 0, 0.15);\n",
              "      filter: drop-shadow(0px 1px 2px rgba(0, 0, 0, 0.3));\n",
              "      fill: #FFFFFF;\n",
              "    }\n",
              "  </style>\n",
              "\n",
              "      <script>\n",
              "        const buttonEl =\n",
              "          document.querySelector('#df-63dae4de-199e-4265-80b3-e7cea5cf912a button.colab-df-convert');\n",
              "        buttonEl.style.display =\n",
              "          google.colab.kernel.accessAllowed ? 'block' : 'none';\n",
              "\n",
              "        async function convertToInteractive(key) {\n",
              "          const element = document.querySelector('#df-63dae4de-199e-4265-80b3-e7cea5cf912a');\n",
              "          const dataTable =\n",
              "            await google.colab.kernel.invokeFunction('convertToInteractive',\n",
              "                                                     [key], {});\n",
              "          if (!dataTable) return;\n",
              "\n",
              "          const docLinkHtml = 'Like what you see? Visit the ' +\n",
              "            '<a target=\"_blank\" href=https://colab.research.google.com/notebooks/data_table.ipynb>data table notebook</a>'\n",
              "            + ' to learn more about interactive tables.';\n",
              "          element.innerHTML = '';\n",
              "          dataTable['output_type'] = 'display_data';\n",
              "          await google.colab.output.renderOutput(dataTable, element);\n",
              "          const docLink = document.createElement('div');\n",
              "          docLink.innerHTML = docLinkHtml;\n",
              "          element.appendChild(docLink);\n",
              "        }\n",
              "      </script>\n",
              "    </div>\n",
              "  </div>\n",
              "  "
            ]
          },
          "metadata": {},
          "execution_count": 6
        }
      ],
      "source": [
        "if removeDuplicates:\n",
        "    datasetMetadata = datasetMetadata[datasetMetadata['duplicate'] == 0]\n",
        "datasetMetadata.head()"
      ]
    },
    {
      "cell_type": "code",
      "execution_count": null,
      "metadata": {
        "colab": {
          "base_uri": "https://localhost:8080/",
          "height": 444
        },
        "id": "SrYBPrkGGwIw",
        "outputId": "76ce4d8f-980b-4a3a-f870-97bfd76165bc"
      },
      "outputs": [
        {
          "output_type": "display_data",
          "data": {
            "text/plain": [
              "<Figure size 432x288 with 1 Axes>"
            ],
            "image/png": "[encoded data removed]"
          },
          "metadata": {}
        },
        {
          "output_type": "stream",
          "name": "stdout",
          "text": [
            "cancerId\n",
            "df         39\n",
            "vasc       64\n",
            "akiec     151\n",
            "bcc       175\n",
            "mel       230\n",
            "bkl       440\n",
            "nv       4415\n",
            "dtype: int64\n",
            "Total:  5514\n"
          ]
        }
      ],
      "source": [
        "labelSize = datasetMetadata.groupby('cancerId').size().sort_values() # Sort and order every cancer class\n",
        "\n",
        "ax = labelSize.plot.barh()\n",
        "total = datasetMetadata.shape[0]\n",
        "\n",
        "for i, v in enumerate(labelSize):\n",
        "    ax.text(v + 3, i + .25, str(v) + ' (' + str(round(v/total*100, 2)) + '%)') # Set the percentage of each cancer class\n",
        "\n",
        "plt.show()\n",
        "\n",
        "print(labelSize)\n",
        "print(\"Total: \",labelSize.sum())"
      ]
    },
    {
      "cell_type": "code",
      "execution_count": null,
      "metadata": {
        "colab": {
          "base_uri": "https://localhost:8080/",
          "height": 206
        },
        "id": "zrjawKPGCCFt",
        "outputId": "0400d149-b498-4a24-a807-74c483273975"
      },
      "outputs": [
        {
          "output_type": "execute_result",
          "data": {
            "text/plain": [
              "       lesionId       imageId  cancerId  duplicate\n",
              "10  HAM_0001396  ISIC_0025276         2          0\n",
              "15  HAM_0007207  ISIC_0031326         2          0\n",
              "20  HAM_0006071  ISIC_0032343         2          0\n",
              "33  HAM_0005612  ISIC_0024981         2          0\n",
              "34  HAM_0005388  ISIC_0027815         2          0"
            ],
            "text/html": [
              "\n",
              "  <div id=\"df-2168be4c-f591-4cd9-8a63-827e7d3fdd19\">\n",
              "    <div class=\"colab-df-container\">\n",
              "      <div>\n",
              "<style scoped>\n",
              "    .dataframe tbody tr th:only-of-type {\n",
              "        vertical-align: middle;\n",
              "    }\n",
              "\n",
              "    .dataframe tbody tr th {\n",
              "        vertical-align: top;\n",
              "    }\n",
              "\n",
              "    .dataframe thead th {\n",
              "        text-align: right;\n",
              "    }\n",
              "</style>\n",
              "<table border=\"1\" class=\"dataframe\">\n",
              "  <thead>\n",
              "    <tr style=\"text-align: right;\">\n",
              "      <th></th>\n",
              "      <th>lesionId</th>\n",
              "      <th>imageId</th>\n",
              "      <th>cancerId</th>\n",
              "      <th>duplicate</th>\n",
              "    </tr>\n",
              "  </thead>\n",
              "  <tbody>\n",
              "    <tr>\n",
              "      <th>10</th>\n",
              "      <td>HAM_0001396</td>\n",
              "      <td>ISIC_0025276</td>\n",
              "      <td>2</td>\n",
              "      <td>0</td>\n",
              "    </tr>\n",
              "    <tr>\n",
              "      <th>15</th>\n",
              "      <td>HAM_0007207</td>\n",
              "      <td>ISIC_0031326</td>\n",
              "      <td>2</td>\n",
              "      <td>0</td>\n",
              "    </tr>\n",
              "    <tr>\n",
              "      <th>20</th>\n",
              "      <td>HAM_0006071</td>\n",
              "      <td>ISIC_0032343</td>\n",
              "      <td>2</td>\n",
              "      <td>0</td>\n",
              "    </tr>\n",
              "    <tr>\n",
              "      <th>33</th>\n",
              "      <td>HAM_0005612</td>\n",
              "      <td>ISIC_0024981</td>\n",
              "      <td>2</td>\n",
              "      <td>0</td>\n",
              "    </tr>\n",
              "    <tr>\n",
              "      <th>34</th>\n",
              "      <td>HAM_0005388</td>\n",
              "      <td>ISIC_0027815</td>\n",
              "      <td>2</td>\n",
              "      <td>0</td>\n",
              "    </tr>\n",
              "  </tbody>\n",
              "</table>\n",
              "</div>\n",
              "      <button class=\"colab-df-convert\" onclick=\"convertToInteractive('df-2168be4c-f591-4cd9-8a63-827e7d3fdd19')\"\n",
              "              title=\"Convert this dataframe to an interactive table.\"\n",
              "              style=\"display:none;\">\n",
              "        \n",
              "  <svg xmlns=\"http://www.w3.org/2000/svg\" height=\"24px\"viewBox=\"0 0 24 24\"\n",
              "       width=\"24px\">\n",
              "    <path d=\"M0 0h24v24H0V0z\" fill=\"none\"/>\n",
              "    <path d=\"M18.56 5.44l.94 2.06.94-2.06 2.06-.94-2.06-.94-.94-2.06-.94 2.06-2.06.94zm-11 1L8.5 8.5l.94-2.06 2.06-.94-2.06-.94L8.5 2.5l-.94 2.06-2.06.94zm10 10l.94 2.06.94-2.06 2.06-.94-2.06-.94-.94-2.06-.94 2.06-2.06.94z\"/><path d=\"M17.41 7.96l-1.37-1.37c-.4-.4-.92-.59-1.43-.59-.52 0-1.04.2-1.43.59L10.3 9.45l-7.72 7.72c-.78.78-.78 2.05 0 2.83L4 21.41c.39.39.9.59 1.41.59.51 0 1.02-.2 1.41-.59l7.78-7.78 2.81-2.81c.8-.78.8-2.07 0-2.86zM5.41 20L4 18.59l7.72-7.72 1.47 1.35L5.41 20z\"/>\n",
              "  </svg>\n",
              "      </button>\n",
              "      \n",
              "  <style>\n",
              "    .colab-df-container {\n",
              "      display:flex;\n",
              "      flex-wrap:wrap;\n",
              "      gap: 12px;\n",
              "    }\n",
              "\n",
              "    .colab-df-convert {\n",
              "      background-color: #E8F0FE;\n",
              "      border: none;\n",
              "      border-radius: 50%;\n",
              "      cursor: pointer;\n",
              "      display: none;\n",
              "      fill: #1967D2;\n",
              "      height: 32px;\n",
              "      padding: 0 0 0 0;\n",
              "      width: 32px;\n",
              "    }\n",
              "\n",
              "    .colab-df-convert:hover {\n",
              "      background-color: #E2EBFA;\n",
              "      box-shadow: 0px 1px 2px rgba(60, 64, 67, 0.3), 0px 1px 3px 1px rgba(60, 64, 67, 0.15);\n",
              "      fill: #174EA6;\n",
              "    }\n",
              "\n",
              "    [theme=dark] .colab-df-convert {\n",
              "      background-color: #3B4455;\n",
              "      fill: #D2E3FC;\n",
              "    }\n",
              "\n",
              "    [theme=dark] .colab-df-convert:hover {\n",
              "      background-color: #434B5C;\n",
              "      box-shadow: 0px 1px 3px 1px rgba(0, 0, 0, 0.15);\n",
              "      filter: drop-shadow(0px 1px 2px rgba(0, 0, 0, 0.3));\n",
              "      fill: #FFFFFF;\n",
              "    }\n",
              "  </style>\n",
              "\n",
              "      <script>\n",
              "        const buttonEl =\n",
              "          document.querySelector('#df-2168be4c-f591-4cd9-8a63-827e7d3fdd19 button.colab-df-convert');\n",
              "        buttonEl.style.display =\n",
              "          google.colab.kernel.accessAllowed ? 'block' : 'none';\n",
              "\n",
              "        async function convertToInteractive(key) {\n",
              "          const element = document.querySelector('#df-2168be4c-f591-4cd9-8a63-827e7d3fdd19');\n",
              "          const dataTable =\n",
              "            await google.colab.kernel.invokeFunction('convertToInteractive',\n",
              "                                                     [key], {});\n",
              "          if (!dataTable) return;\n",
              "\n",
              "          const docLinkHtml = 'Like what you see? Visit the ' +\n",
              "            '<a target=\"_blank\" href=https://colab.research.google.com/notebooks/data_table.ipynb>data table notebook</a>'\n",
              "            + ' to learn more about interactive tables.';\n",
              "          element.innerHTML = '';\n",
              "          dataTable['output_type'] = 'display_data';\n",
              "          await google.colab.output.renderOutput(dataTable, element);\n",
              "          const docLink = document.createElement('div');\n",
              "          docLink.innerHTML = docLinkHtml;\n",
              "          element.appendChild(docLink);\n",
              "        }\n",
              "      </script>\n",
              "    </div>\n",
              "  </div>\n",
              "  "
            ]
          },
          "metadata": {},
          "execution_count": 8
        }
      ],
      "source": [
        "cancerType = {\n",
        "    'akiec': 0, # 0.0 - 'Doenca de Bowens'\n",
        "    'bcc':   1, # 1.0 - 'Carcinoma basocelular'\n",
        "    'bkl':   2, # 2.0 - 'Keratose benigna'\n",
        "    'df':    3, # 3.0 - 'Dermatofibroma'\n",
        "    'nv':    4, # 4.0 - 'Nevo melanocitico'\n",
        "    'vasc':  5, # 5.0 - 'Lesao vascular'\n",
        "    'mel':   6  # 6.0 - 'Melanoma'\n",
        "}\n",
        "\n",
        "datasetMetadata['cancerId'] = datasetMetadata['cancerId'].map(cancerType)\n",
        "datasetMetadata.head()"
      ]
    },
    {
      "cell_type": "markdown",
      "metadata": {
        "id": "psdovo08Q8Nu"
      },
      "source": [
        "# Dataset import (Imgs)"
      ]
    },
    {
      "cell_type": "markdown",
      "metadata": {
        "id": "vNR9jkwco5Pp"
      },
      "source": [
        "https://scikit-image.org/docs/stable/api/skimage.segmentation.html"
      ]
    },
    {
      "cell_type": "code",
      "execution_count": null,
      "metadata": {
        "colab": {
          "base_uri": "https://localhost:8080/"
        },
        "id": "kIBPw66BJMih",
        "outputId": "1548046b-3355-478c-ba0d-c9e601e18cfb"
      },
      "outputs": [
        {
          "output_type": "stream",
          "name": "stdout",
          "text": [
            "1000\n",
            "2000\n",
            "3000\n",
            "4000\n",
            "5000\n"
          ]
        }
      ],
      "source": [
        "# Path to the dataset images\n",
        "# /content/gdrive/MyDrive/PUC/TCC/Datasets/ham10000/imgs/<imgId>.jpg\n",
        "\n",
        "images = []\n",
        "count = 0\n",
        "\n",
        "for index, row in datasetMetadata.iterrows():\n",
        "    img = cv2.imread(imagesPath+row['imageId']+'.jpg') # Collect the image from drive\n",
        "    img = cv2.cvtColor(img, cv2.COLOR_BGR2RGB)   # Invert color BGR => RGB\n",
        "    if segmentation:\n",
        "        # Segment the image into superpixels using SLIC\n",
        "        segments = slic(img, n_segments=segmentationNum, compactness=compactnessNum)\n",
        "\n",
        "        # Resize the superpixels to widthxheight pixels\n",
        "        resizedSegments = resize(segments, (w, h), order=0, anti_aliasing=False)\n",
        "\n",
        "        # Reassemble the resized superpixels to form the resized image\n",
        "        img = resize(img, resizedSegments.shape, order=3, anti_aliasing=True)\n",
        "    else:\n",
        "        img = cv2.resize(img, (h, w))            # Resize the image according to params provided\n",
        "    images.append(img)\n",
        "    \n",
        "    count = count + 1\n",
        "    if count % 1000 == 0:\n",
        "        print(count)"
      ]
    },
    {
      "cell_type": "code",
      "execution_count": null,
      "metadata": {
        "id": "YLbcmS9zWf0F",
        "colab": {
          "base_uri": "https://localhost:8080/",
          "height": 393
        },
        "outputId": "fce95d04-15e7-46f3-8426-205a11c5332d"
      },
      "outputs": [
        {
          "output_type": "stream",
          "name": "stdout",
          "text": [
            "5514\n",
            "lesionId      HAM_0001396\n",
            "imageId      ISIC_0025276\n",
            "cancerId                2\n",
            "duplicate               0\n",
            "Name: 10, dtype: object\n",
            "(150, 200, 3)\n"
          ]
        },
        {
          "output_type": "display_data",
          "data": {
            "text/plain": [
              "<Figure size 432x288 with 1 Axes>"
            ],
            "image/png": "[encoded data removed]"
          },
          "metadata": {}
        }
      ],
      "source": [
        "plt.imshow(images[0])\n",
        "print(len(images))\n",
        "print(datasetMetadata.iloc[0])\n",
        "print(images[0].shape)\n",
        "plt.show()"
      ]
    },
    {
      "cell_type": "markdown",
      "metadata": {
        "id": "OPCe8saYY5hx"
      },
      "source": [
        "# Images treatment"
      ]
    },
    {
      "cell_type": "code",
      "execution_count": null,
      "metadata": {
        "id": "nJF7vWenAzX7",
        "colab": {
          "base_uri": "https://localhost:8080/"
        },
        "outputId": "38891a1f-7bdf-479e-a802-c2a6527b8588"
      },
      "outputs": [
        {
          "output_type": "stream",
          "name": "stdout",
          "text": [
            "[[[0.08798284 0.04617295 0.06118313]\n",
            "  [0.0940492  0.04779206 0.06334211]\n",
            "  [0.09196183 0.04762291 0.06047315]\n",
            "  ...\n",
            "  [0.23838331 0.16227558 0.18445648]\n",
            "  [0.2453367  0.16407934 0.18595223]\n",
            "  [0.24355655 0.16121152 0.18082473]]\n",
            "\n",
            " [[0.08657379 0.04494788 0.05946013]\n",
            "  [0.08461044 0.04525108 0.05866097]\n",
            "  [0.08561737 0.04852938 0.06602223]\n",
            "  ...\n",
            "  [0.2330937  0.15976566 0.17265142]\n",
            "  [0.24040902 0.15786603 0.17707156]\n",
            "  [0.24310128 0.15949682 0.17934371]]\n",
            "\n",
            " [[0.08436702 0.04877342 0.06180021]\n",
            "  [0.0835926  0.04770761 0.05620683]\n",
            "  [0.08422213 0.04943354 0.06091174]\n",
            "  ...\n",
            "  [0.22246014 0.15316025 0.16732396]\n",
            "  [0.23383193 0.1515347  0.17045628]\n",
            "  [0.23606596 0.15667591 0.17021461]]\n",
            "\n",
            " ...\n",
            "\n",
            " [[0.22036168 0.16137817 0.18993788]\n",
            "  [0.23778204 0.17782246 0.20335318]\n",
            "  [0.2574281  0.19826606 0.2185463 ]\n",
            "  ...\n",
            "  [0.50078646 0.43794559 0.42188051]\n",
            "  [0.47954633 0.41806516 0.41656611]\n",
            "  [0.45161836 0.40339558 0.39981728]]\n",
            "\n",
            " [[0.21211218 0.15478114 0.18111449]\n",
            "  [0.22675215 0.16881016 0.18750674]\n",
            "  [0.24335635 0.18284049 0.20628676]\n",
            "  ...\n",
            "  [0.4807743  0.42086344 0.4103702 ]\n",
            "  [0.45359882 0.39714693 0.39312558]\n",
            "  [0.42577073 0.37449791 0.37302569]]\n",
            "\n",
            " [[0.20317429 0.14673085 0.17479463]\n",
            "  [0.21886973 0.15970507 0.18866562]\n",
            "  [0.22789785 0.17018912 0.20480948]\n",
            "  ...\n",
            "  [0.46935091 0.41850422 0.41440291]\n",
            "  [0.43462124 0.38436485 0.38209026]\n",
            "  [0.40541141 0.34859763 0.34677158]]]\n",
            "(5514, 150, 200, 3)\n",
            "(5514, 90000)\n"
          ]
        }
      ],
      "source": [
        "images = np.array(images) # Transform images list into np array\n",
        "print(images[0])\n",
        "print(images.shape)\n",
        "\n",
        "images = images.reshape(totalImages, h * w * 3) # 4d -> 2d\n",
        "print(images.shape)"
      ]
    },
    {
      "cell_type": "markdown",
      "metadata": {
        "id": "qXAtRMQHZZ9X"
      },
      "source": [
        "## Model input treatment"
      ]
    },
    {
      "cell_type": "markdown",
      "metadata": {
        "id": "m9q4nWYQeNU0"
      },
      "source": [
        "Spliting in training and test balancing the batches by the cancer id"
      ]
    },
    {
      "cell_type": "code",
      "execution_count": null,
      "metadata": {
        "id": "bLemfETheP3T"
      },
      "outputs": [],
      "source": [
        "XTrain, XTest, YTrain, YTest = train_test_split(images,datasetMetadata['cancerId'], test_size = 0.2, train_size = 0.8, stratify=datasetMetadata['cancerId'])"
      ]
    },
    {
      "cell_type": "markdown",
      "metadata": {
        "id": "qkJy_BxZdoTz"
      },
      "source": [
        "Normalization"
      ]
    },
    {
      "cell_type": "code",
      "execution_count": null,
      "metadata": {
        "id": "uMHsqqWLdn8V"
      },
      "outputs": [],
      "source": [
        "if minMaxScalerNorm:\n",
        "    minMaxScaler = MinMaxScaler()\n",
        "    minMaxScaler.fit(np.asarray(XTrain))\n",
        "\n",
        "    XTrain = minMaxScaler.transform(XTrain)\n",
        "    XTest = minMaxScaler.transform(XTest)\n",
        "elif standardScalerNorm:\n",
        "    standardScaler = StandardScaler()\n",
        "    standardScaler.fit(np.asarray(XTrain))\n",
        "\n",
        "    XTrain = standardScaler.transform(XTrain)\n",
        "    XTest = standardScaler.transform(XTest)\n",
        "\n",
        "print(np.shape(XTest))\n",
        "print(np.shape(XTrain))\n",
        "print(YTrain.head())"
      ]
    },
    {
      "cell_type": "markdown",
      "metadata": {
        "id": "BXbxLdHMdlvD"
      },
      "source": [
        "Resize"
      ]
    },
    {
      "cell_type": "code",
      "execution_count": null,
      "metadata": {
        "colab": {
          "base_uri": "https://localhost:8080/"
        },
        "id": "6GOF05mmeT_v",
        "outputId": "b561bf25-341b-466a-8b31-985aec4d7a20"
      },
      "outputs": [
        {
          "output_type": "stream",
          "name": "stdout",
          "text": [
            "4411\n",
            "1103\n",
            "(150, 200, 3)\n",
            "[[[0.8666667  0.58299595 0.627451  ]\n",
            "  [0.8666667  0.6        0.63241106]\n",
            "  [0.8784314  0.6090535  0.61960787]\n",
            "  ...\n",
            "  [0.8666667  0.58431375 0.63385826]\n",
            "  [0.87058824 0.5882353  0.63779527]\n",
            "  [0.85490197 0.5882353  0.6313726 ]]\n",
            "\n",
            " [[0.8745098  0.5668016  0.61960787]\n",
            "  [0.8784314  0.60084033 0.627451  ]\n",
            "  [0.8745098  0.6041667  0.6313726 ]\n",
            "  ...\n",
            "  [0.8784314  0.67391306 0.627451  ]\n",
            "  [0.87058824 0.6329114  0.63529414]\n",
            "  [0.8745098  0.6344538  0.63529414]]\n",
            "\n",
            " [[0.8745098  0.5668016  0.62204725]\n",
            "  [0.8666667  0.60337555 0.63095236]\n",
            "  [0.85490197 0.5840336  0.61960787]\n",
            "  ...\n",
            "  [0.87058824 0.66523606 0.63779527]\n",
            "  [0.8666667  0.64102566 0.6456693 ]\n",
            "  [0.8745098  0.6344538  0.6392157 ]]\n",
            "\n",
            " ...\n",
            "\n",
            " [[0.47843137 0.28458497 0.284     ]\n",
            "  [0.5176471  0.3531915  0.31325302]\n",
            "  [0.5019608  0.33617023 0.28235295]\n",
            "  ...\n",
            "  [0.8235294  0.5866142  0.6117647 ]\n",
            "  [0.8        0.5551181  0.5882353 ]\n",
            "  [0.8117647  0.57831323 0.6007905 ]]\n",
            "\n",
            " [[0.6431373  0.3888889  0.4       ]\n",
            "  [0.5058824  0.29237288 0.27165353]\n",
            "  [0.44313726 0.28936172 0.2559055 ]\n",
            "  ...\n",
            "  [0.8156863  0.58498025 0.5882353 ]\n",
            "  [0.8235294  0.5936255  0.6156863 ]\n",
            "  [0.8117647  0.5708502  0.5921569 ]]\n",
            "\n",
            " [[0.7921569  0.60714287 0.5826772 ]\n",
            "  [0.7882353  0.5854701  0.5294118 ]\n",
            "  [0.67058825 0.4059829  0.38188976]\n",
            "  ...\n",
            "  [0.8235294  0.6182573  0.6039216 ]\n",
            "  [0.8156863  0.5764706  0.6039216 ]\n",
            "  [0.8235294  0.602459   0.60784316]]]\n"
          ]
        }
      ],
      "source": [
        "print(XTrain.shape[0])\n",
        "print(XTest.shape[0])\n",
        "XTrain = XTrain.reshape(XTrain.shape[0], h, w, 3).astype('float32')\n",
        "XTest = XTest.reshape(XTest.shape[0], h, w, 3).astype('float32')\n",
        "\n",
        "YTrain = np_utils.to_categorical(YTrain)\n",
        "YTest = np_utils.to_categorical(YTest)\n",
        "\n",
        "print(XTrain[0].shape)\n",
        "print(XTrain[0])"
      ]
    },
    {
      "cell_type": "markdown",
      "metadata": {
        "id": "utpkQiY2dD58"
      },
      "source": [
        "### Data augmentation\n",
        "\n",
        "Only be applied in the training set"
      ]
    },
    {
      "cell_type": "code",
      "execution_count": null,
      "metadata": {
        "id": "sEb-yUHLdwSV",
        "colab": {
          "base_uri": "https://localhost:8080/"
        },
        "outputId": "3a97d89f-3a7e-4cb4-ca54-f6327e9b6478"
      },
      "outputs": [
        {
          "output_type": "stream",
          "name": "stdout",
          "text": [
            "(4411, 150, 200, 3)\n",
            "396990000\n",
            "(4411, 150, 200, 3)\n",
            "396990000\n"
          ]
        }
      ],
      "source": [
        "if dataAugmentation:\n",
        "    datagen = ImageDataGenerator(\n",
        "            # Normalizations\n",
        "            featurewise_center = featureCenter,\n",
        "            samplewise_center = sampleCenter,\n",
        "            featurewise_std_normalization = featureStdNorm,\n",
        "            samplewise_std_normalization = sampleStdNorm,\n",
        "            zca_whitening = zcaWhitening,\n",
        "            # Image modifications\n",
        "            rotation_range = rotation,\n",
        "            zoom_range = zoom,\n",
        "            channel_shift_range = channelShift,\n",
        "            fill_mode = fill,\n",
        "            cval = cval,\n",
        "            width_shift_range = widthShift,\n",
        "            height_shift_range = heightShift,\n",
        "            horizontal_flip = hFlip,\n",
        "            brightness_range = bright,\n",
        "            shear_range = shear,\n",
        "            vertical_flip = vFlip)\n",
        "\n",
        "    print(XTrain.shape)\n",
        "    print(XTrain.size)\n",
        "    datagen.fit(XTrain)\n",
        "    print(XTrain.shape)\n",
        "    print(XTrain.size)"
      ]
    },
    {
      "cell_type": "markdown",
      "metadata": {
        "id": "gjwFM-cJZS3m"
      },
      "source": [
        "# Model training"
      ]
    },
    {
      "cell_type": "markdown",
      "metadata": {
        "id": "ABMk_62CdweF"
      },
      "source": [
        "Loading pre treined model"
      ]
    },
    {
      "cell_type": "code",
      "source": [
        "#model = tf.keras.applications.(weights='imagenet', include_top=False, classes=7, input_shape=(h,w,3))\n",
        "\n",
        "for layer in model.layers:\n",
        "  layer.trainable = False\n",
        "\n",
        "prediction = tf.keras.layers.Dense(7, activation='softmax')(tf.keras.layers.Flatten()(model.output)) # 7 classes\n",
        "\n",
        "model = tf.keras.Model(inputs=model.input, outputs=prediction)"
      ],
      "metadata": {
        "id": "sAN7huVP5Pf_"
      },
      "execution_count": null,
      "outputs": []
    },
    {
      "cell_type": "code",
      "source": [
        "optimizer = Adam(lr=0.001, beta_1=0.9, beta_2=0.999, epsilon=None, decay=0.0, amsgrad=False)\n",
        "model.compile(optimizer = optimizer , loss = \"sparse_categorical_crossentropy\", metrics=[\"accuracy\"])\n",
        "learning_rate_reduction = ReduceLROnPlateau(monitor='val_acc', \n",
        "                                            patience=3, \n",
        "                                            verbose=1, \n",
        "                                            factor=0.5, \n",
        "                                            min_lr=0.00001)"
      ],
      "metadata": {
        "id": "2qT2YIkz5PUr"
      },
      "execution_count": null,
      "outputs": []
    },
    {
      "cell_type": "code",
      "source": [
        "if dataAugmentation:\n",
        "    history = model.fit_generator(datagen.flow(XTrain,YTrain, batch_size=batchsize),\n",
        "                                epochs = epochs, validation_data = (XTest,YTest),\n",
        "                                verbose = 2, steps_per_epoch=XTrain.shape[0] // batchSize,\n",
        "                                callbacks=[learning_rate_reduction])\n",
        "else:\n",
        "    history = model.fit(XTrain, YTrain, validation_data=(XTest, YTest), epochs=epochs, batch_size=batchSize, verbose=2)"
      ],
      "metadata": {
        "id": "YBQlworRS5M-"
      },
      "execution_count": null,
      "outputs": []
    },
    {
      "cell_type": "markdown",
      "metadata": {
        "id": "oUCTAqwtZXq_"
      },
      "source": [
        "# Statistics"
      ]
    },
    {
      "cell_type": "markdown",
      "metadata": {
        "id": "8ecMbWGHewiC"
      },
      "source": [
        "Training epochs statistics"
      ]
    },
    {
      "cell_type": "code",
      "execution_count": null,
      "metadata": {
        "id": "zG7dLiHMewm8"
      },
      "outputs": [],
      "source": [
        "plt.plot(history.history['loss'])\n",
        "plt.plot(history.history['val_loss'])\n",
        "plt.title('Model loss')\n",
        "plt.ylabel('Loss')\n",
        "plt.xlabel('Epoch')\n",
        "plt.legend(['Train', 'Test'], loc='upper left')\n",
        "plt.show()"
      ]
    },
    {
      "cell_type": "markdown",
      "source": [
        "General eficiency"
      ],
      "metadata": {
        "id": "kNmDZmAyxftV"
      }
    },
    {
      "cell_type": "code",
      "source": [
        "model.evaluate(XTest,YTest, verbose=0)"
      ],
      "metadata": {
        "id": "WE7LL0zwxf1W"
      },
      "execution_count": null,
      "outputs": []
    },
    {
      "cell_type": "markdown",
      "metadata": {
        "id": "6iW5m0D1ffgd"
      },
      "source": [
        "Confusion matrix"
      ]
    },
    {
      "cell_type": "code",
      "execution_count": null,
      "metadata": {
        "id": "iDiyZhCAfGEA"
      },
      "outputs": [],
      "source": [
        "cm=confusion_matrix(YTest.argmax(axis=1),model.predict(XTest).argmax(axis=1))\n",
        "dfCm = pd.DataFrame(cm, range(7),range(7))\n",
        "plt.figure(figsize = (12,12))\n",
        "sns.set(font_scale=1.4) # for label size\n",
        "sns.heatmap(dfCm, annot=False, annot_kws={\"size\": 12}) # font size\n",
        "\n",
        "for i in range(7):\n",
        "    for j in range(7):\n",
        "        text = plt.text(j + 0.5, i + 0.5, \"{:.2f}%\".format(cm[i, j] / cm[i].sum() * 100), va=\"center\", ha=\"center\", color=\"g\")\n",
        "\n",
        "\n",
        "plt.ylabel('True label')\n",
        "plt.xlabel('Predicted label')"
      ]
    },
    {
      "cell_type": "markdown",
      "metadata": {
        "id": "MOSa8Znhfh6u"
      },
      "source": [
        "Saving model into google drive"
      ]
    },
    {
      "cell_type": "code",
      "execution_count": null,
      "metadata": {
        "id": "XgBtttlcfIEt"
      },
      "outputs": [],
      "source": [
        "#model.save('/content/gdrive/MyDrive/PUC/TCC/Notebooks/simples.h5')"
      ]
    },
    {
      "cell_type": "markdown",
      "metadata": {
        "id": "KqnItrVpviuP"
      },
      "source": [
        "# Transfer Learning"
      ]
    }
  ],
  "metadata": {
    "accelerator": "TPU",
    "colab": {
      "provenance": []
    },
    "gpuClass": "standard",
    "kernelspec": {
      "display_name": "Python 3",
      "name": "python3"
    },
    "language_info": {
      "name": "python"
    }
  },
  "nbformat": 4,
  "nbformat_minor": 0
}