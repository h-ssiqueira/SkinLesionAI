{
  "nbformat": 4,
  "nbformat_minor": 0,
  "metadata": {
    "colab": {
      "provenance": [],
      "collapsed_sections": [
        "N-wIdj_qnbIM"
      ]
    },
    "kernelspec": {
      "name": "python3",
      "display_name": "Python 3"
    },
    "language_info": {
      "name": "python"
    },
    "accelerator": "TPU"
  },
  "cells": [
    {
      "cell_type": "markdown",
      "source": [
        "Update and install libraries"
      ],
      "metadata": {
        "id": "Odfu9VM97UiK"
      }
    },
    {
      "cell_type": "code",
      "source": [
        "!git clone --depth=1 https://github.com/google-research/vision_transformer\n",
        "!cd vision_transformer && git pull && cd ..\n",
        "\n",
        "!pip install -qr vision_transformer/vit_jax/requirements.txt\n",
        "!pip install -q tfds-nightly"
      ],
      "metadata": {
        "colab": {
          "base_uri": "https://localhost:8080/"
        },
        "id": "EPhNxU_eCuEi",
        "outputId": "7c7deb78-e611-4df5-cc15-cdcbbf108c49"
      },
      "execution_count": 1,
      "outputs": [
        {
          "output_type": "stream",
          "name": "stdout",
          "text": [
            "fatal: destination path 'vision_transformer' already exists and is not an empty directory.\n",
            "Already up to date.\n",
            "  Preparing metadata (setup.py) ... \u001b[?25l\u001b[?25hdone\n",
            "\u001b[2K     \u001b[90m━━━━━━━━━━━━━━━━━━━━━━━━━━━━━━━━━━━━━━━\u001b[0m \u001b[32m225.9/225.9 kB\u001b[0m \u001b[31m4.1 MB/s\u001b[0m eta \u001b[36m0:00:00\u001b[0m\n",
            "\u001b[?25h\u001b[33mWARNING: jax 0.4.13 does not provide the extra 'cuda11_cudnn82'\u001b[0m\u001b[33m\n",
            "\u001b[0m"
          ]
        }
      ]
    },
    {
      "cell_type": "code",
      "source": [
        "!pip list | grep jax"
      ],
      "metadata": {
        "colab": {
          "base_uri": "https://localhost:8080/"
        },
        "id": "ZjlI3HUmsnJT",
        "outputId": "ea23a249-eac1-4d22-d909-a122a336fe8c"
      },
      "execution_count": 2,
      "outputs": [
        {
          "output_type": "stream",
          "name": "stdout",
          "text": [
            "jax                              0.4.13\n",
            "jaxlib                           0.3.25\n"
          ]
        }
      ]
    },
    {
      "cell_type": "markdown",
      "source": [
        "Import libraries in correct version\n"
      ],
      "metadata": {
        "id": "PMoIaRnMy20k"
      }
    },
    {
      "cell_type": "code",
      "source": [
        "!pip install jax==0.3.25 jaxlib==0.3.25 flax==0.6.2 orbax-checkpoint==0.1.1\n",
        "\n",
        "!pip list | grep jax"
      ],
      "metadata": {
        "colab": {
          "base_uri": "https://localhost:8080/"
        },
        "id": "9apUMj7J3jsC",
        "outputId": "57a0c068-9974-4c94-cfdf-372a3dec2fa2"
      },
      "execution_count": 3,
      "outputs": [
        {
          "output_type": "stream",
          "name": "stdout",
          "text": [
            "Collecting jax==0.3.25\n",
            "  Using cached jax-0.3.25-py3-none-any.whl\n",
            "Requirement already satisfied: jaxlib==0.3.25 in /usr/local/lib/python3.10/dist-packages (0.3.25)\n",
            "Collecting flax==0.6.2\n",
            "  Using cached flax-0.6.2-py3-none-any.whl (189 kB)\n",
            "Requirement already satisfied: orbax-checkpoint==0.1.1 in /usr/local/lib/python3.10/dist-packages (0.1.1)\n",
            "Requirement already satisfied: numpy>=1.20 in /usr/local/lib/python3.10/dist-packages (from jax==0.3.25) (1.24.3)\n",
            "Requirement already satisfied: opt-einsum in /usr/local/lib/python3.10/dist-packages (from jax==0.3.25) (3.3.0)\n",
            "Requirement already satisfied: scipy>=1.5 in /usr/local/lib/python3.10/dist-packages (from jax==0.3.25) (1.11.1)\n",
            "Requirement already satisfied: typing-extensions in /usr/local/lib/python3.10/dist-packages (from jax==0.3.25) (4.5.0)\n",
            "Requirement already satisfied: matplotlib in /usr/local/lib/python3.10/dist-packages (from flax==0.6.2) (3.7.1)\n",
            "Requirement already satisfied: msgpack in /usr/local/lib/python3.10/dist-packages (from flax==0.6.2) (1.0.5)\n",
            "Requirement already satisfied: optax in /usr/local/lib/python3.10/dist-packages (from flax==0.6.2) (0.1.5)\n",
            "Requirement already satisfied: tensorstore in /usr/local/lib/python3.10/dist-packages (from flax==0.6.2) (0.1.40)\n",
            "Requirement already satisfied: rich>=11.1 in /usr/local/lib/python3.10/dist-packages (from flax==0.6.2) (13.4.2)\n",
            "Requirement already satisfied: PyYAML>=5.4.1 in /usr/local/lib/python3.10/dist-packages (from flax==0.6.2) (6.0)\n",
            "Requirement already satisfied: absl-py in /usr/local/lib/python3.10/dist-packages (from orbax-checkpoint==0.1.1) (1.4.0)\n",
            "Requirement already satisfied: cached_property in /usr/local/lib/python3.10/dist-packages (from orbax-checkpoint==0.1.1) (1.5.2)\n",
            "Requirement already satisfied: importlib_resources in /usr/local/lib/python3.10/dist-packages (from orbax-checkpoint==0.1.1) (6.0.0)\n",
            "Requirement already satisfied: etils in /usr/local/lib/python3.10/dist-packages (from orbax-checkpoint==0.1.1) (1.3.0)\n",
            "Requirement already satisfied: markdown-it-py>=2.2.0 in /usr/local/lib/python3.10/dist-packages (from rich>=11.1->flax==0.6.2) (3.0.0)\n",
            "Requirement already satisfied: pygments<3.0.0,>=2.13.0 in /usr/local/lib/python3.10/dist-packages (from rich>=11.1->flax==0.6.2) (2.14.0)\n",
            "Requirement already satisfied: contourpy>=1.0.1 in /usr/local/lib/python3.10/dist-packages (from matplotlib->flax==0.6.2) (1.1.0)\n",
            "Requirement already satisfied: cycler>=0.10 in /usr/local/lib/python3.10/dist-packages (from matplotlib->flax==0.6.2) (0.11.0)\n",
            "Requirement already satisfied: fonttools>=4.22.0 in /usr/local/lib/python3.10/dist-packages (from matplotlib->flax==0.6.2) (4.40.0)\n",
            "Requirement already satisfied: kiwisolver>=1.0.1 in /usr/local/lib/python3.10/dist-packages (from matplotlib->flax==0.6.2) (1.4.4)\n",
            "Requirement already satisfied: packaging>=20.0 in /usr/local/lib/python3.10/dist-packages (from matplotlib->flax==0.6.2) (23.1)\n",
            "Requirement already satisfied: pillow>=6.2.0 in /usr/local/lib/python3.10/dist-packages (from matplotlib->flax==0.6.2) (8.4.0)\n",
            "Requirement already satisfied: pyparsing>=2.3.1 in /usr/local/lib/python3.10/dist-packages (from matplotlib->flax==0.6.2) (3.1.0)\n",
            "Requirement already satisfied: python-dateutil>=2.7 in /usr/local/lib/python3.10/dist-packages (from matplotlib->flax==0.6.2) (2.8.2)\n",
            "Requirement already satisfied: chex>=0.1.5 in /usr/local/lib/python3.10/dist-packages (from optax->flax==0.6.2) (0.1.6)\n",
            "Requirement already satisfied: dm-tree>=0.1.5 in /usr/local/lib/python3.10/dist-packages (from chex>=0.1.5->optax->flax==0.6.2) (0.1.8)\n",
            "Requirement already satisfied: toolz>=0.9.0 in /usr/local/lib/python3.10/dist-packages (from chex>=0.1.5->optax->flax==0.6.2) (0.12.0)\n",
            "Requirement already satisfied: mdurl~=0.1 in /usr/local/lib/python3.10/dist-packages (from markdown-it-py>=2.2.0->rich>=11.1->flax==0.6.2) (0.1.2)\n",
            "Requirement already satisfied: six>=1.5 in /usr/local/lib/python3.10/dist-packages (from python-dateutil>=2.7->matplotlib->flax==0.6.2) (1.16.0)\n",
            "Installing collected packages: jax, flax\n",
            "  Attempting uninstall: jax\n",
            "    Found existing installation: jax 0.4.13\n",
            "    Uninstalling jax-0.4.13:\n",
            "      Successfully uninstalled jax-0.4.13\n",
            "  Attempting uninstall: flax\n",
            "    Found existing installation: flax 0.7.0\n",
            "    Uninstalling flax-0.7.0:\n",
            "      Successfully uninstalled flax-0.7.0\n",
            "Successfully installed flax-0.6.2 jax-0.3.25\n",
            "jax                              0.3.25\n",
            "jaxlib                           0.3.25\n"
          ]
        }
      ]
    },
    {
      "cell_type": "code",
      "source": [
        "import jax, PIL, os, jax.tools.colab_tpu, flax, numpy as np, sys, cv2, shutil, zipfile, pandas as pd, tensorflow as tf, os, tensorflow_datasets as tfds, optax, tqdm, ml_collections\n",
        "if './vision_transformer' not in sys.path:\n",
        "  sys.path.append('./vision_transformer')\n",
        "%load_ext autoreload\n",
        "%autoreload 2\n",
        "from absl import logging\n",
        "from matplotlib import pyplot as plt\n",
        "from vit_jax import checkpoint, input_pipeline, utils, models, train\n",
        "from vit_jax.configs import common as common_config, models as models_config\n",
        "from sklearn.model_selection import train_test_split\n",
        "from google.colab import drive\n",
        "drive.mount(\"/content/gdrive\")\n",
        "%env USE_TORCH=False"
      ],
      "metadata": {
        "colab": {
          "base_uri": "https://localhost:8080/"
        },
        "id": "ODRw327c7UVF",
        "outputId": "8dd6149f-9919-49af-eb67-5ff8af4e415e"
      },
      "execution_count": 4,
      "outputs": [
        {
          "output_type": "stream",
          "name": "stdout",
          "text": [
            "Drive already mounted at /content/gdrive; to attempt to forcibly remount, call drive.mount(\"/content/gdrive\", force_remount=True).\n",
            "env: USE_TORCH=False\n"
          ]
        }
      ]
    },
    {
      "cell_type": "code",
      "source": [
        "if 'google.colab' in str(get_ipython()) and 'COLAB_TPU_ADDR' in os.environ:\n",
        "  jax.tools.colab_tpu.setup_tpu()\n",
        "  print('Connected to TPU.')\n",
        "  logging.set_verbosity(logging.INFO)\n",
        "  print(jax.local_devices())\n",
        "else:\n",
        "  print('No TPU detected. Can be changed under \"Runtime/Change runtime type\".')"
      ],
      "metadata": {
        "id": "wPNs8LqdBGEq",
        "colab": {
          "base_uri": "https://localhost:8080/"
        },
        "outputId": "b29775f9-7248-444f-d1b1-c1ec191aeb78"
      },
      "execution_count": 5,
      "outputs": [
        {
          "output_type": "stream",
          "name": "stdout",
          "text": [
            "Connected to TPU.\n",
            "[TpuDevice(id=0, process_index=0, coords=(0,0,0), core_on_chip=0), TpuDevice(id=1, process_index=0, coords=(0,0,0), core_on_chip=1), TpuDevice(id=2, process_index=0, coords=(1,0,0), core_on_chip=0), TpuDevice(id=3, process_index=0, coords=(1,0,0), core_on_chip=1), TpuDevice(id=4, process_index=0, coords=(0,1,0), core_on_chip=0), TpuDevice(id=5, process_index=0, coords=(0,1,0), core_on_chip=1), TpuDevice(id=6, process_index=0, coords=(1,1,0), core_on_chip=0), TpuDevice(id=7, process_index=0, coords=(1,1,0), core_on_chip=1)]\n"
          ]
        }
      ]
    },
    {
      "cell_type": "markdown",
      "source": [
        "## Download dataset"
      ],
      "metadata": {
        "id": "htnFZCYZ7Qdt"
      }
    },
    {
      "cell_type": "code",
      "source": [
        "!cp \"/content/gdrive/MyDrive/PUC/TCC/Notebooks/preTreinados/kaggle.json\" \".\"\n",
        "!chmod 600 kaggle.json\n",
        "!rm -r ~/.kaggle\n",
        "!mkdir ~/.kaggle\n",
        "!mv ./kaggle.json ~/.kaggle/\n",
        "!chmod 600 ~/.kaggle/kaggle.json\n",
        "!kaggle datasets download -d kmader/skin-cancer-mnist-ham10000\n",
        "with zipfile.ZipFile(\"/content/skin-cancer-mnist-ham10000.zip\", 'r') as zip_ref:\n",
        "    zip_ref.extractall(\".\")\n",
        "del zip_ref\n",
        "!mv /content/HAM10000_images_part_1/*.jpg /content/HAM10000_images_part_2"
      ],
      "metadata": {
        "colab": {
          "base_uri": "https://localhost:8080/"
        },
        "id": "joW8oUXD7P40",
        "outputId": "1ba053b5-ca1d-4b5b-f216-dfa677d6ed7d"
      },
      "execution_count": 6,
      "outputs": [
        {
          "output_type": "stream",
          "name": "stdout",
          "text": [
            "rm: cannot remove '/root/.kaggle': No such file or directory\n",
            "Downloading skin-cancer-mnist-ham10000.zip to /content\n",
            "100% 5.20G/5.20G [01:21<00:00, 96.0MB/s]\n",
            "100% 5.20G/5.20G [01:21<00:00, 68.3MB/s]\n"
          ]
        }
      ]
    },
    {
      "cell_type": "code",
      "source": [
        "datasetMetadata = pd.read_csv(\"/content/HAM10000_metadata.csv\")\n",
        "datasetMetadata = datasetMetadata.drop(columns=['dx_type','age','sex','localization']) # Non-utilized columns\n",
        "datasetMetadata = datasetMetadata.rename(columns={\"lesion_id\": \"lesionId\",\n",
        "                                                  \"image_id\": \"imageId\",\n",
        "                                                  \"dx\": \"cancerId\"})\n",
        "datasetMetadata['duplicate'] = datasetMetadata['lesionId']      # Creating a column to indicate if the lesion has more than one image\n",
        "\n",
        "uniqueLesions = datasetMetadata.groupby('lesionId').count()     # Counts the number of lesions for each id\n",
        "uniqueLesions = uniqueLesions[uniqueLesions['imageId'] == 1]    # Filter lesions which ones have unique id\n",
        "uniqueLesions.reset_index(inplace = True)                       # Add default index column\n",
        "uniqueLesions = uniqueLesions['lesionId'].values.tolist()       # Extracts the indexes into a list\n",
        "\n",
        "datasetMetadata['duplicate'] = datasetMetadata['lesionId'].apply(lambda x: False if x in uniqueLesions else True) # Fill the rows indicating if the lesion has a duplicated image\n",
        "\n",
        "del uniqueLesions\n",
        "datasetMetadata = datasetMetadata[~((datasetMetadata['lesionId'].duplicated()) & (datasetMetadata['duplicate']))]\n",
        "cancerType = {\n",
        "    'akiec': 0, # 0.0 - 'Doenca de Bowens'\n",
        "    'bcc': 1, # 1.0 - 'Carcinoma basocelular'\n",
        "    'bkl': 2, # 2.0 - 'Keratose benigna'\n",
        "    'df': 3, # 3.0 - 'Dermatofibroma'\n",
        "    'vasc': 4, # 4.0 - 'Lesao vascular'\n",
        "    'mel': 5, # 5.0 - 'Melanoma'\n",
        "    'nv': 6  # 6.0 - 'Nevo melanocitico'\n",
        "}\n",
        "num_classes = len(cancerType)\n",
        "\n",
        "parentDir = './classes'\n",
        "subdirectories = ['akiec', 'bcc', 'bkl', 'df', 'vasc', 'mel', 'nv']\n",
        "\n",
        "os.makedirs(parentDir, exist_ok=True)\n",
        "for subdir in ['train', 'test']:\n",
        "    os.makedirs(os.path.join(parentDir, subdir), exist_ok=True)\n",
        "    subdirPath = os.path.join(parentDir, subdir)\n",
        "    for subsubdir in subdirectories:\n",
        "        os.makedirs(os.path.join(subdirPath, subsubdir), exist_ok=True)\n",
        "\n",
        "x = datasetMetadata[['lesionId', 'imageId']]\n",
        "y = datasetMetadata['cancerId']\n",
        "\n",
        "X_train, X_test, y_train, y_test = train_test_split(x, y,test_size = 0.2, train_size = 0.8, stratify = y)\n",
        "\n",
        "def sortImages(parentDir, x, y):\n",
        "    for i in range(len(x)):\n",
        "      \"\"\"@TODO TEST\"\"\"\n",
        "      imageId = x.iloc[i]['imageId']\n",
        "      cancerId = y.iloc[i]\n",
        "      destinationPath = ''\n",
        "      if cancerId == 'akiec':\n",
        "        destinationPath = os.path.join(parentDir, 'akiec/' + imageId + '.jpg')\n",
        "      elif cancerId == 'bcc':\n",
        "        destinationPath = os.path.join(parentDir, 'bcc/'   + imageId + '.jpg')\n",
        "      elif cancerId == 'bkl':\n",
        "        destinationPath = os.path.join(parentDir, 'bkl/'   + imageId + '.jpg')\n",
        "      elif cancerId == 'df':\n",
        "        destinationPath = os.path.join(parentDir, 'df/'    + imageId + '.jpg')\n",
        "      elif cancerId == 'vasc':\n",
        "        destinationPath = os.path.join(parentDir, 'vasc/'  + imageId + '.jpg')\n",
        "      elif cancerId == 'mel':\n",
        "        destinationPath = os.path.join(parentDir, 'mel/'   + imageId + '.jpg')\n",
        "      elif cancerId == 'nv':\n",
        "        destinationPath = os.path.join(parentDir, 'nv/'    + imageId + '.jpg')\n",
        "      shutil.move(''.join([\"/content/HAM10000_images_part_2/\", imageId, '.jpg']), destinationPath)\n",
        "sortImages('./classes/train', X_train, y_train)\n",
        "sortImages('./classes/test', X_test, y_test)\n",
        "del X_train, X_test, y_train, y_test, x, y,parentDir, subdirectories, subsubdir, subdirPath, datasetMetadata"
      ],
      "metadata": {
        "id": "aITKQ1to7QGN"
      },
      "execution_count": 10,
      "outputs": []
    },
    {
      "cell_type": "code",
      "source": [
        "batch_size = 64 # Divided by the number of cores (8)\n",
        "config = common_config.get_config()\n",
        "config.batch = batch_size\n",
        "config.pp = ml_collections.ConfigDict(\n",
        "             {'train': 'train[:80%]',\n",
        "              'test': 'test',\n",
        "              'crop': 224})\n",
        "ds_train = input_pipeline.get_data_from_directory(config=config, directory='./classes/train', mode='train')\n",
        "ds_test = input_pipeline.get_data_from_directory(config=config, directory='./classes/test', mode='test')\n",
        "del config"
      ],
      "metadata": {
        "id": "zP9HvGuDQ8d4"
      },
      "execution_count": 6,
      "outputs": []
    },
    {
      "cell_type": "markdown",
      "source": [
        "## Import VIT model"
      ],
      "metadata": {
        "id": "qlHMYDLozB9O"
      }
    },
    {
      "cell_type": "code",
      "source": [
        "model_name = 'ViT-B_32'  #@param [\"ViT-B_32\", \"Mixer-B_16\"]\n",
        "\n",
        "if model_name.startswith('ViT'):\n",
        "  ![ -e \"$model_name\".npz ] || gsutil cp gs://vit_models/imagenet21k/\"$model_name\".npz .\n",
        "if model_name.startswith('Mixer'):\n",
        "  ![ -e \"$model_name\".npz ] || gsutil cp gs://mixer_models/imagenet21k/\"$model_name\".npz .\n",
        "\n",
        "assert os.path.exists(f'{model_name}.npz')"
      ],
      "metadata": {
        "id": "paMA2YqPBGAa"
      },
      "execution_count": 7,
      "outputs": []
    },
    {
      "cell_type": "markdown",
      "source": [
        "### Model loading"
      ],
      "metadata": {
        "id": "vzydzV7cEOsv"
      }
    },
    {
      "cell_type": "code",
      "execution_count": 8,
      "metadata": {
        "id": "8kIeQWuyf4Ga",
        "vscode": {
          "languageId": "python"
        },
        "colab": {
          "base_uri": "https://localhost:8080/"
        },
        "outputId": "003ca07c-796f-48b3-926c-56544839f3dc"
      },
      "outputs": [
        {
          "output_type": "execute_result",
          "data": {
            "text/plain": [
              "classifier: token\n",
              "hidden_size: 768\n",
              "model_name: ViT-B_32\n",
              "patches:\n",
              "  size: !!python/tuple\n",
              "  - 32\n",
              "  - 32\n",
              "representation_size: null\n",
              "transformer:\n",
              "  attention_dropout_rate: 0.0\n",
              "  dropout_rate: 0.0\n",
              "  mlp_dim: 3072\n",
              "  num_heads: 12\n",
              "  num_layers: 12"
            ]
          },
          "metadata": {},
          "execution_count": 8
        }
      ],
      "source": [
        "model_config = models_config.MODEL_CONFIGS[model_name]\n",
        "model_config"
      ]
    },
    {
      "cell_type": "markdown",
      "source": [
        "### Load and compile model"
      ],
      "metadata": {
        "id": "Od-oqayu_uMD"
      }
    },
    {
      "cell_type": "code",
      "execution_count": 11,
      "metadata": {
        "id": "DMKr-4nK3DlT",
        "vscode": {
          "languageId": "python"
        }
      },
      "outputs": [],
      "source": [
        "batch = next(iter(ds_train.as_numpy_iterator()))\n",
        "if model_name.startswith('Mixer'):\n",
        "  model = models.MlpMixer(num_classes=num_classes, **model_config)\n",
        "else:\n",
        "  model = models.VisionTransformer(num_classes=num_classes, **model_config)\n",
        "variables = jax.jit(lambda: model.init(\n",
        "    jax.random.PRNGKey(0),\n",
        "    batch['image'][0, :1],#next(iter(ds_train.map(lambda x, y: x).batch(1))),\n",
        "    train=False,\n",
        "), backend='cpu')()"
      ]
    },
    {
      "cell_type": "code",
      "execution_count": 12,
      "metadata": {
        "id": "zIXjOEDkvAWM",
        "vscode": {
          "languageId": "python"
        },
        "colab": {
          "base_uri": "https://localhost:8080/"
        },
        "outputId": "44fe7fe1-74ef-444d-a0c7-6311f2a37928"
      },
      "outputs": [
        {
          "output_type": "stream",
          "name": "stderr",
          "text": [
            "INFO:absl:Inspect extra keys:\n",
            "{'pre_logits/kernel', 'pre_logits/bias'}\n",
            "INFO:absl:load_pretrained: drop-head variant\n"
          ]
        }
      ],
      "source": [
        "# Load and convert pretrained checkpoint.\n",
        "# This involves loading the actual pre-trained model results, but then also also\n",
        "# modifying the parameters a bit, e.g. changing the final layers, and resizing\n",
        "# the positional embeddings.\n",
        "# For details, refer to the code and to the methods of the paper.\n",
        "params = checkpoint.load_pretrained(\n",
        "    pretrained_path=f'{model_name}.npz',\n",
        "    init_params=variables['params'],\n",
        "    model_config=model_config,\n",
        ")"
      ]
    },
    {
      "cell_type": "markdown",
      "metadata": {
        "id": "aQVKzhaR8o-J"
      },
      "source": [
        "### Evaluate"
      ]
    },
    {
      "cell_type": "code",
      "execution_count": 13,
      "metadata": {
        "id": "WB6ywRTY-LOa",
        "vscode": {
          "languageId": "python"
        },
        "colab": {
          "base_uri": "https://localhost:8080/"
        },
        "outputId": "8823bd9e-7d17-4737-8cb8-abbd3e7a8808"
      },
      "outputs": [
        {
          "output_type": "stream",
          "name": "stdout",
          "text": [
            "params.cls: DeviceArray (7,)\n",
            "params_repl.cls: _ShardedDeviceArray (8, 7)\n"
          ]
        }
      ],
      "source": [
        "# So far, all our data is in the host memory. Let's now replicate the arrays\n",
        "# into the devices.\n",
        "# This will make every array in the pytree params become a ShardedDeviceArray\n",
        "# that has the same data replicated across all local devices.\n",
        "# For TPU it replicates the params in every core.\n",
        "# For a single GPU this simply moves the data onto the device.\n",
        "# For CPU it simply creates a copy.\n",
        "params_repl = flax.jax_utils.replicate(params)\n",
        "print('params.cls:', type(params['head']['bias']).__name__,\n",
        "      params['head']['bias'].shape)\n",
        "print('params_repl.cls:', type(params_repl['head']['bias']).__name__,\n",
        "      params_repl['head']['bias'].shape)"
      ]
    },
    {
      "cell_type": "code",
      "execution_count": 14,
      "metadata": {
        "id": "_unNxEZAK0Cu",
        "vscode": {
          "languageId": "python"
        }
      },
      "outputs": [],
      "source": [
        "# Then map the call to our model's forward pass onto all available devices.\n",
        "vit_apply_repl = jax.pmap(lambda params, inputs: model.apply(\n",
        "    dict(params=params), inputs, train=False))"
      ]
    },
    {
      "cell_type": "code",
      "execution_count": 15,
      "metadata": {
        "id": "ZgjFBUQ88p4z",
        "vscode": {
          "languageId": "python"
        }
      },
      "outputs": [],
      "source": [
        "def get_accuracy(params_repl):\n",
        "  good = total = 0\n",
        "  steps = 1494 // batch_size # Testset size\n",
        "  for _, batch in zip(tqdm.trange(steps), ds_test.as_numpy_iterator()):\n",
        "    predicted = vit_apply_repl(params_repl, batch['image'])\n",
        "    is_same = predicted.argmax(axis=-1) == batch['label'].argmax(axis=-1)\n",
        "    good += is_same.sum()\n",
        "    total += len(is_same.flatten())\n",
        "  return good / total"
      ]
    },
    {
      "cell_type": "code",
      "execution_count": 16,
      "metadata": {
        "id": "3qc7j0lv-F6-",
        "vscode": {
          "languageId": "python"
        },
        "colab": {
          "base_uri": "https://localhost:8080/"
        },
        "outputId": "cba89cd5-1d33-46b0-d4e3-ada157617d82"
      },
      "outputs": [
        {
          "output_type": "stream",
          "name": "stderr",
          "text": [
            "  9%|▊         | 2/23 [00:38<06:45, 19.33s/it]\n"
          ]
        },
        {
          "output_type": "execute_result",
          "data": {
            "text/plain": [
              "DeviceArray(0.03125, dtype=float32)"
            ]
          },
          "metadata": {},
          "execution_count": 16
        }
      ],
      "source": [
        "# Random performance without fine-tuning.\n",
        "get_accuracy(params_repl)"
      ]
    },
    {
      "cell_type": "markdown",
      "metadata": {
        "id": "HxMdU_e5NeoT"
      },
      "source": [
        "### Fine-tune"
      ]
    },
    {
      "cell_type": "code",
      "execution_count": 17,
      "metadata": {
        "id": "MI62dexw8mGo",
        "vscode": {
          "languageId": "python"
        }
      },
      "outputs": [],
      "source": [
        "total_steps = 10\n",
        "warmup_steps = 1\n",
        "decay_type = 'cosine'\n",
        "grad_norm_clip = 1\n",
        "# This controls in how many forward passes the batch is split. 8 works well with\n",
        "# a TPU runtime that has 8 devices. 64 should work on a GPU. You can of course\n",
        "# also adjust the batch_size above, but that would require you to adjust the\n",
        "# learning rate accordingly.\n",
        "accum_steps = 8\n",
        "base_lr = 0.03"
      ]
    },
    {
      "cell_type": "code",
      "execution_count": 18,
      "metadata": {
        "id": "vzlfREb1ZHBY",
        "vscode": {
          "languageId": "python"
        }
      },
      "outputs": [],
      "source": [
        "# Check out train.make_update_fn in the editor on the right side for details.\n",
        "lr_fn = utils.create_learning_rate_schedule(total_steps, base_lr, decay_type, warmup_steps)\n",
        "# We use a momentum optimizer that uses half precision for state to save\n",
        "# memory. It als implements the gradient clipping.\n",
        "tx = optax.chain(\n",
        "    optax.clip_by_global_norm(grad_norm_clip),\n",
        "    optax.sgd(\n",
        "        learning_rate=lr_fn,\n",
        "        momentum=0.9,\n",
        "        accumulator_dtype='bfloat16',\n",
        "    ),\n",
        ")\n",
        "update_fn_repl = train.make_update_fn(\n",
        "    apply_fn=model.apply, accum_steps=accum_steps, tx=tx)\n",
        "opt_state = tx.init(params)\n",
        "opt_state_repl = flax.jax_utils.replicate(opt_state)"
      ]
    },
    {
      "cell_type": "code",
      "execution_count": 19,
      "metadata": {
        "id": "RTU7OmgjHb-G",
        "vscode": {
          "languageId": "python"
        }
      },
      "outputs": [],
      "source": [
        "# Initialize PRNGs for dropout.\n",
        "update_rng_repl = flax.jax_utils.replicate(jax.random.PRNGKey(0))"
      ]
    },
    {
      "cell_type": "code",
      "execution_count": 20,
      "metadata": {
        "id": "zKn4IfUWHWPk",
        "vscode": {
          "languageId": "python"
        },
        "colab": {
          "base_uri": "https://localhost:8080/",
          "height": 878
        },
        "outputId": "3bb0b690-bc8d-4740-933b-e27ea696ecbf"
      },
      "outputs": [
        {
          "output_type": "stream",
          "name": "stderr",
          "text": [
            "100%|██████████| 10/10 [01:35<00:00,  9.52s/it]\n"
          ]
        },
        {
          "output_type": "execute_result",
          "data": {
            "text/plain": [
              "[<matplotlib.lines.Line2D at 0x7f2b5d3a6230>]"
            ]
          },
          "metadata": {},
          "execution_count": 20
        },
        {
          "output_type": "display_data",
          "data": {
            "text/plain": [
              "<Figure size 640x480 with 1 Axes>"
            ],
            "image/png": "[encoded data removed]"
          },
          "metadata": {}
        },
        {
          "output_type": "display_data",
          "data": {
            "text/plain": [
              "<Figure size 640x480 with 1 Axes>"
            ],
            "image/png": "[encoded data removed]"
          },
          "metadata": {}
        }
      ],
      "source": [
        "losses = []\n",
        "lrs = []\n",
        "\n",
        "for step, batch in zip(\n",
        "    tqdm.trange(1, total_steps + 1),\n",
        "    ds_train.as_numpy_iterator(),\n",
        "):\n",
        "\n",
        "  params_repl, opt_state_repl, loss_repl, update_rng_repl = update_fn_repl(\n",
        "      params_repl, opt_state_repl, batch, update_rng_repl)\n",
        "  losses.append(loss_repl[0])\n",
        "  lrs.append(lr_fn(step))\n",
        "\n",
        "plt.plot(losses)\n",
        "plt.figure()\n",
        "plt.plot(lrs)"
      ]
    },
    {
      "cell_type": "code",
      "execution_count": 21,
      "metadata": {
        "id": "jJhKAMhMI2D6",
        "vscode": {
          "languageId": "python"
        },
        "colab": {
          "base_uri": "https://localhost:8080/"
        },
        "outputId": "84106493-813e-4b93-b3df-f3929b067847"
      },
      "outputs": [
        {
          "output_type": "stream",
          "name": "stderr",
          "text": [
            "  9%|▊         | 2/23 [00:19<03:22,  9.63s/it]\n"
          ]
        },
        {
          "output_type": "execute_result",
          "data": {
            "text/plain": [
              "DeviceArray(0.7265625, dtype=float32)"
            ]
          },
          "metadata": {},
          "execution_count": 21
        }
      ],
      "source": [
        "get_accuracy(params_repl)"
      ]
    },
    {
      "cell_type": "code",
      "source": [
        "import pickle\n",
        "\n",
        "with open('/content/gdrive/MyDrive/PUC/TCC/Notebooks/preTreinados/VIT_params.pkl', 'wb') as file:\n",
        "    pickle.dump(params_repl, file)"
      ],
      "metadata": {
        "id": "QBPTlVN6fKCe"
      },
      "execution_count": 24,
      "outputs": []
    },
    {
      "cell_type": "code",
      "source": [
        "!cp ViT-B_32.npz /content/gdrive/MyDrive/PUC/TCC/Notebooks/preTreinados/"
      ],
      "metadata": {
        "id": "UlXctLlnnKQw"
      },
      "execution_count": 23,
      "outputs": []
    }
  ]
}