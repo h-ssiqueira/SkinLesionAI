{
  "cells": [
    {
      "cell_type": "markdown",
      "metadata": {
        "id": "iuyoZ4-Gygv9"
      },
      "source": [
        "## Configuration variables"
      ]
    },
    {
      "cell_type": "markdown",
      "metadata": {
        "id": "EAlBnXYC_iyu"
      },
      "source": [
        "Index | Recommended configuration\n",
        ":---: | :---:\n",
        "1 | Rotation up to 20º<br>shear up to 15º<br>Horizontal and vertical flip<br>Vertical and horizontal shift up to 20%<br>Zoom out up to 20%\n",
        "2 | Rotation up to 15º<br>Vertical and horizontal flip<br>Image resize up to 10%"
      ]
    },
    {
      "cell_type": "code",
      "execution_count": null,
      "metadata": {
        "id": "wK0wsZE6ygCz"
      },
      "outputs": [],
      "source": [
        "### Environment\n",
        "csvMetadataPath = \"/content/gdrive/MyDrive/PUC/TCC/Datasets/ham10000/HAM10000_metadata.csv\" # \"HAM10000_metadata.csv\"\n",
        "imagesPath = \"gdrive/MyDrive/PUC/TCC/Datasets/ham10000/imgs/\" # \"images\"\n",
        "drive = True\n",
        "\n",
        "### Height and weight of images to be crop\n",
        "h, w = 224, 224\n",
        "\n",
        "### Remove duplicates\n",
        "removeDuplicates = False\n",
        "totalImages = 5514 if removeDuplicates else 10015\n",
        "\n",
        "### Segmentation\n",
        "segmentation = False\n",
        "segmentationNum = 100\n",
        "compactnessNum = 10\n",
        "\n",
        "### Data augmentation\n",
        "dataAugmentation = True\n",
        "rotation = .18\n",
        "widthShift, heightShift = .12, .12\n",
        "channelShift = .15\n",
        "shear = .12\n",
        "zoom = .2\n",
        "hFlip, vFlip = True, True\n",
        "fill = 'nearest' # constant, nearest, reflect, wrap\n",
        "cval = .5 # case the previous is constant\n",
        "bright = [.6,1.4]\n",
        "\n",
        "### Normalization\n",
        "featureCenter = False\n",
        "sampleCenter = False\n",
        "featureStdNorm = False\n",
        "sampleStdNorm = False\n",
        "zcaWhitening = False\n",
        "standardScalerNorm = False\n",
        "minMaxScalerNorm = True\n",
        "\n",
        "### Model configuration\n",
        "epochs = 5\n",
        "batchSize = 1000"
      ]
    },
    {
      "cell_type": "markdown",
      "metadata": {
        "id": "VA-nf-22_XzF"
      },
      "source": [
        "# Library imports and directory mount"
      ]
    },
    {
      "cell_type": "code",
      "execution_count": null,
      "metadata": {
        "colab": {
          "base_uri": "https://localhost:8080/"
        },
        "id": "Hw1Mqezw_Rtq",
        "outputId": "bdd4d16a-cb0d-40ba-d7a2-558ce6ea24df"
      },
      "outputs": [
        {
          "name": "stdout",
          "output_type": "stream",
          "text": [
            "Mounted at /content/gdrive\n",
            "gdrive\tsample_data\n",
            "'arq win'\t\t\t\t        Invest.gsheet\n",
            "'Ativação windows 10'\t\t\t        Livros\n",
            "'Colab Notebooks'\t\t\t       'Mão de obra.gdoc'\n",
            " Currículo\t\t\t\t        profile\n",
            " Documentos\t\t\t\t        Programação\n",
            " Estudu\t\t\t\t\t        PUC\n",
            " git_auth.txt\t\t\t\t        Random\n",
            "'Henrique Sartori Siqueira - Glicemia.gsheet'  'Recuperação de contas'\n",
            " iLovePDF\t\t\t\t       'Untitled Diagram.drawio'\n"
          ]
        }
      ],
      "source": [
        "import matplotlib.pyplot as plt, numpy as np, pandas as pd, seaborn as sns, tensorflow as tf\n",
        "import cv2, glob, os, random, warnings\n",
        "\n",
        "from keras.optimizers import Adam\n",
        "from keras.callbacks import ReduceLROnPlateau\n",
        "from keras.preprocessing.image import ImageDataGenerator\n",
        "from keras.utils import np_utils\n",
        "\n",
        "from skimage.segmentation import slic\n",
        "from skimage.transform import resize\n",
        "\n",
        "from sklearn.metrics import confusion_matrix\n",
        "from sklearn.model_selection import train_test_split\n",
        "from sklearn.preprocessing import MinMaxScaler, StandardScaler\n",
        "\n",
        "warnings.filterwarnings('ignore') \n",
        "\n",
        "sns.set() # for ploting\n",
        "\n",
        "if drive:\n",
        "    from google.colab import drive\n",
        "    drive.mount('/content/gdrive')\n",
        "    !ls\n",
        "    !ls 'gdrive/MyDrive'"
      ]
    },
    {
      "cell_type": "markdown",
      "metadata": {
        "id": "B_swJdui_gsF"
      },
      "source": [
        "# Dataset import (CSV Metadata)"
      ]
    },
    {
      "cell_type": "code",
      "execution_count": null,
      "metadata": {
        "colab": {
          "base_uri": "https://localhost:8080/",
          "height": 206
        },
        "id": "vWRqA6em_lA8",
        "outputId": "c75399fb-15b9-41eb-8f43-3ba35832eedf"
      },
      "outputs": [
        {
          "data": {
            "text/html": [
              "\n",
              "  <div id=\"df-7faa6083-300e-4de4-9068-4ca87bc3e8bf\">\n",
              "    <div class=\"colab-df-container\">\n",
              "      <div>\n",
              "<style scoped>\n",
              "    .dataframe tbody tr th:only-of-type {\n",
              "        vertical-align: middle;\n",
              "    }\n",
              "\n",
              "    .dataframe tbody tr th {\n",
              "        vertical-align: top;\n",
              "    }\n",
              "\n",
              "    .dataframe thead th {\n",
              "        text-align: right;\n",
              "    }\n",
              "</style>\n",
              "<table border=\"1\" class=\"dataframe\">\n",
              "  <thead>\n",
              "    <tr style=\"text-align: right;\">\n",
              "      <th></th>\n",
              "      <th>lesionId</th>\n",
              "      <th>imageId</th>\n",
              "      <th>cancerId</th>\n",
              "    </tr>\n",
              "  </thead>\n",
              "  <tbody>\n",
              "    <tr>\n",
              "      <th>0</th>\n",
              "      <td>HAM_0000118</td>\n",
              "      <td>ISIC_0027419</td>\n",
              "      <td>bkl</td>\n",
              "    </tr>\n",
              "    <tr>\n",
              "      <th>1</th>\n",
              "      <td>HAM_0000118</td>\n",
              "      <td>ISIC_0025030</td>\n",
              "      <td>bkl</td>\n",
              "    </tr>\n",
              "    <tr>\n",
              "      <th>2</th>\n",
              "      <td>HAM_0002730</td>\n",
              "      <td>ISIC_0026769</td>\n",
              "      <td>bkl</td>\n",
              "    </tr>\n",
              "    <tr>\n",
              "      <th>3</th>\n",
              "      <td>HAM_0002730</td>\n",
              "      <td>ISIC_0025661</td>\n",
              "      <td>bkl</td>\n",
              "    </tr>\n",
              "    <tr>\n",
              "      <th>4</th>\n",
              "      <td>HAM_0001466</td>\n",
              "      <td>ISIC_0031633</td>\n",
              "      <td>bkl</td>\n",
              "    </tr>\n",
              "  </tbody>\n",
              "</table>\n",
              "</div>\n",
              "      <button class=\"colab-df-convert\" onclick=\"convertToInteractive('df-7faa6083-300e-4de4-9068-4ca87bc3e8bf')\"\n",
              "              title=\"Convert this dataframe to an interactive table.\"\n",
              "              style=\"display:none;\">\n",
              "        \n",
              "  <svg xmlns=\"http://www.w3.org/2000/svg\" height=\"24px\"viewBox=\"0 0 24 24\"\n",
              "       width=\"24px\">\n",
              "    <path d=\"M0 0h24v24H0V0z\" fill=\"none\"/>\n",
              "    <path d=\"M18.56 5.44l.94 2.06.94-2.06 2.06-.94-2.06-.94-.94-2.06-.94 2.06-2.06.94zm-11 1L8.5 8.5l.94-2.06 2.06-.94-2.06-.94L8.5 2.5l-.94 2.06-2.06.94zm10 10l.94 2.06.94-2.06 2.06-.94-2.06-.94-.94-2.06-.94 2.06-2.06.94z\"/><path d=\"M17.41 7.96l-1.37-1.37c-.4-.4-.92-.59-1.43-.59-.52 0-1.04.2-1.43.59L10.3 9.45l-7.72 7.72c-.78.78-.78 2.05 0 2.83L4 21.41c.39.39.9.59 1.41.59.51 0 1.02-.2 1.41-.59l7.78-7.78 2.81-2.81c.8-.78.8-2.07 0-2.86zM5.41 20L4 18.59l7.72-7.72 1.47 1.35L5.41 20z\"/>\n",
              "  </svg>\n",
              "      </button>\n",
              "      \n",
              "  <style>\n",
              "    .colab-df-container {\n",
              "      display:flex;\n",
              "      flex-wrap:wrap;\n",
              "      gap: 12px;\n",
              "    }\n",
              "\n",
              "    .colab-df-convert {\n",
              "      background-color: #E8F0FE;\n",
              "      border: none;\n",
              "      border-radius: 50%;\n",
              "      cursor: pointer;\n",
              "      display: none;\n",
              "      fill: #1967D2;\n",
              "      height: 32px;\n",
              "      padding: 0 0 0 0;\n",
              "      width: 32px;\n",
              "    }\n",
              "\n",
              "    .colab-df-convert:hover {\n",
              "      background-color: #E2EBFA;\n",
              "      box-shadow: 0px 1px 2px rgba(60, 64, 67, 0.3), 0px 1px 3px 1px rgba(60, 64, 67, 0.15);\n",
              "      fill: #174EA6;\n",
              "    }\n",
              "\n",
              "    [theme=dark] .colab-df-convert {\n",
              "      background-color: #3B4455;\n",
              "      fill: #D2E3FC;\n",
              "    }\n",
              "\n",
              "    [theme=dark] .colab-df-convert:hover {\n",
              "      background-color: #434B5C;\n",
              "      box-shadow: 0px 1px 3px 1px rgba(0, 0, 0, 0.15);\n",
              "      filter: drop-shadow(0px 1px 2px rgba(0, 0, 0, 0.3));\n",
              "      fill: #FFFFFF;\n",
              "    }\n",
              "  </style>\n",
              "\n",
              "      <script>\n",
              "        const buttonEl =\n",
              "          document.querySelector('#df-7faa6083-300e-4de4-9068-4ca87bc3e8bf button.colab-df-convert');\n",
              "        buttonEl.style.display =\n",
              "          google.colab.kernel.accessAllowed ? 'block' : 'none';\n",
              "\n",
              "        async function convertToInteractive(key) {\n",
              "          const element = document.querySelector('#df-7faa6083-300e-4de4-9068-4ca87bc3e8bf');\n",
              "          const dataTable =\n",
              "            await google.colab.kernel.invokeFunction('convertToInteractive',\n",
              "                                                     [key], {});\n",
              "          if (!dataTable) return;\n",
              "\n",
              "          const docLinkHtml = 'Like what you see? Visit the ' +\n",
              "            '<a target=\"_blank\" href=https://colab.research.google.com/notebooks/data_table.ipynb>data table notebook</a>'\n",
              "            + ' to learn more about interactive tables.';\n",
              "          element.innerHTML = '';\n",
              "          dataTable['output_type'] = 'display_data';\n",
              "          await google.colab.output.renderOutput(dataTable, element);\n",
              "          const docLink = document.createElement('div');\n",
              "          docLink.innerHTML = docLinkHtml;\n",
              "          element.appendChild(docLink);\n",
              "        }\n",
              "      </script>\n",
              "    </div>\n",
              "  </div>\n",
              "  "
            ],
            "text/plain": [
              "      lesionId       imageId cancerId\n",
              "0  HAM_0000118  ISIC_0027419      bkl\n",
              "1  HAM_0000118  ISIC_0025030      bkl\n",
              "2  HAM_0002730  ISIC_0026769      bkl\n",
              "3  HAM_0002730  ISIC_0025661      bkl\n",
              "4  HAM_0001466  ISIC_0031633      bkl"
            ]
          },
          "execution_count": 3,
          "metadata": {},
          "output_type": "execute_result"
        }
      ],
      "source": [
        "datasetMetadata = pd.read_csv(csvMetadataPath)\n",
        "datasetMetadata = datasetMetadata.drop(columns=['dx_type','age','sex','localization'])\n",
        "datasetMetadata = datasetMetadata.rename(columns={\"lesion_id\": \"lesionId\",\n",
        "                                                  \"image_id\": \"imageId\",\n",
        "                                                  \"dx\": \"cancerId\"})\n",
        "datasetMetadata.head()"
      ]
    },
    {
      "cell_type": "code",
      "execution_count": null,
      "metadata": {
        "colab": {
          "base_uri": "https://localhost:8080/"
        },
        "id": "O9THGK5kOWv-",
        "outputId": "691523fd-c369-4341-f07b-8fd23bde4f64"
      },
      "outputs": [
        {
          "data": {
            "text/plain": [
              "0    5514\n",
              "1    4501\n",
              "Name: duplicate, dtype: int64"
            ]
          },
          "execution_count": 4,
          "metadata": {},
          "output_type": "execute_result"
        }
      ],
      "source": [
        "datasetMetadata['duplicate'] = datasetMetadata['lesionId']      # Creating a column to indicate if the lesion has more than one image\n",
        "\n",
        "uniqueLesions = datasetMetadata.groupby('lesionId').count()     # Counts the number of lesions for each id\n",
        "uniqueLesions = uniqueLesions[uniqueLesions['imageId'] == 1]    # Filter lesions which ones have unique id\n",
        "uniqueLesions.reset_index(inplace=True)                         # Add default index column\n",
        "uniqueLesions = uniqueLesions['lesionId'].values.tolist()       # Extracts the indexes into a list\n",
        "\n",
        "datasetMetadata['duplicate'] = datasetMetadata['duplicate'].apply(lambda x: 0 if x in uniqueLesions else 1) # Fill the rows indicating if the lesion has a duplicated image\n",
        "datasetMetadata['duplicate'].value_counts()"
      ]
    },
    {
      "cell_type": "markdown",
      "metadata": {
        "id": "qE6Eucogc4Gw"
      },
      "source": [
        "Removing Duplicates"
      ]
    },
    {
      "cell_type": "code",
      "execution_count": null,
      "metadata": {
        "colab": {
          "base_uri": "https://localhost:8080/",
          "height": 206
        },
        "id": "_Hk2vbz9x72u",
        "outputId": "28cba804-280b-4339-f861-634a7e58312e"
      },
      "outputs": [
        {
          "data": {
            "text/html": [
              "\n",
              "  <div id=\"df-813b0d80-9f72-4afa-92f5-f12f375d639c\">\n",
              "    <div class=\"colab-df-container\">\n",
              "      <div>\n",
              "<style scoped>\n",
              "    .dataframe tbody tr th:only-of-type {\n",
              "        vertical-align: middle;\n",
              "    }\n",
              "\n",
              "    .dataframe tbody tr th {\n",
              "        vertical-align: top;\n",
              "    }\n",
              "\n",
              "    .dataframe thead th {\n",
              "        text-align: right;\n",
              "    }\n",
              "</style>\n",
              "<table border=\"1\" class=\"dataframe\">\n",
              "  <thead>\n",
              "    <tr style=\"text-align: right;\">\n",
              "      <th></th>\n",
              "      <th>lesionId</th>\n",
              "      <th>imageId</th>\n",
              "      <th>cancerId</th>\n",
              "      <th>duplicate</th>\n",
              "    </tr>\n",
              "  </thead>\n",
              "  <tbody>\n",
              "    <tr>\n",
              "      <th>0</th>\n",
              "      <td>HAM_0000118</td>\n",
              "      <td>ISIC_0027419</td>\n",
              "      <td>bkl</td>\n",
              "      <td>1</td>\n",
              "    </tr>\n",
              "    <tr>\n",
              "      <th>1</th>\n",
              "      <td>HAM_0000118</td>\n",
              "      <td>ISIC_0025030</td>\n",
              "      <td>bkl</td>\n",
              "      <td>1</td>\n",
              "    </tr>\n",
              "    <tr>\n",
              "      <th>2</th>\n",
              "      <td>HAM_0002730</td>\n",
              "      <td>ISIC_0026769</td>\n",
              "      <td>bkl</td>\n",
              "      <td>1</td>\n",
              "    </tr>\n",
              "    <tr>\n",
              "      <th>3</th>\n",
              "      <td>HAM_0002730</td>\n",
              "      <td>ISIC_0025661</td>\n",
              "      <td>bkl</td>\n",
              "      <td>1</td>\n",
              "    </tr>\n",
              "    <tr>\n",
              "      <th>4</th>\n",
              "      <td>HAM_0001466</td>\n",
              "      <td>ISIC_0031633</td>\n",
              "      <td>bkl</td>\n",
              "      <td>1</td>\n",
              "    </tr>\n",
              "  </tbody>\n",
              "</table>\n",
              "</div>\n",
              "      <button class=\"colab-df-convert\" onclick=\"convertToInteractive('df-813b0d80-9f72-4afa-92f5-f12f375d639c')\"\n",
              "              title=\"Convert this dataframe to an interactive table.\"\n",
              "              style=\"display:none;\">\n",
              "        \n",
              "  <svg xmlns=\"http://www.w3.org/2000/svg\" height=\"24px\"viewBox=\"0 0 24 24\"\n",
              "       width=\"24px\">\n",
              "    <path d=\"M0 0h24v24H0V0z\" fill=\"none\"/>\n",
              "    <path d=\"M18.56 5.44l.94 2.06.94-2.06 2.06-.94-2.06-.94-.94-2.06-.94 2.06-2.06.94zm-11 1L8.5 8.5l.94-2.06 2.06-.94-2.06-.94L8.5 2.5l-.94 2.06-2.06.94zm10 10l.94 2.06.94-2.06 2.06-.94-2.06-.94-.94-2.06-.94 2.06-2.06.94z\"/><path d=\"M17.41 7.96l-1.37-1.37c-.4-.4-.92-.59-1.43-.59-.52 0-1.04.2-1.43.59L10.3 9.45l-7.72 7.72c-.78.78-.78 2.05 0 2.83L4 21.41c.39.39.9.59 1.41.59.51 0 1.02-.2 1.41-.59l7.78-7.78 2.81-2.81c.8-.78.8-2.07 0-2.86zM5.41 20L4 18.59l7.72-7.72 1.47 1.35L5.41 20z\"/>\n",
              "  </svg>\n",
              "      </button>\n",
              "      \n",
              "  <style>\n",
              "    .colab-df-container {\n",
              "      display:flex;\n",
              "      flex-wrap:wrap;\n",
              "      gap: 12px;\n",
              "    }\n",
              "\n",
              "    .colab-df-convert {\n",
              "      background-color: #E8F0FE;\n",
              "      border: none;\n",
              "      border-radius: 50%;\n",
              "      cursor: pointer;\n",
              "      display: none;\n",
              "      fill: #1967D2;\n",
              "      height: 32px;\n",
              "      padding: 0 0 0 0;\n",
              "      width: 32px;\n",
              "    }\n",
              "\n",
              "    .colab-df-convert:hover {\n",
              "      background-color: #E2EBFA;\n",
              "      box-shadow: 0px 1px 2px rgba(60, 64, 67, 0.3), 0px 1px 3px 1px rgba(60, 64, 67, 0.15);\n",
              "      fill: #174EA6;\n",
              "    }\n",
              "\n",
              "    [theme=dark] .colab-df-convert {\n",
              "      background-color: #3B4455;\n",
              "      fill: #D2E3FC;\n",
              "    }\n",
              "\n",
              "    [theme=dark] .colab-df-convert:hover {\n",
              "      background-color: #434B5C;\n",
              "      box-shadow: 0px 1px 3px 1px rgba(0, 0, 0, 0.15);\n",
              "      filter: drop-shadow(0px 1px 2px rgba(0, 0, 0, 0.3));\n",
              "      fill: #FFFFFF;\n",
              "    }\n",
              "  </style>\n",
              "\n",
              "      <script>\n",
              "        const buttonEl =\n",
              "          document.querySelector('#df-813b0d80-9f72-4afa-92f5-f12f375d639c button.colab-df-convert');\n",
              "        buttonEl.style.display =\n",
              "          google.colab.kernel.accessAllowed ? 'block' : 'none';\n",
              "\n",
              "        async function convertToInteractive(key) {\n",
              "          const element = document.querySelector('#df-813b0d80-9f72-4afa-92f5-f12f375d639c');\n",
              "          const dataTable =\n",
              "            await google.colab.kernel.invokeFunction('convertToInteractive',\n",
              "                                                     [key], {});\n",
              "          if (!dataTable) return;\n",
              "\n",
              "          const docLinkHtml = 'Like what you see? Visit the ' +\n",
              "            '<a target=\"_blank\" href=https://colab.research.google.com/notebooks/data_table.ipynb>data table notebook</a>'\n",
              "            + ' to learn more about interactive tables.';\n",
              "          element.innerHTML = '';\n",
              "          dataTable['output_type'] = 'display_data';\n",
              "          await google.colab.output.renderOutput(dataTable, element);\n",
              "          const docLink = document.createElement('div');\n",
              "          docLink.innerHTML = docLinkHtml;\n",
              "          element.appendChild(docLink);\n",
              "        }\n",
              "      </script>\n",
              "    </div>\n",
              "  </div>\n",
              "  "
            ],
            "text/plain": [
              "      lesionId       imageId cancerId  duplicate\n",
              "0  HAM_0000118  ISIC_0027419      bkl          1\n",
              "1  HAM_0000118  ISIC_0025030      bkl          1\n",
              "2  HAM_0002730  ISIC_0026769      bkl          1\n",
              "3  HAM_0002730  ISIC_0025661      bkl          1\n",
              "4  HAM_0001466  ISIC_0031633      bkl          1"
            ]
          },
          "execution_count": 5,
          "metadata": {},
          "output_type": "execute_result"
        }
      ],
      "source": [
        "if removeDuplicates:\n",
        "    datasetMetadata = datasetMetadata[datasetMetadata['duplicate'] == 0]\n",
        "datasetMetadata.head()"
      ]
    },
    {
      "cell_type": "code",
      "execution_count": null,
      "metadata": {
        "colab": {
          "base_uri": "https://localhost:8080/",
          "height": 444
        },
        "id": "SrYBPrkGGwIw",
        "outputId": "ee50038c-94d2-4f45-868d-099e8804cf77"
      },
      "outputs": [
        {
          "data": {
            "image/png": "[encoded data removed]",
            "text/plain": [
              "<Figure size 432x288 with 1 Axes>"
            ]
          },
          "metadata": {},
          "output_type": "display_data"
        },
        {
          "name": "stdout",
          "output_type": "stream",
          "text": [
            "cancerId\n",
            "df        115\n",
            "vasc      142\n",
            "akiec     327\n",
            "bcc       514\n",
            "bkl      1099\n",
            "mel      1113\n",
            "nv       6705\n",
            "dtype: int64\n",
            "Total:  10015\n"
          ]
        }
      ],
      "source": [
        "labelSize = datasetMetadata.groupby('cancerId').size().sort_values() # Sort and order every cancer class\n",
        "\n",
        "ax = labelSize.plot.barh()\n",
        "total = datasetMetadata.shape[0]\n",
        "\n",
        "for i, v in enumerate(labelSize):\n",
        "    ax.text(v + 3, i + .25, str(v) + ' (' + str(round(v/total*100, 2)) + '%)') # Set the percentage of each cancer class\n",
        "\n",
        "plt.show()\n",
        "\n",
        "print(labelSize)\n",
        "print(\"Total: \",labelSize.sum())"
      ]
    },
    {
      "cell_type": "code",
      "execution_count": null,
      "metadata": {
        "colab": {
          "base_uri": "https://localhost:8080/",
          "height": 206
        },
        "id": "zrjawKPGCCFt",
        "outputId": "fc6f2351-fe10-489d-fd20-4d61dbfa774f"
      },
      "outputs": [
        {
          "data": {
            "text/html": [
              "\n",
              "  <div id=\"df-a6779fa4-32c0-4430-8ef7-d6c9b32ca381\">\n",
              "    <div class=\"colab-df-container\">\n",
              "      <div>\n",
              "<style scoped>\n",
              "    .dataframe tbody tr th:only-of-type {\n",
              "        vertical-align: middle;\n",
              "    }\n",
              "\n",
              "    .dataframe tbody tr th {\n",
              "        vertical-align: top;\n",
              "    }\n",
              "\n",
              "    .dataframe thead th {\n",
              "        text-align: right;\n",
              "    }\n",
              "</style>\n",
              "<table border=\"1\" class=\"dataframe\">\n",
              "  <thead>\n",
              "    <tr style=\"text-align: right;\">\n",
              "      <th></th>\n",
              "      <th>lesionId</th>\n",
              "      <th>imageId</th>\n",
              "      <th>cancerId</th>\n",
              "      <th>duplicate</th>\n",
              "    </tr>\n",
              "  </thead>\n",
              "  <tbody>\n",
              "    <tr>\n",
              "      <th>0</th>\n",
              "      <td>HAM_0000118</td>\n",
              "      <td>ISIC_0027419</td>\n",
              "      <td>2</td>\n",
              "      <td>1</td>\n",
              "    </tr>\n",
              "    <tr>\n",
              "      <th>1</th>\n",
              "      <td>HAM_0000118</td>\n",
              "      <td>ISIC_0025030</td>\n",
              "      <td>2</td>\n",
              "      <td>1</td>\n",
              "    </tr>\n",
              "    <tr>\n",
              "      <th>2</th>\n",
              "      <td>HAM_0002730</td>\n",
              "      <td>ISIC_0026769</td>\n",
              "      <td>2</td>\n",
              "      <td>1</td>\n",
              "    </tr>\n",
              "    <tr>\n",
              "      <th>3</th>\n",
              "      <td>HAM_0002730</td>\n",
              "      <td>ISIC_0025661</td>\n",
              "      <td>2</td>\n",
              "      <td>1</td>\n",
              "    </tr>\n",
              "    <tr>\n",
              "      <th>4</th>\n",
              "      <td>HAM_0001466</td>\n",
              "      <td>ISIC_0031633</td>\n",
              "      <td>2</td>\n",
              "      <td>1</td>\n",
              "    </tr>\n",
              "  </tbody>\n",
              "</table>\n",
              "</div>\n",
              "      <button class=\"colab-df-convert\" onclick=\"convertToInteractive('df-a6779fa4-32c0-4430-8ef7-d6c9b32ca381')\"\n",
              "              title=\"Convert this dataframe to an interactive table.\"\n",
              "              style=\"display:none;\">\n",
              "        \n",
              "  <svg xmlns=\"http://www.w3.org/2000/svg\" height=\"24px\"viewBox=\"0 0 24 24\"\n",
              "       width=\"24px\">\n",
              "    <path d=\"M0 0h24v24H0V0z\" fill=\"none\"/>\n",
              "    <path d=\"M18.56 5.44l.94 2.06.94-2.06 2.06-.94-2.06-.94-.94-2.06-.94 2.06-2.06.94zm-11 1L8.5 8.5l.94-2.06 2.06-.94-2.06-.94L8.5 2.5l-.94 2.06-2.06.94zm10 10l.94 2.06.94-2.06 2.06-.94-2.06-.94-.94-2.06-.94 2.06-2.06.94z\"/><path d=\"M17.41 7.96l-1.37-1.37c-.4-.4-.92-.59-1.43-.59-.52 0-1.04.2-1.43.59L10.3 9.45l-7.72 7.72c-.78.78-.78 2.05 0 2.83L4 21.41c.39.39.9.59 1.41.59.51 0 1.02-.2 1.41-.59l7.78-7.78 2.81-2.81c.8-.78.8-2.07 0-2.86zM5.41 20L4 18.59l7.72-7.72 1.47 1.35L5.41 20z\"/>\n",
              "  </svg>\n",
              "      </button>\n",
              "      \n",
              "  <style>\n",
              "    .colab-df-container {\n",
              "      display:flex;\n",
              "      flex-wrap:wrap;\n",
              "      gap: 12px;\n",
              "    }\n",
              "\n",
              "    .colab-df-convert {\n",
              "      background-color: #E8F0FE;\n",
              "      border: none;\n",
              "      border-radius: 50%;\n",
              "      cursor: pointer;\n",
              "      display: none;\n",
              "      fill: #1967D2;\n",
              "      height: 32px;\n",
              "      padding: 0 0 0 0;\n",
              "      width: 32px;\n",
              "    }\n",
              "\n",
              "    .colab-df-convert:hover {\n",
              "      background-color: #E2EBFA;\n",
              "      box-shadow: 0px 1px 2px rgba(60, 64, 67, 0.3), 0px 1px 3px 1px rgba(60, 64, 67, 0.15);\n",
              "      fill: #174EA6;\n",
              "    }\n",
              "\n",
              "    [theme=dark] .colab-df-convert {\n",
              "      background-color: #3B4455;\n",
              "      fill: #D2E3FC;\n",
              "    }\n",
              "\n",
              "    [theme=dark] .colab-df-convert:hover {\n",
              "      background-color: #434B5C;\n",
              "      box-shadow: 0px 1px 3px 1px rgba(0, 0, 0, 0.15);\n",
              "      filter: drop-shadow(0px 1px 2px rgba(0, 0, 0, 0.3));\n",
              "      fill: #FFFFFF;\n",
              "    }\n",
              "  </style>\n",
              "\n",
              "      <script>\n",
              "        const buttonEl =\n",
              "          document.querySelector('#df-a6779fa4-32c0-4430-8ef7-d6c9b32ca381 button.colab-df-convert');\n",
              "        buttonEl.style.display =\n",
              "          google.colab.kernel.accessAllowed ? 'block' : 'none';\n",
              "\n",
              "        async function convertToInteractive(key) {\n",
              "          const element = document.querySelector('#df-a6779fa4-32c0-4430-8ef7-d6c9b32ca381');\n",
              "          const dataTable =\n",
              "            await google.colab.kernel.invokeFunction('convertToInteractive',\n",
              "                                                     [key], {});\n",
              "          if (!dataTable) return;\n",
              "\n",
              "          const docLinkHtml = 'Like what you see? Visit the ' +\n",
              "            '<a target=\"_blank\" href=https://colab.research.google.com/notebooks/data_table.ipynb>data table notebook</a>'\n",
              "            + ' to learn more about interactive tables.';\n",
              "          element.innerHTML = '';\n",
              "          dataTable['output_type'] = 'display_data';\n",
              "          await google.colab.output.renderOutput(dataTable, element);\n",
              "          const docLink = document.createElement('div');\n",
              "          docLink.innerHTML = docLinkHtml;\n",
              "          element.appendChild(docLink);\n",
              "        }\n",
              "      </script>\n",
              "    </div>\n",
              "  </div>\n",
              "  "
            ],
            "text/plain": [
              "      lesionId       imageId  cancerId  duplicate\n",
              "0  HAM_0000118  ISIC_0027419         2          1\n",
              "1  HAM_0000118  ISIC_0025030         2          1\n",
              "2  HAM_0002730  ISIC_0026769         2          1\n",
              "3  HAM_0002730  ISIC_0025661         2          1\n",
              "4  HAM_0001466  ISIC_0031633         2          1"
            ]
          },
          "execution_count": 7,
          "metadata": {},
          "output_type": "execute_result"
        }
      ],
      "source": [
        "cancerType = {\n",
        "    'akiec': 0, # 0.0 - 'Doenca de Bowens'\n",
        "    'bcc':   1, # 1.0 - 'Carcinoma basocelular'\n",
        "    'bkl':   2, # 2.0 - 'Keratose benigna'\n",
        "    'df':    3, # 3.0 - 'Dermatofibroma'\n",
        "    'nv':    4, # 4.0 - 'Nevo melanocitico'\n",
        "    'vasc':  5, # 5.0 - 'Lesao vascular'\n",
        "    'mel':   6  # 6.0 - 'Melanoma'\n",
        "}\n",
        "\n",
        "datasetMetadata['cancerId'] = datasetMetadata['cancerId'].map(cancerType)\n",
        "datasetMetadata.head()"
      ]
    },
    {
      "cell_type": "markdown",
      "metadata": {
        "id": "psdovo08Q8Nu"
      },
      "source": [
        "# Dataset import (Imgs)"
      ]
    },
    {
      "cell_type": "markdown",
      "metadata": {
        "id": "vNR9jkwco5Pp"
      },
      "source": [
        "https://scikit-image.org/docs/stable/api/skimage.segmentation.html"
      ]
    },
    {
      "cell_type": "code",
      "execution_count": null,
      "metadata": {
        "colab": {
          "background_save": true,
          "base_uri": "https://localhost:8080/"
        },
        "id": "kIBPw66BJMih",
        "outputId": "64f5230a-bf0d-49b8-f093-4a8a29013ce0"
      },
      "outputs": [
        {
          "name": "stdout",
          "output_type": "stream",
          "text": [
            "1000\n",
            "2000\n",
            "3000\n",
            "4000\n",
            "5000\n",
            "6000\n",
            "7000\n",
            "8000\n",
            "9000\n",
            "10000\n"
          ]
        }
      ],
      "source": [
        "# Path to the dataset images\n",
        "# /content/gdrive/MyDrive/PUC/TCC/Datasets/ham10000/imgs/<imgId>.jpg\n",
        "\n",
        "images = []\n",
        "count = 0\n",
        "\n",
        "for index, row in datasetMetadata.iterrows():\n",
        "    img = cv2.imread(imagesPath+row['imageId']+'.jpg') # Collect the image from drive\n",
        "    img = cv2.cvtColor(img, cv2.COLOR_BGR2RGB)   # Invert color BGR => RGB\n",
        "    if segmentation:\n",
        "        # Segment the image into superpixels using SLIC\n",
        "        segments = slic(img, n_segments=segmentationNum, compactness=compactnessNum)\n",
        "\n",
        "        # Resize the superpixels to widthxheight pixels\n",
        "        resizedSegments = resize(segments, (w, h), order=0, anti_aliasing=False)\n",
        "\n",
        "        # Reassemble the resized superpixels to form the resized image\n",
        "        img = resize(img, resizedSegments.shape, order=3, anti_aliasing=True)\n",
        "    else:\n",
        "        img = cv2.resize(img, (h, w))            # Resize the image according to params provided\n",
        "    images.append(img)\n",
        "    \n",
        "    count = count + 1\n",
        "    if count % 1000 == 0:\n",
        "        print(count)"
      ]
    },
    {
      "cell_type": "code",
      "execution_count": null,
      "metadata": {
        "colab": {
          "background_save": true
        },
        "id": "YLbcmS9zWf0F",
        "outputId": "111ff8a0-ffa8-4611-af53-63bf626ac6e6"
      },
      "outputs": [
        {
          "name": "stdout",
          "output_type": "stream",
          "text": [
            "10015\n",
            "lesionId      HAM_0000118\n",
            "imageId      ISIC_0027419\n",
            "cancerId                2\n",
            "duplicate               1\n",
            "Name: 0, dtype: object\n",
            "(224, 224, 3)\n"
          ]
        },
        {
          "data": {
            "image/png": "[encoded data removed]",
            "text/plain": [
              "<Figure size 432x288 with 1 Axes>"
            ]
          },
          "metadata": {},
          "output_type": "display_data"
        }
      ],
      "source": [
        "plt.imshow(images[0])\n",
        "print(len(images))\n",
        "print(datasetMetadata.iloc[0])\n",
        "print(images[0].shape)\n",
        "plt.show()"
      ]
    },
    {
      "cell_type": "markdown",
      "metadata": {
        "id": "OPCe8saYY5hx"
      },
      "source": [
        "# Images treatment"
      ]
    },
    {
      "cell_type": "code",
      "execution_count": null,
      "metadata": {
        "colab": {
          "background_save": true
        },
        "id": "nJF7vWenAzX7",
        "outputId": "27db55ab-f4da-4350-a4e3-9da6c133e576"
      },
      "outputs": [
        {
          "name": "stdout",
          "output_type": "stream",
          "text": [
            "[[[186 150 192]\n",
            "  [189 153 195]\n",
            "  [191 155 198]\n",
            "  ...\n",
            "  [195 153 167]\n",
            "  [194 155 168]\n",
            "  [196 157 169]]\n",
            "\n",
            " [[187 150 193]\n",
            "  [192 154 195]\n",
            "  [194 156 198]\n",
            "  ...\n",
            "  [194 153 167]\n",
            "  [194 158 168]\n",
            "  [197 156 170]]\n",
            "\n",
            " [[190 150 193]\n",
            "  [191 152 193]\n",
            "  [194 153 193]\n",
            "  ...\n",
            "  [193 153 163]\n",
            "  [197 157 171]\n",
            "  [195 155 166]]\n",
            "\n",
            " ...\n",
            "\n",
            " [[160 123 156]\n",
            "  [163 126 158]\n",
            "  [164 128 158]\n",
            "  ...\n",
            "  [185 153 176]\n",
            "  [182 150 169]\n",
            "  [178 146 158]]\n",
            "\n",
            " [[158 123 155]\n",
            "  [158 125 155]\n",
            "  [164 125 155]\n",
            "  ...\n",
            "  [185 156 182]\n",
            "  [181 149 169]\n",
            "  [176 144 158]]\n",
            "\n",
            " [[154 121 151]\n",
            "  [158 120 152]\n",
            "  [160 121 150]\n",
            "  ...\n",
            "  [183 158 184]\n",
            "  [181 151 170]\n",
            "  [175 145 159]]]\n",
            "(10015, 224, 224, 3)\n",
            "(10015, 150528)\n"
          ]
        }
      ],
      "source": [
        "images = np.array(images) # Transform images list into np array\n",
        "print(images[0])\n",
        "print(images.shape)\n",
        "\n",
        "images = images.reshape(totalImages, h * w * 3) # 4d -> 2d\n",
        "print(images.shape)"
      ]
    },
    {
      "cell_type": "markdown",
      "metadata": {
        "id": "qXAtRMQHZZ9X"
      },
      "source": [
        "## Model input treatment"
      ]
    },
    {
      "cell_type": "markdown",
      "metadata": {
        "id": "m9q4nWYQeNU0"
      },
      "source": [
        "Spliting in training and test balancing the batches by the cancer id"
      ]
    },
    {
      "cell_type": "code",
      "execution_count": null,
      "metadata": {
        "colab": {
          "background_save": true
        },
        "id": "bLemfETheP3T"
      },
      "outputs": [],
      "source": [
        "XTrain, XTest, YTrain, YTest = train_test_split(images,datasetMetadata['cancerId'], test_size = 0.2, train_size = 0.8, stratify=datasetMetadata['cancerId'])"
      ]
    },
    {
      "cell_type": "markdown",
      "metadata": {
        "id": "qkJy_BxZdoTz"
      },
      "source": [
        "Normalization"
      ]
    },
    {
      "cell_type": "code",
      "execution_count": null,
      "metadata": {
        "colab": {
          "background_save": true
        },
        "id": "uMHsqqWLdn8V",
        "outputId": "4fe08935-6f09-44c0-ba2e-367b24ae380b"
      },
      "outputs": [
        {
          "name": "stdout",
          "output_type": "stream",
          "text": [
            "(2003, 150528)\n",
            "(8012, 150528)\n",
            "4449    4\n",
            "9996    0\n",
            "4006    4\n",
            "5804    4\n",
            "5683    4\n",
            "Name: cancerId, dtype: int64\n"
          ]
        }
      ],
      "source": [
        "del images\n",
        "if minMaxScalerNorm:\n",
        "    minMaxScaler = MinMaxScaler()\n",
        "    minMaxScaler.fit(np.asarray(XTrain))\n",
        "\n",
        "    XTrain = minMaxScaler.transform(XTrain)\n",
        "    XTest = minMaxScaler.transform(XTest)\n",
        "elif standardScalerNorm:\n",
        "    standardScaler = StandardScaler()\n",
        "    standardScaler.fit(np.asarray(XTrain))\n",
        "\n",
        "    XTrain = standardScaler.transform(XTrain)\n",
        "    XTest = standardScaler.transform(XTest)\n",
        "\n",
        "print(np.shape(XTest))\n",
        "print(np.shape(XTrain))\n",
        "print(YTrain.head())"
      ]
    },
    {
      "cell_type": "markdown",
      "metadata": {
        "id": "BXbxLdHMdlvD"
      },
      "source": [
        "Resize"
      ]
    },
    {
      "cell_type": "code",
      "execution_count": null,
      "metadata": {
        "colab": {
          "background_save": true
        },
        "id": "6GOF05mmeT_v",
        "outputId": "6d7fa481-92e4-42c4-e6d4-a03404d8dccf"
      },
      "outputs": [
        {
          "name": "stdout",
          "output_type": "stream",
          "text": [
            "8012\n",
            "2003\n",
            "(224, 224, 3)\n",
            "[[[0.8392157  0.5241935  0.6062992 ]\n",
            "  [0.84313726 0.51209676 0.6039216 ]\n",
            "  [0.8392157  0.53061223 0.6117647 ]\n",
            "  ...\n",
            "  [0.9098039  0.64315355 0.6929134 ]\n",
            "  [0.9098039  0.64285713 0.6929134 ]\n",
            "  [0.8980392  0.62343097 0.6784314 ]]\n",
            "\n",
            " [[0.84705883 0.5261044  0.6117647 ]\n",
            "  [0.8392157  0.534413   0.6       ]\n",
            "  [0.84313726 0.528      0.6       ]\n",
            "  ...\n",
            "  [0.8862745  0.6182573  0.6929134 ]\n",
            "  [0.91764706 0.6443515  0.7007874 ]\n",
            "  [0.9019608  0.63179916 0.6771653 ]]\n",
            "\n",
            " [[0.85490197 0.52988046 0.61960787]\n",
            "  [0.8509804  0.53815264 0.6117647 ]\n",
            "  [0.83137256 0.5222672  0.6       ]\n",
            "  ...\n",
            "  [0.8745098  0.6260504  0.6732283 ]\n",
            "  [0.8862745  0.62083334 0.67058825]\n",
            "  [0.8980392  0.64853555 0.6889764 ]]\n",
            "\n",
            " ...\n",
            "\n",
            " [[0.78039217 0.5140562  0.54509807]\n",
            "  [0.80784315 0.53629035 0.57086617]\n",
            "  [0.81960785 0.552      0.5803922 ]\n",
            "  ...\n",
            "  [0.79133856 0.515748   0.5882353 ]\n",
            "  [0.80784315 0.53968257 0.6       ]\n",
            "  [0.7882353  0.54435486 0.5764706 ]]\n",
            "\n",
            " [[0.7921569  0.5303644  0.54901963]\n",
            "  [0.8039216  0.5465587  0.56692916]\n",
            "  [0.80784315 0.5483871  0.5686275 ]\n",
            "  ...\n",
            "  [0.8235294  0.55918366 0.6156863 ]\n",
            "  [0.8117647  0.56198347 0.6039216 ]\n",
            "  [0.7764706  0.5265306  0.57254905]]\n",
            "\n",
            " [[0.80784315 0.53413653 0.5647059 ]\n",
            "  [0.8039216  0.53629035 0.5686275 ]\n",
            "  [0.8039216  0.54285717 0.5748032 ]\n",
            "  ...\n",
            "  [0.80784315 0.57024795 0.60784316]\n",
            "  [0.8        0.53543305 0.59607846]\n",
            "  [0.7764706  0.54285717 0.58431375]]]\n"
          ]
        }
      ],
      "source": [
        "print(XTrain.shape[0])\n",
        "print(XTest.shape[0])\n",
        "XTrain = XTrain.reshape(XTrain.shape[0], h, w, 3).astype('float32')\n",
        "XTest = XTest.reshape(XTest.shape[0], h, w, 3).astype('float32')\n",
        "\n",
        "YTrain = np_utils.to_categorical(YTrain)\n",
        "YTest = np_utils.to_categorical(YTest)\n",
        "\n",
        "print(XTrain[0].shape)\n",
        "print(XTrain[0])"
      ]
    },
    {
      "cell_type": "markdown",
      "metadata": {
        "id": "utpkQiY2dD58"
      },
      "source": [
        "### Data augmentation\n",
        "\n",
        "Only be applied in the training set"
      ]
    },
    {
      "cell_type": "code",
      "execution_count": null,
      "metadata": {
        "colab": {
          "background_save": true
        },
        "id": "sEb-yUHLdwSV",
        "outputId": "1772d190-d4d4-4c27-bcce-fe5a033fd43c"
      },
      "outputs": [
        {
          "name": "stdout",
          "output_type": "stream",
          "text": [
            "(8012, 224, 224, 3)\n",
            "1206030336\n",
            "(8012, 224, 224, 3)\n",
            "1206030336\n"
          ]
        }
      ],
      "source": [
        "if dataAugmentation:\n",
        "    datagen = ImageDataGenerator(\n",
        "            # Normalizations\n",
        "            featurewise_center = featureCenter,\n",
        "            samplewise_center = sampleCenter,\n",
        "            featurewise_std_normalization = featureStdNorm,\n",
        "            samplewise_std_normalization = sampleStdNorm,\n",
        "            zca_whitening = zcaWhitening,\n",
        "            # Image modifications\n",
        "            rotation_range = rotation,\n",
        "            zoom_range = zoom,\n",
        "            channel_shift_range = channelShift,\n",
        "            fill_mode = fill,\n",
        "            cval = cval,\n",
        "            width_shift_range = widthShift,\n",
        "            height_shift_range = heightShift,\n",
        "            horizontal_flip = hFlip,\n",
        "            brightness_range = bright,\n",
        "            shear_range = shear,\n",
        "            vertical_flip = vFlip)\n",
        "\n",
        "    print(XTrain.shape)\n",
        "    print(XTrain.size)\n",
        "    datagen.fit(XTrain)\n",
        "    print(XTrain.shape)\n",
        "    print(XTrain.size)"
      ]
    },
    {
      "cell_type": "markdown",
      "metadata": {
        "id": "gjwFM-cJZS3m"
      },
      "source": [
        "# Model training"
      ]
    },
    {
      "cell_type": "markdown",
      "metadata": {
        "id": "ABMk_62CdweF"
      },
      "source": [
        "Loading pre treined model"
      ]
    },
    {
      "cell_type": "code",
      "execution_count": null,
      "metadata": {
        "colab": {
          "background_save": true
        },
        "id": "YBQlworRS5M-",
        "outputId": "6f5ca2d5-bb1d-4166-beba-9c3a04417ef1"
      },
      "outputs": [
        {
          "name": "stdout",
          "output_type": "stream",
          "text": [
            "Downloading data from https://storage.googleapis.com/tensorflow/keras-applications/convnext/convnext_base_notop.h5\n",
            "350926856/350926856 [==============================] - 2s 0us/step\n"
          ]
        },
        {
          "ename": "NameError",
          "evalue": "ignored",
          "output_type": "error",
          "traceback": [
            "\u001b[0;31m---------------------------------------------------------------------------\u001b[0m",
            "\u001b[0;31mNameError\u001b[0m                                 Traceback (most recent call last)",
            "\u001b[0;32m<ipython-input-15-675cdbdbea72>\u001b[0m in \u001b[0;36m<module>\u001b[0;34m\u001b[0m\n\u001b[1;32m      1\u001b[0m \u001b[0mmodel\u001b[0m \u001b[0;34m=\u001b[0m \u001b[0mtf\u001b[0m\u001b[0;34m.\u001b[0m\u001b[0mkeras\u001b[0m\u001b[0;34m.\u001b[0m\u001b[0mapplications\u001b[0m\u001b[0;34m.\u001b[0m\u001b[0mconvnext\u001b[0m\u001b[0;34m.\u001b[0m\u001b[0mConvNeXtBase\u001b[0m\u001b[0;34m(\u001b[0m\u001b[0mweights\u001b[0m\u001b[0;34m=\u001b[0m\u001b[0;34m'imagenet'\u001b[0m\u001b[0;34m,\u001b[0m \u001b[0minclude_top\u001b[0m\u001b[0;34m=\u001b[0m\u001b[0;32mFalse\u001b[0m\u001b[0;34m,\u001b[0m \u001b[0mclasses\u001b[0m\u001b[0;34m=\u001b[0m\u001b[0;36m7\u001b[0m\u001b[0;34m,\u001b[0m \u001b[0minput_shape\u001b[0m\u001b[0;34m=\u001b[0m\u001b[0;34m(\u001b[0m\u001b[0mh\u001b[0m\u001b[0;34m,\u001b[0m\u001b[0mw\u001b[0m\u001b[0;34m,\u001b[0m\u001b[0;36m3\u001b[0m\u001b[0;34m)\u001b[0m\u001b[0;34m)\u001b[0m\u001b[0;34m\u001b[0m\u001b[0;34m\u001b[0m\u001b[0m\n\u001b[1;32m      2\u001b[0m \u001b[0;34m\u001b[0m\u001b[0m\n\u001b[0;32m----> 3\u001b[0;31m \u001b[0;32mfor\u001b[0m \u001b[0mlayer\u001b[0m \u001b[0;32min\u001b[0m \u001b[0mvgg\u001b[0m\u001b[0;34m.\u001b[0m\u001b[0mlayers\u001b[0m\u001b[0;34m:\u001b[0m\u001b[0;34m\u001b[0m\u001b[0;34m\u001b[0m\u001b[0m\n\u001b[0m\u001b[1;32m      4\u001b[0m   \u001b[0mlayer\u001b[0m\u001b[0;34m.\u001b[0m\u001b[0mtrainable\u001b[0m \u001b[0;34m=\u001b[0m \u001b[0;32mFalse\u001b[0m\u001b[0;34m\u001b[0m\u001b[0;34m\u001b[0m\u001b[0m\n\u001b[1;32m      5\u001b[0m \u001b[0;34m\u001b[0m\u001b[0m\n",
            "\u001b[0;31mNameError\u001b[0m: name 'vgg' is not defined"
          ]
        }
      ],
      "source": [
        "model = tf.keras.applications.convnext.ConvNeXtBase(weights='imagenet', include_top=False, classes=7, input_shape=(h,w,3))\n",
        "\n",
        "for layer in model.layers:\n",
        "  layer.trainable = False\n",
        "\n",
        "prediction = tf.keras.layers.Dense(7, activation='softmax')(tf.keras.layers.Flatten()(model.output)) # 7 classes\n",
        "\n",
        "model = tf.keras.Model(inputs=model.input, outputs=prediction)"
      ]
    },
    {
      "cell_type": "code",
      "execution_count": null,
      "metadata": {
        "colab": {
          "background_save": true
        },
        "id": "1uBI9HYo4yF2"
      },
      "outputs": [],
      "source": [
        "optimizer = Adam(lr=0.001, beta_1=0.9, beta_2=0.999, epsilon=None, decay=0.0, amsgrad=False)\n",
        "model.compile(optimizer = optimizer , loss = \"sparse_categorical_crossentropy\", metrics=[\"accuracy\"])\n",
        "learning_rate_reduction = ReduceLROnPlateau(monitor='val_acc', \n",
        "                                            patience=3, \n",
        "                                            verbose=1, \n",
        "                                            factor=0.5, \n",
        "                                            min_lr=0.00001)"
      ]
    },
    {
      "cell_type": "code",
      "execution_count": null,
      "metadata": {
        "colab": {
          "background_save": true
        },
        "id": "k_5cdmQ5GhWX"
      },
      "outputs": [],
      "source": [
        "print(\"XTest = \", XTest.shape)\n",
        "print(\"YTest = \", YTest.shape)\n",
        "print(\"XTrain = \", XTrain.shape)\n",
        "print(\"YTrain = \", YTrain.shape)"
      ]
    },
    {
      "cell_type": "code",
      "execution_count": null,
      "metadata": {
        "colab": {
          "background_save": true
        },
        "id": "4B9G9OpO3ZwM"
      },
      "outputs": [],
      "source": [
        "if dataAugmentation:\n",
        "    history = model.fit_generator(datagen.flow(XTrain, YTrain, batch_size = batchSize),\n",
        "                                epochs = epochs, validation_data = (XTest,YTest),\n",
        "                                verbose = 2, steps_per_epoch=XTrain.shape[0] // batchSize,\n",
        "                                callbacks = [learning_rate_reduction])\n",
        "else:\n",
        "    history = model.fit(XTrain, YTrain, validation_data=(XTest, YTest), epochs=epochs, batch_size=batchSize, verbose=2)"
      ]
    },
    {
      "cell_type": "markdown",
      "metadata": {
        "id": "oUCTAqwtZXq_"
      },
      "source": [
        "# Statistics"
      ]
    },
    {
      "cell_type": "markdown",
      "metadata": {
        "id": "8ecMbWGHewiC"
      },
      "source": [
        "Training epochs statistics"
      ]
    },
    {
      "cell_type": "code",
      "execution_count": null,
      "metadata": {
        "colab": {
          "background_save": true
        },
        "id": "zG7dLiHMewm8"
      },
      "outputs": [],
      "source": [
        "plt.plot(history.history['loss'])\n",
        "plt.plot(history.history['val_loss'])\n",
        "plt.title('Model loss')\n",
        "plt.ylabel('Loss')\n",
        "plt.xlabel('Epoch')\n",
        "plt.legend(['Train', 'Test'], loc='upper left')\n",
        "plt.show()"
      ]
    },
    {
      "cell_type": "markdown",
      "metadata": {
        "id": "kNmDZmAyxftV"
      },
      "source": [
        "General eficiency"
      ]
    },
    {
      "cell_type": "code",
      "execution_count": null,
      "metadata": {
        "colab": {
          "background_save": true
        },
        "id": "WE7LL0zwxf1W"
      },
      "outputs": [],
      "source": [
        "model.evaluate(XTest,YTest, verbose=0)"
      ]
    },
    {
      "cell_type": "markdown",
      "metadata": {
        "id": "6iW5m0D1ffgd"
      },
      "source": [
        "Confusion matrix"
      ]
    },
    {
      "cell_type": "code",
      "execution_count": null,
      "metadata": {
        "colab": {
          "background_save": true
        },
        "id": "iDiyZhCAfGEA"
      },
      "outputs": [],
      "source": [
        "cm=confusion_matrix(YTest.argmax(axis=1),model.predict(XTest).argmax(axis=1))\n",
        "dfCm = pd.DataFrame(cm, range(7),range(7))\n",
        "plt.figure(figsize = (12,12))\n",
        "sns.set(font_scale=1.4) # for label size\n",
        "sns.heatmap(dfCm, annot=False, annot_kws={\"size\": 12}) # font size\n",
        "\n",
        "for i in range(7):\n",
        "    for j in range(7):\n",
        "        text = plt.text(j + 0.5, i + 0.5, \"{:.2f}%\".format(cm[i, j] / cm[i].sum() * 100), va=\"center\", ha=\"center\", color=\"g\")\n",
        "\n",
        "\n",
        "plt.ylabel('True label')\n",
        "plt.xlabel('Predicted label')"
      ]
    },
    {
      "cell_type": "markdown",
      "metadata": {
        "id": "MOSa8Znhfh6u"
      },
      "source": [
        "Saving model into google drive"
      ]
    },
    {
      "cell_type": "code",
      "execution_count": null,
      "metadata": {
        "colab": {
          "background_save": true
        },
        "id": "XgBtttlcfIEt"
      },
      "outputs": [],
      "source": [
        "#model.save('/content/gdrive/MyDrive/PUC/TCC/Notebooks/simples.h5')"
      ]
    },
    {
      "cell_type": "markdown",
      "metadata": {
        "id": "KqnItrVpviuP"
      },
      "source": [
        "# Transfer Learning"
      ]
    }
  ],
  "metadata": {
    "accelerator": "TPU",
    "colab": {
      "machine_shape": "hm",
      "provenance": []
    },
    "gpuClass": "standard",
    "kernelspec": {
      "display_name": "Python 3",
      "name": "python3"
    },
    "language_info": {
      "name": "python"
    }
  },
  "nbformat": 4,
  "nbformat_minor": 0
}