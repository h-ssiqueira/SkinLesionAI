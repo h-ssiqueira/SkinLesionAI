{
 "cells": [
  {
   "attachments": {},
   "cell_type": "markdown",
   "metadata": {},
   "source": [
    "# Database creation\n",
    "## Libraries import and connection establishing"
   ]
  },
  {
   "cell_type": "code",
   "execution_count": null,
   "metadata": {},
   "outputs": [],
   "source": [
    "import sqlite3, base64\n",
    "\n",
    "connection = sqlite3.connect('database.db')\n",
    "cursor = connection.cursor()"
   ]
  },
  {
   "attachments": {},
   "cell_type": "markdown",
   "metadata": {},
   "source": [
    "Cell to create tables and relationships"
   ]
  },
  {
   "cell_type": "code",
   "execution_count": null,
   "metadata": {},
   "outputs": [],
   "source": [
    "with open(\"database.sql\", 'r') as script:\n",
    "    statements = script.read().split(';')\n",
    "    for statement in statements:\n",
    "        cursor.execute(statement)\n",
    "connection.commit()\n",
    "cursor.execute(\"SELECT name FROM sqlite_master;\")\n",
    "cursor.fetchall()"
   ]
  },
  {
   "cell_type": "code",
   "execution_count": null,
   "metadata": {},
   "outputs": [],
   "source": [
    "def getNotebook(notebook):\n",
    "    if notebook.startswith('c'):\n",
    "        notebook = open(\"../Notebooks/trainings/convnext/\".join([notebook,'.ipynb']))\n",
    "    elif notebook.startswith('r'):\n",
    "        notebook = open(\"../Notebooks/trainings/resnetv2/\".join([notebook,'.ipynb']))\n",
    "    elif notebook.startswith('x'):\n",
    "        notebook = open(\"../Notebooks/trainings/xception/\".join([notebook,'.ipynb']))\n",
    "    return notebook.read().splitlines()\n",
    "\n",
    "def getNotebookImages(notebook):\n",
    "    image_list = []\n",
    "    lines = getNotebook(notebook)\n",
    "\n",
    "    for line in reversed(lines):\n",
    "        if line.startswith('\"image/'):\n",
    "            parts = line.split(': ')\n",
    "            image_format = parts[0].strip('\"')\n",
    "            image_data = parts[1].strip().strip('\"')\n",
    "\n",
    "            decoded_image = base64.b64decode(image_data)\n",
    "\n",
    "            image_list.append((image_format, decoded_image))\n",
    "\n",
    "            if len(image_list) == 13:\n",
    "                break\n",
    "\n",
    "    return image_list"
   ]
  },
  {
   "attachments": {},
   "cell_type": "markdown",
   "metadata": {},
   "source": [
    "Insert information in database"
   ]
  },
  {
   "cell_type": "code",
   "execution_count": null,
   "metadata": {},
   "outputs": [],
   "source": [
    "cursor.execute(\"INSERT INTO configuration (transfer_learning,freeze_layers,balance_classes,segmentation,data_augmentation,normalization,custom_optimizer,callback) VALUES (false,false,false,false,false,\\\"none\\\",false,false);\")\n",
    "\n",
    "cursor.execute(\"INSERT INTO noteboook (name,architecture,confusion_matrix,loss,accuracy,auc,recall,precision,false_positives,false_negatives,true_negatives,true_positives,val_loss,val_accuracy,val_auc,val_recall,val_precision,val_false_positives,val_false_negatives,val_true_negatives,val_true_positives,loss_epochs,accuracy_epochs,auc_epochs,recall_epochs,precision_epochs,configuration_id) VALUES (,\\\"ConvNext\\\",?,,,,,,,,,,,,,,,,,,,,,,,,)\")\n",
    "cursor.execute(\"INSERT INTO metrics (type,confusion_matrix,precision,f1_score,roc_auc,recall,specificity,notebook_id) VALUES (\\\"Basal_cell_carcinoma\\\",?,,,,,);\")\n",
    "cursor.execute(\"INSERT INTO metrics (type,confusion_matrix,precision,f1_score,roc_auc,recall,specificity,notebook_id) VALUES (\\\"Benign_keratosis\\\",?,,,,,);\")\n",
    "cursor.execute(\"INSERT INTO metrics (type,confusion_matrix,precision,f1_score,roc_auc,recall,specificity,notebook_id) VALUES (\\\"Bowens_disease\\\",?,,,,,);\")\n",
    "cursor.execute(\"INSERT INTO metrics (type,confusion_matrix,precision,f1_score,roc_auc,recall,specificity,notebook_id) VALUES (\\\"Dermatofibroma\\\",?,,,,,);\")\n",
    "cursor.execute(\"INSERT INTO metrics (type,confusion_matrix,precision,f1_score,roc_auc,recall,specificity,notebook_id) VALUES (\\\"Melanocytic_nevi\\\",?,,,,,);\")\n",
    "cursor.execute(\"INSERT INTO metrics (type,confusion_matrix,precision,f1_score,roc_auc,recall,specificity,notebook_id) VALUES (\\\"Melanoma\\\",?,,,,,);\")\n",
    "cursor.execute(\"INSERT INTO metrics (type,confusion_matrix,precision,f1_score,roc_auc,recall,specificity,notebook_id) VALUES (\\\"Vascular_lesion\\\",?,,,,,);\")\n",
    "\n",
    "cursor.execute(\"INSERT INTO noteboook (name,architecture,confusion_matrix,loss,accuracy,auc,recall,precision,false_positives,false_negatives,true_negatives,true_positives,val_loss,val_accuracy,val_auc,val_recall,val_precision,val_false_positives,val_false_negatives,val_true_negatives,val_true_positives,loss_epochs,accuracy_epochs,auc_epochs,recall_epochs,precision_epochs,configuration_id) VALUES (,\\\"ResNetV2\\\",?,,,,,,,,,,,,,,,,,,,,,,,,)\")\n",
    "cursor.execute(\"INSERT INTO metrics (type,confusion_matrix,precision,f1_score,roc_auc,recall,specificity,notebook_id) VALUES (\\\"Basal_cell_carcinoma\\\",?,,,,,);\")\n",
    "cursor.execute(\"INSERT INTO metrics (type,confusion_matrix,precision,f1_score,roc_auc,recall,specificity,notebook_id) VALUES (\\\"Benign_keratosis\\\",?,,,,,);\")\n",
    "cursor.execute(\"INSERT INTO metrics (type,confusion_matrix,precision,f1_score,roc_auc,recall,specificity,notebook_id) VALUES (\\\"Bowens_disease\\\",?,,,,,);\")\n",
    "cursor.execute(\"INSERT INTO metrics (type,confusion_matrix,precision,f1_score,roc_auc,recall,specificity,notebook_id) VALUES (\\\"Dermatofibroma\\\",?,,,,,);\")\n",
    "cursor.execute(\"INSERT INTO metrics (type,confusion_matrix,precision,f1_score,roc_auc,recall,specificity,notebook_id) VALUES (\\\"Melanocytic_nevi\\\",?,,,,,);\")\n",
    "cursor.execute(\"INSERT INTO metrics (type,confusion_matrix,precision,f1_score,roc_auc,recall,specificity,notebook_id) VALUES (\\\"Melanoma\\\",?,,,,,);\")\n",
    "cursor.execute(\"INSERT INTO metrics (type,confusion_matrix,precision,f1_score,roc_auc,recall,specificity,notebook_id) VALUES (\\\"Vascular_lesion\\\",?,,,,,);\")\n",
    "\n",
    "cursor.execute(\"INSERT INTO noteboook (name,architecture,confusion_matrix,loss,accuracy,auc,recall,precision,false_positives,false_negatives,true_negatives,true_positives,val_loss,val_accuracy,val_auc,val_recall,val_precision,val_false_positives,val_false_negatives,val_true_negatives,val_true_positives,loss_epochs,accuracy_epochs,auc_epochs,recall_epochs,precision_epochs,configuration_id) VALUES (,\\\"Xception\\\",?,,,,,,,,,,,,,,,,,,,,,,,,)\")\n",
    "cursor.execute(\"INSERT INTO metrics (type,confusion_matrix,precision,f1_score,roc_auc,recall,specificity,notebook_id) VALUES (\\\"Basal_cell_carcinoma\\\",?,,,,,);\")\n",
    "cursor.execute(\"INSERT INTO metrics (type,confusion_matrix,precision,f1_score,roc_auc,recall,specificity,notebook_id) VALUES (\\\"Benign_keratosis\\\",?,,,,,);\")\n",
    "cursor.execute(\"INSERT INTO metrics (type,confusion_matrix,precision,f1_score,roc_auc,recall,specificity,notebook_id) VALUES (\\\"Bowens_disease\\\",?,,,,,);\")\n",
    "cursor.execute(\"INSERT INTO metrics (type,confusion_matrix,precision,f1_score,roc_auc,recall,specificity,notebook_id) VALUES (\\\"Dermatofibroma\\\",?,,,,,);\")\n",
    "cursor.execute(\"INSERT INTO metrics (type,confusion_matrix,precision,f1_score,roc_auc,recall,specificity,notebook_id) VALUES (\\\"Melanocytic_nevi\\\",?,,,,,);\")\n",
    "cursor.execute(\"INSERT INTO metrics (type,confusion_matrix,precision,f1_score,roc_auc,recall,specificity,notebook_id) VALUES (\\\"Melanoma\\\",?,,,,,);\")\n",
    "cursor.execute(\"INSERT INTO metrics (type,confusion_matrix,precision,f1_score,roc_auc,recall,specificity,notebook_id) VALUES (\\\"Vascular_lesion\\\",?,,,,,);\")\n",
    "\n",
    "connection.commit()"
   ]
  },
  {
   "cell_type": "code",
   "execution_count": null,
   "metadata": {},
   "outputs": [],
   "source": [
    "cursor.execute(\"INSERT INTO configuration (transfer_learning,freeze_layers,balance_classes,segmentation,data_augmentation,normalization,custom_optimizer,callback) VALUES (false,false,true,false,false,\\\"none\\\",false,false);\")\n",
    "\n",
    "cursor.execute(\"INSERT INTO noteboook (name,architecture,confusion_matrix,loss,accuracy,auc,recall,precision,false_positives,false_negatives,true_negatives,true_positives,val_loss,val_accuracy,val_auc,val_recall,val_precision,val_false_positives,val_false_negatives,val_true_negatives,val_true_positives,configuration_id) VALUES (,\\\"ConvNext\\\",?,,,,,,,,,,,,,,,,,,,)\", image_data)\n",
    "cursor.execute(\"INSERT INTO metrics (type,confusion_matrix,precision,f1_score,roc_auc,recall,specificity,notebook_id) VALUES (\\\"Basal_cell_carcinoma\\\",?,,,,,);\")\n",
    "cursor.execute(\"INSERT INTO metrics (type,confusion_matrix,precision,f1_score,roc_auc,recall,specificity,notebook_id) VALUES (\\\"Benign_keratosis\\\",?,,,,,);\")\n",
    "cursor.execute(\"INSERT INTO metrics (type,confusion_matrix,precision,f1_score,roc_auc,recall,specificity,notebook_id) VALUES (\\\"Bowens_disease\\\",?,,,,,);\")\n",
    "cursor.execute(\"INSERT INTO metrics (type,confusion_matrix,precision,f1_score,roc_auc,recall,specificity,notebook_id) VALUES (\\\"Dermatofibroma\\\",?,,,,,);\")\n",
    "cursor.execute(\"INSERT INTO metrics (type,confusion_matrix,precision,f1_score,roc_auc,recall,specificity,notebook_id) VALUES (\\\"Melanocytic_nevi\\\",?,,,,,);\")\n",
    "cursor.execute(\"INSERT INTO metrics (type,confusion_matrix,precision,f1_score,roc_auc,recall,specificity,notebook_id) VALUES (\\\"Melanoma\\\",?,,,,,);\")\n",
    "cursor.execute(\"INSERT INTO metrics (type,confusion_matrix,precision,f1_score,roc_auc,recall,specificity,notebook_id) VALUES (\\\"Vascular_lesion\\\",?,,,,,);\")\n",
    "\n",
    "cursor.execute(\"INSERT INTO noteboook (name,architecture,confusion_matrix,loss,accuracy,auc,recall,precision,false_positives,false_negatives,true_negatives,true_positives,val_loss,val_accuracy,val_auc,val_recall,val_precision,val_false_positives,val_false_negatives,val_true_negatives,val_true_positives,configuration_id) VALUES (,\\\"ResNetV2\\\",?,,,,,,,,,,,,,,,,,,,)\", image_data)\n",
    "cursor.execute(\"INSERT INTO metrics (type,confusion_matrix,precision,f1_score,roc_auc,recall,specificity,notebook_id) VALUES (\\\"Basal_cell_carcinoma\\\",?,,,,,);\")\n",
    "cursor.execute(\"INSERT INTO metrics (type,confusion_matrix,precision,f1_score,roc_auc,recall,specificity,notebook_id) VALUES (\\\"Benign_keratosis\\\",?,,,,,);\")\n",
    "cursor.execute(\"INSERT INTO metrics (type,confusion_matrix,precision,f1_score,roc_auc,recall,specificity,notebook_id) VALUES (\\\"Bowens_disease\\\",?,,,,,);\")\n",
    "cursor.execute(\"INSERT INTO metrics (type,confusion_matrix,precision,f1_score,roc_auc,recall,specificity,notebook_id) VALUES (\\\"Dermatofibroma\\\",?,,,,,);\")\n",
    "cursor.execute(\"INSERT INTO metrics (type,confusion_matrix,precision,f1_score,roc_auc,recall,specificity,notebook_id) VALUES (\\\"Melanocytic_nevi\\\",?,,,,,);\")\n",
    "cursor.execute(\"INSERT INTO metrics (type,confusion_matrix,precision,f1_score,roc_auc,recall,specificity,notebook_id) VALUES (\\\"Melanoma\\\",?,,,,,);\")\n",
    "cursor.execute(\"INSERT INTO metrics (type,confusion_matrix,precision,f1_score,roc_auc,recall,specificity,notebook_id) VALUES (\\\"Vascular_lesion\\\",?,,,,,);\")\n",
    "\n",
    "cursor.execute(\"INSERT INTO noteboook (name,architecture,confusion_matrix,loss,accuracy,auc,recall,precision,false_positives,false_negatives,true_negatives,true_positives,val_loss,val_accuracy,val_auc,val_recall,val_precision,val_false_positives,val_false_negatives,val_true_negatives,val_true_positives,configuration_id) VALUES (,\\\"Xception\\\",?,,,,,,,,,,,,,,,,,,,)\", image_data)\n",
    "cursor.execute(\"INSERT INTO metrics (type,confusion_matrix,precision,f1_score,roc_auc,recall,specificity,notebook_id) VALUES (\\\"Basal_cell_carcinoma\\\",?,,,,,);\")\n",
    "cursor.execute(\"INSERT INTO metrics (type,confusion_matrix,precision,f1_score,roc_auc,recall,specificity,notebook_id) VALUES (\\\"Benign_keratosis\\\",?,,,,,);\")\n",
    "cursor.execute(\"INSERT INTO metrics (type,confusion_matrix,precision,f1_score,roc_auc,recall,specificity,notebook_id) VALUES (\\\"Bowens_disease\\\",?,,,,,);\")\n",
    "cursor.execute(\"INSERT INTO metrics (type,confusion_matrix,precision,f1_score,roc_auc,recall,specificity,notebook_id) VALUES (\\\"Dermatofibroma\\\",?,,,,,);\")\n",
    "cursor.execute(\"INSERT INTO metrics (type,confusion_matrix,precision,f1_score,roc_auc,recall,specificity,notebook_id) VALUES (\\\"Melanocytic_nevi\\\",?,,,,,);\")\n",
    "cursor.execute(\"INSERT INTO metrics (type,confusion_matrix,precision,f1_score,roc_auc,recall,specificity,notebook_id) VALUES (\\\"Melanoma\\\",?,,,,,);\")\n",
    "cursor.execute(\"INSERT INTO metrics (type,confusion_matrix,precision,f1_score,roc_auc,recall,specificity,notebook_id) VALUES (\\\"Vascular_lesion\\\",?,,,,,);\")\n",
    "\n",
    "connection.commit()"
   ]
  },
  {
   "cell_type": "code",
   "execution_count": null,
   "metadata": {},
   "outputs": [],
   "source": [
    "cursor.execute(\"INSERT INTO configuration (transfer_learning,freeze_layers,balance_classes,segmentation,data_augmentation,normalization,custom_optimizer,callback) VALUES (true,true,true,false,false,\\\"StandardScaler\\\",false,false);\")\n",
    "\n",
    "cursor.execute(\"INSERT INTO noteboook (name,architecture,confusion_matrix,loss,accuracy,auc,recall,precision,false_positives,false_negatives,true_negatives,true_positives,val_loss,val_accuracy,val_auc,val_recall,val_precision,val_false_positives,val_false_negatives,val_true_negatives,val_true_positives,configuration_id) VALUES (,\\\"ConvNext\\\",?,,,,,,,,,,,,,,,,,,,)\", image_data)\n",
    "cursor.execute(\"INSERT INTO metrics (type,confusion_matrix,precision,f1_score,roc_auc,recall,specificity,notebook_id) VALUES (\\\"Basal_cell_carcinoma\\\",?,,,,,);\")\n",
    "cursor.execute(\"INSERT INTO metrics (type,confusion_matrix,precision,f1_score,roc_auc,recall,specificity,notebook_id) VALUES (\\\"Benign_keratosis\\\",?,,,,,);\")\n",
    "cursor.execute(\"INSERT INTO metrics (type,confusion_matrix,precision,f1_score,roc_auc,recall,specificity,notebook_id) VALUES (\\\"Bowens_disease\\\",?,,,,,);\")\n",
    "cursor.execute(\"INSERT INTO metrics (type,confusion_matrix,precision,f1_score,roc_auc,recall,specificity,notebook_id) VALUES (\\\"Dermatofibroma\\\",?,,,,,);\")\n",
    "cursor.execute(\"INSERT INTO metrics (type,confusion_matrix,precision,f1_score,roc_auc,recall,specificity,notebook_id) VALUES (\\\"Melanocytic_nevi\\\",?,,,,,);\")\n",
    "cursor.execute(\"INSERT INTO metrics (type,confusion_matrix,precision,f1_score,roc_auc,recall,specificity,notebook_id) VALUES (\\\"Melanoma\\\",?,,,,,);\")\n",
    "cursor.execute(\"INSERT INTO metrics (type,confusion_matrix,precision,f1_score,roc_auc,recall,specificity,notebook_id) VALUES (\\\"Vascular_lesion\\\",?,,,,,);\")\n",
    "\n",
    "cursor.execute(\"INSERT INTO noteboook (name,architecture,confusion_matrix,loss,accuracy,auc,recall,precision,false_positives,false_negatives,true_negatives,true_positives,val_loss,val_accuracy,val_auc,val_recall,val_precision,val_false_positives,val_false_negatives,val_true_negatives,val_true_positives,configuration_id) VALUES (,\\\"ResNetV2\\\",?,,,,,,,,,,,,,,,,,,,)\", image_data)\n",
    "cursor.execute(\"INSERT INTO metrics (type,confusion_matrix,precision,f1_score,roc_auc,recall,specificity,notebook_id) VALUES (\\\"Basal_cell_carcinoma\\\",?,,,,,);\")\n",
    "cursor.execute(\"INSERT INTO metrics (type,confusion_matrix,precision,f1_score,roc_auc,recall,specificity,notebook_id) VALUES (\\\"Benign_keratosis\\\",?,,,,,);\")\n",
    "cursor.execute(\"INSERT INTO metrics (type,confusion_matrix,precision,f1_score,roc_auc,recall,specificity,notebook_id) VALUES (\\\"Bowens_disease\\\",?,,,,,);\")\n",
    "cursor.execute(\"INSERT INTO metrics (type,confusion_matrix,precision,f1_score,roc_auc,recall,specificity,notebook_id) VALUES (\\\"Dermatofibroma\\\",?,,,,,);\")\n",
    "cursor.execute(\"INSERT INTO metrics (type,confusion_matrix,precision,f1_score,roc_auc,recall,specificity,notebook_id) VALUES (\\\"Melanocytic_nevi\\\",?,,,,,);\")\n",
    "cursor.execute(\"INSERT INTO metrics (type,confusion_matrix,precision,f1_score,roc_auc,recall,specificity,notebook_id) VALUES (\\\"Melanoma\\\",?,,,,,);\")\n",
    "cursor.execute(\"INSERT INTO metrics (type,confusion_matrix,precision,f1_score,roc_auc,recall,specificity,notebook_id) VALUES (\\\"Vascular_lesion\\\",?,,,,,);\")\n",
    "\n",
    "cursor.execute(\"INSERT INTO noteboook (name,architecture,confusion_matrix,loss,accuracy,auc,recall,precision,false_positives,false_negatives,true_negatives,true_positives,val_loss,val_accuracy,val_auc,val_recall,val_precision,val_false_positives,val_false_negatives,val_true_negatives,val_true_positives,configuration_id) VALUES (,\\\"Xception\\\",?,,,,,,,,,,,,,,,,,,,)\", image_data)\n",
    "cursor.execute(\"INSERT INTO metrics (type,confusion_matrix,precision,f1_score,roc_auc,recall,specificity,notebook_id) VALUES (\\\"Basal_cell_carcinoma\\\",?,,,,,);\")\n",
    "cursor.execute(\"INSERT INTO metrics (type,confusion_matrix,precision,f1_score,roc_auc,recall,specificity,notebook_id) VALUES (\\\"Benign_keratosis\\\",?,,,,,);\")\n",
    "cursor.execute(\"INSERT INTO metrics (type,confusion_matrix,precision,f1_score,roc_auc,recall,specificity,notebook_id) VALUES (\\\"Bowens_disease\\\",?,,,,,);\")\n",
    "cursor.execute(\"INSERT INTO metrics (type,confusion_matrix,precision,f1_score,roc_auc,recall,specificity,notebook_id) VALUES (\\\"Dermatofibroma\\\",?,,,,,);\")\n",
    "cursor.execute(\"INSERT INTO metrics (type,confusion_matrix,precision,f1_score,roc_auc,recall,specificity,notebook_id) VALUES (\\\"Melanocytic_nevi\\\",?,,,,,);\")\n",
    "cursor.execute(\"INSERT INTO metrics (type,confusion_matrix,precision,f1_score,roc_auc,recall,specificity,notebook_id) VALUES (\\\"Melanoma\\\",?,,,,,);\")\n",
    "cursor.execute(\"INSERT INTO metrics (type,confusion_matrix,precision,f1_score,roc_auc,recall,specificity,notebook_id) VALUES (\\\"Vascular_lesion\\\",?,,,,,);\")\n",
    "\n",
    "connection.commit()"
   ]
  },
  {
   "cell_type": "code",
   "execution_count": null,
   "metadata": {},
   "outputs": [],
   "source": [
    "cursor.execute(\"INSERT INTO configuration (transfer_learning,freeze_layers,balance_classes,segmentation,data_augmentation,normalization,custom_optimizer,callback) VALUES (true,true,false,false,false,\\\"none\\\",false,false);\")\n",
    "\n",
    "cursor.execute(\"INSERT INTO noteboook (name,architecture,confusion_matrix,loss,accuracy,auc,recall,precision,false_positives,false_negatives,true_negatives,true_positives,val_loss,val_accuracy,val_auc,val_recall,val_precision,val_false_positives,val_false_negatives,val_true_negatives,val_true_positives,configuration_id) VALUES (,\\\"ConvNext\\\",?,,,,,,,,,,,,,,,,,,,)\", image_data)\n",
    "cursor.execute(\"INSERT INTO metrics (type,confusion_matrix,precision,f1_score,roc_auc,recall,specificity,notebook_id) VALUES (\\\"Basal_cell_carcinoma\\\",?,,,,,);\")\n",
    "cursor.execute(\"INSERT INTO metrics (type,confusion_matrix,precision,f1_score,roc_auc,recall,specificity,notebook_id) VALUES (\\\"Benign_keratosis\\\",?,,,,,);\")\n",
    "cursor.execute(\"INSERT INTO metrics (type,confusion_matrix,precision,f1_score,roc_auc,recall,specificity,notebook_id) VALUES (\\\"Bowens_disease\\\",?,,,,,);\")\n",
    "cursor.execute(\"INSERT INTO metrics (type,confusion_matrix,precision,f1_score,roc_auc,recall,specificity,notebook_id) VALUES (\\\"Dermatofibroma\\\",?,,,,,);\")\n",
    "cursor.execute(\"INSERT INTO metrics (type,confusion_matrix,precision,f1_score,roc_auc,recall,specificity,notebook_id) VALUES (\\\"Melanocytic_nevi\\\",?,,,,,);\")\n",
    "cursor.execute(\"INSERT INTO metrics (type,confusion_matrix,precision,f1_score,roc_auc,recall,specificity,notebook_id) VALUES (\\\"Melanoma\\\",?,,,,,);\")\n",
    "cursor.execute(\"INSERT INTO metrics (type,confusion_matrix,precision,f1_score,roc_auc,recall,specificity,notebook_id) VALUES (\\\"Vascular_lesion\\\",?,,,,,);\")\n",
    "\n",
    "cursor.execute(\"INSERT INTO noteboook (name,architecture,confusion_matrix,loss,accuracy,auc,recall,precision,false_positives,false_negatives,true_negatives,true_positives,val_loss,val_accuracy,val_auc,val_recall,val_precision,val_false_positives,val_false_negatives,val_true_negatives,val_true_positives,configuration_id) VALUES (,\\\"ResNetV2\\\",?,,,,,,,,,,,,,,,,,,,)\", image_data)\n",
    "cursor.execute(\"INSERT INTO metrics (type,confusion_matrix,precision,f1_score,roc_auc,recall,specificity,notebook_id) VALUES (\\\"Basal_cell_carcinoma\\\",?,,,,,);\")\n",
    "cursor.execute(\"INSERT INTO metrics (type,confusion_matrix,precision,f1_score,roc_auc,recall,specificity,notebook_id) VALUES (\\\"Benign_keratosis\\\",?,,,,,);\")\n",
    "cursor.execute(\"INSERT INTO metrics (type,confusion_matrix,precision,f1_score,roc_auc,recall,specificity,notebook_id) VALUES (\\\"Bowens_disease\\\",?,,,,,);\")\n",
    "cursor.execute(\"INSERT INTO metrics (type,confusion_matrix,precision,f1_score,roc_auc,recall,specificity,notebook_id) VALUES (\\\"Dermatofibroma\\\",?,,,,,);\")\n",
    "cursor.execute(\"INSERT INTO metrics (type,confusion_matrix,precision,f1_score,roc_auc,recall,specificity,notebook_id) VALUES (\\\"Melanocytic_nevi\\\",?,,,,,);\")\n",
    "cursor.execute(\"INSERT INTO metrics (type,confusion_matrix,precision,f1_score,roc_auc,recall,specificity,notebook_id) VALUES (\\\"Melanoma\\\",?,,,,,);\")\n",
    "cursor.execute(\"INSERT INTO metrics (type,confusion_matrix,precision,f1_score,roc_auc,recall,specificity,notebook_id) VALUES (\\\"Vascular_lesion\\\",?,,,,,);\")\n",
    "\n",
    "cursor.execute(\"INSERT INTO noteboook (name,architecture,confusion_matrix,loss,accuracy,auc,recall,precision,false_positives,false_negatives,true_negatives,true_positives,val_loss,val_accuracy,val_auc,val_recall,val_precision,val_false_positives,val_false_negatives,val_true_negatives,val_true_positives,configuration_id) VALUES (,\\\"Xception\\\",?,,,,,,,,,,,,,,,,,,,)\", image_data)\n",
    "cursor.execute(\"INSERT INTO metrics (type,confusion_matrix,precision,f1_score,roc_auc,recall,specificity,notebook_id) VALUES (\\\"Basal_cell_carcinoma\\\",?,,,,,);\")\n",
    "cursor.execute(\"INSERT INTO metrics (type,confusion_matrix,precision,f1_score,roc_auc,recall,specificity,notebook_id) VALUES (\\\"Benign_keratosis\\\",?,,,,,);\")\n",
    "cursor.execute(\"INSERT INTO metrics (type,confusion_matrix,precision,f1_score,roc_auc,recall,specificity,notebook_id) VALUES (\\\"Bowens_disease\\\",?,,,,,);\")\n",
    "cursor.execute(\"INSERT INTO metrics (type,confusion_matrix,precision,f1_score,roc_auc,recall,specificity,notebook_id) VALUES (\\\"Dermatofibroma\\\",?,,,,,);\")\n",
    "cursor.execute(\"INSERT INTO metrics (type,confusion_matrix,precision,f1_score,roc_auc,recall,specificity,notebook_id) VALUES (\\\"Melanocytic_nevi\\\",?,,,,,);\")\n",
    "cursor.execute(\"INSERT INTO metrics (type,confusion_matrix,precision,f1_score,roc_auc,recall,specificity,notebook_id) VALUES (\\\"Melanoma\\\",?,,,,,);\")\n",
    "cursor.execute(\"INSERT INTO metrics (type,confusion_matrix,precision,f1_score,roc_auc,recall,specificity,notebook_id) VALUES (\\\"Vascular_lesion\\\",?,,,,,);\")\n",
    "\n",
    "connection.commit()"
   ]
  },
  {
   "cell_type": "code",
   "execution_count": null,
   "metadata": {},
   "outputs": [],
   "source": [
    "cursor.execute(\"INSERT INTO configuration (transfer_learning,freeze_layers,balance_classes,segmentation,data_augmentation,normalization,custom_optimizer,callback) VALUES (false,false,false,true,false,\\\"none\\\",false,false);\")\n",
    "\n",
    "cursor.execute(\"INSERT INTO noteboook (name,architecture,confusion_matrix,loss,accuracy,auc,recall,precision,false_positives,false_negatives,true_negatives,true_positives,val_loss,val_accuracy,val_auc,val_recall,val_precision,val_false_positives,val_false_negatives,val_true_negatives,val_true_positives,configuration_id) VALUES (,\\\"ConvNext\\\",?,,,,,,,,,,,,,,,,,,,)\", image_data)\n",
    "cursor.execute(\"INSERT INTO metrics (type,confusion_matrix,precision,f1_score,roc_auc,recall,specificity,notebook_id) VALUES (\\\"Basal_cell_carcinoma\\\",?,,,,,);\")\n",
    "cursor.execute(\"INSERT INTO metrics (type,confusion_matrix,precision,f1_score,roc_auc,recall,specificity,notebook_id) VALUES (\\\"Benign_keratosis\\\",?,,,,,);\")\n",
    "cursor.execute(\"INSERT INTO metrics (type,confusion_matrix,precision,f1_score,roc_auc,recall,specificity,notebook_id) VALUES (\\\"Bowens_disease\\\",?,,,,,);\")\n",
    "cursor.execute(\"INSERT INTO metrics (type,confusion_matrix,precision,f1_score,roc_auc,recall,specificity,notebook_id) VALUES (\\\"Dermatofibroma\\\",?,,,,,);\")\n",
    "cursor.execute(\"INSERT INTO metrics (type,confusion_matrix,precision,f1_score,roc_auc,recall,specificity,notebook_id) VALUES (\\\"Melanocytic_nevi\\\",?,,,,,);\")\n",
    "cursor.execute(\"INSERT INTO metrics (type,confusion_matrix,precision,f1_score,roc_auc,recall,specificity,notebook_id) VALUES (\\\"Melanoma\\\",?,,,,,);\")\n",
    "cursor.execute(\"INSERT INTO metrics (type,confusion_matrix,precision,f1_score,roc_auc,recall,specificity,notebook_id) VALUES (\\\"Vascular_lesion\\\",?,,,,,);\")\n",
    "\n",
    "cursor.execute(\"INSERT INTO noteboook (name,architecture,confusion_matrix,loss,accuracy,auc,recall,precision,false_positives,false_negatives,true_negatives,true_positives,val_loss,val_accuracy,val_auc,val_recall,val_precision,val_false_positives,val_false_negatives,val_true_negatives,val_true_positives,configuration_id) VALUES (,\\\"ResNetV2\\\",?,,,,,,,,,,,,,,,,,,,)\", image_data)\n",
    "cursor.execute(\"INSERT INTO metrics (type,confusion_matrix,precision,f1_score,roc_auc,recall,specificity,notebook_id) VALUES (\\\"Basal_cell_carcinoma\\\",?,,,,,);\")\n",
    "cursor.execute(\"INSERT INTO metrics (type,confusion_matrix,precision,f1_score,roc_auc,recall,specificity,notebook_id) VALUES (\\\"Benign_keratosis\\\",?,,,,,);\")\n",
    "cursor.execute(\"INSERT INTO metrics (type,confusion_matrix,precision,f1_score,roc_auc,recall,specificity,notebook_id) VALUES (\\\"Bowens_disease\\\",?,,,,,);\")\n",
    "cursor.execute(\"INSERT INTO metrics (type,confusion_matrix,precision,f1_score,roc_auc,recall,specificity,notebook_id) VALUES (\\\"Dermatofibroma\\\",?,,,,,);\")\n",
    "cursor.execute(\"INSERT INTO metrics (type,confusion_matrix,precision,f1_score,roc_auc,recall,specificity,notebook_id) VALUES (\\\"Melanocytic_nevi\\\",?,,,,,);\")\n",
    "cursor.execute(\"INSERT INTO metrics (type,confusion_matrix,precision,f1_score,roc_auc,recall,specificity,notebook_id) VALUES (\\\"Melanoma\\\",?,,,,,);\")\n",
    "cursor.execute(\"INSERT INTO metrics (type,confusion_matrix,precision,f1_score,roc_auc,recall,specificity,notebook_id) VALUES (\\\"Vascular_lesion\\\",?,,,,,);\")\n",
    "\n",
    "cursor.execute(\"INSERT INTO noteboook (name,architecture,confusion_matrix,loss,accuracy,auc,recall,precision,false_positives,false_negatives,true_negatives,true_positives,val_loss,val_accuracy,val_auc,val_recall,val_precision,val_false_positives,val_false_negatives,val_true_negatives,val_true_positives,configuration_id) VALUES (,\\\"Xception\\\",?,,,,,,,,,,,,,,,,,,,)\", image_data)\n",
    "cursor.execute(\"INSERT INTO metrics (type,confusion_matrix,precision,f1_score,roc_auc,recall,specificity,notebook_id) VALUES (\\\"Basal_cell_carcinoma\\\",?,,,,,);\")\n",
    "cursor.execute(\"INSERT INTO metrics (type,confusion_matrix,precision,f1_score,roc_auc,recall,specificity,notebook_id) VALUES (\\\"Benign_keratosis\\\",?,,,,,);\")\n",
    "cursor.execute(\"INSERT INTO metrics (type,confusion_matrix,precision,f1_score,roc_auc,recall,specificity,notebook_id) VALUES (\\\"Bowens_disease\\\",?,,,,,);\")\n",
    "cursor.execute(\"INSERT INTO metrics (type,confusion_matrix,precision,f1_score,roc_auc,recall,specificity,notebook_id) VALUES (\\\"Dermatofibroma\\\",?,,,,,);\")\n",
    "cursor.execute(\"INSERT INTO metrics (type,confusion_matrix,precision,f1_score,roc_auc,recall,specificity,notebook_id) VALUES (\\\"Melanocytic_nevi\\\",?,,,,,);\")\n",
    "cursor.execute(\"INSERT INTO metrics (type,confusion_matrix,precision,f1_score,roc_auc,recall,specificity,notebook_id) VALUES (\\\"Melanoma\\\",?,,,,,);\")\n",
    "cursor.execute(\"INSERT INTO metrics (type,confusion_matrix,precision,f1_score,roc_auc,recall,specificity,notebook_id) VALUES (\\\"Vascular_lesion\\\",?,,,,,);\")\n",
    "\n",
    "connection.commit()"
   ]
  },
  {
   "cell_type": "code",
   "execution_count": null,
   "metadata": {},
   "outputs": [],
   "source": [
    "cursor.execute(\"INSERT INTO configuration (transfer_learning,freeze_layers,balance_classes,segmentation,data_augmentation,normalization,custom_optimizer,callback) VALUES (true,true,true,true,true,\\\"none\\\",true,false);\")\n",
    "\n",
    "cursor.execute(\"INSERT INTO noteboook (name,architecture,confusion_matrix,loss,accuracy,auc,recall,precision,false_positives,false_negatives,true_negatives,true_positives,val_loss,val_accuracy,val_auc,val_recall,val_precision,val_false_positives,val_false_negatives,val_true_negatives,val_true_positives,configuration_id) VALUES (,\\\"ConvNext\\\",?,,,,,,,,,,,,,,,,,,,)\", image_data)\n",
    "cursor.execute(\"INSERT INTO metrics (type,confusion_matrix,precision,f1_score,roc_auc,recall,specificity,notebook_id) VALUES (\\\"Basal_cell_carcinoma\\\",?,,,,,);\")\n",
    "cursor.execute(\"INSERT INTO metrics (type,confusion_matrix,precision,f1_score,roc_auc,recall,specificity,notebook_id) VALUES (\\\"Benign_keratosis\\\",?,,,,,);\")\n",
    "cursor.execute(\"INSERT INTO metrics (type,confusion_matrix,precision,f1_score,roc_auc,recall,specificity,notebook_id) VALUES (\\\"Bowens_disease\\\",?,,,,,);\")\n",
    "cursor.execute(\"INSERT INTO metrics (type,confusion_matrix,precision,f1_score,roc_auc,recall,specificity,notebook_id) VALUES (\\\"Dermatofibroma\\\",?,,,,,);\")\n",
    "cursor.execute(\"INSERT INTO metrics (type,confusion_matrix,precision,f1_score,roc_auc,recall,specificity,notebook_id) VALUES (\\\"Melanocytic_nevi\\\",?,,,,,);\")\n",
    "cursor.execute(\"INSERT INTO metrics (type,confusion_matrix,precision,f1_score,roc_auc,recall,specificity,notebook_id) VALUES (\\\"Melanoma\\\",?,,,,,);\")\n",
    "cursor.execute(\"INSERT INTO metrics (type,confusion_matrix,precision,f1_score,roc_auc,recall,specificity,notebook_id) VALUES (\\\"Vascular_lesion\\\",?,,,,,);\")\n",
    "\n",
    "cursor.execute(\"INSERT INTO noteboook (name,architecture,confusion_matrix,loss,accuracy,auc,recall,precision,false_positives,false_negatives,true_negatives,true_positives,val_loss,val_accuracy,val_auc,val_recall,val_precision,val_false_positives,val_false_negatives,val_true_negatives,val_true_positives,configuration_id) VALUES (,\\\"ResNetV2\\\",?,,,,,,,,,,,,,,,,,,,)\", image_data)\n",
    "cursor.execute(\"INSERT INTO metrics (type,confusion_matrix,precision,f1_score,roc_auc,recall,specificity,notebook_id) VALUES (\\\"Basal_cell_carcinoma\\\",?,,,,,);\")\n",
    "cursor.execute(\"INSERT INTO metrics (type,confusion_matrix,precision,f1_score,roc_auc,recall,specificity,notebook_id) VALUES (\\\"Benign_keratosis\\\",?,,,,,);\")\n",
    "cursor.execute(\"INSERT INTO metrics (type,confusion_matrix,precision,f1_score,roc_auc,recall,specificity,notebook_id) VALUES (\\\"Bowens_disease\\\",?,,,,,);\")\n",
    "cursor.execute(\"INSERT INTO metrics (type,confusion_matrix,precision,f1_score,roc_auc,recall,specificity,notebook_id) VALUES (\\\"Dermatofibroma\\\",?,,,,,);\")\n",
    "cursor.execute(\"INSERT INTO metrics (type,confusion_matrix,precision,f1_score,roc_auc,recall,specificity,notebook_id) VALUES (\\\"Melanocytic_nevi\\\",?,,,,,);\")\n",
    "cursor.execute(\"INSERT INTO metrics (type,confusion_matrix,precision,f1_score,roc_auc,recall,specificity,notebook_id) VALUES (\\\"Melanoma\\\",?,,,,,);\")\n",
    "cursor.execute(\"INSERT INTO metrics (type,confusion_matrix,precision,f1_score,roc_auc,recall,specificity,notebook_id) VALUES (\\\"Vascular_lesion\\\",?,,,,,);\")\n",
    "\n",
    "cursor.execute(\"INSERT INTO noteboook (name,architecture,confusion_matrix,loss,accuracy,auc,recall,precision,false_positives,false_negatives,true_negatives,true_positives,val_loss,val_accuracy,val_auc,val_recall,val_precision,val_false_positives,val_false_negatives,val_true_negatives,val_true_positives,configuration_id) VALUES (,\\\"Xception\\\",?,,,,,,,,,,,,,,,,,,,)\", image_data)\n",
    "cursor.execute(\"INSERT INTO metrics (type,confusion_matrix,precision,f1_score,roc_auc,recall,specificity,notebook_id) VALUES (\\\"Basal_cell_carcinoma\\\",?,,,,,);\")\n",
    "cursor.execute(\"INSERT INTO metrics (type,confusion_matrix,precision,f1_score,roc_auc,recall,specificity,notebook_id) VALUES (\\\"Benign_keratosis\\\",?,,,,,);\")\n",
    "cursor.execute(\"INSERT INTO metrics (type,confusion_matrix,precision,f1_score,roc_auc,recall,specificity,notebook_id) VALUES (\\\"Bowens_disease\\\",?,,,,,);\")\n",
    "cursor.execute(\"INSERT INTO metrics (type,confusion_matrix,precision,f1_score,roc_auc,recall,specificity,notebook_id) VALUES (\\\"Dermatofibroma\\\",?,,,,,);\")\n",
    "cursor.execute(\"INSERT INTO metrics (type,confusion_matrix,precision,f1_score,roc_auc,recall,specificity,notebook_id) VALUES (\\\"Melanocytic_nevi\\\",?,,,,,);\")\n",
    "cursor.execute(\"INSERT INTO metrics (type,confusion_matrix,precision,f1_score,roc_auc,recall,specificity,notebook_id) VALUES (\\\"Melanoma\\\",?,,,,,);\")\n",
    "cursor.execute(\"INSERT INTO metrics (type,confusion_matrix,precision,f1_score,roc_auc,recall,specificity,notebook_id) VALUES (\\\"Vascular_lesion\\\",?,,,,,);\")\n",
    "\n",
    "connection.commit()"
   ]
  },
  {
   "cell_type": "code",
   "execution_count": null,
   "metadata": {},
   "outputs": [],
   "source": [
    "cursor.execute(\"INSERT INTO configuration (transfer_learning,freeze_layers,balance_classes,segmentation,data_augmentation,normalization,custom_optimizer,callback) VALUES (false,false,false,false,true,\\\"none\\\",false,false);\")\n",
    "\n",
    "cursor.execute(\"INSERT INTO noteboook (name,architecture,confusion_matrix,loss,accuracy,auc,recall,precision,false_positives,false_negatives,true_negatives,true_positives,val_loss,val_accuracy,val_auc,val_recall,val_precision,val_false_positives,val_false_negatives,val_true_negatives,val_true_positives,configuration_id) VALUES (,\\\"ConvNext\\\",?,,,,,,,,,,,,,,,,,,,)\", image_data)\n",
    "cursor.execute(\"INSERT INTO metrics (type,confusion_matrix,precision,f1_score,roc_auc,recall,specificity,notebook_id) VALUES (\\\"Basal_cell_carcinoma\\\",?,,,,,);\")\n",
    "cursor.execute(\"INSERT INTO metrics (type,confusion_matrix,precision,f1_score,roc_auc,recall,specificity,notebook_id) VALUES (\\\"Benign_keratosis\\\",?,,,,,);\")\n",
    "cursor.execute(\"INSERT INTO metrics (type,confusion_matrix,precision,f1_score,roc_auc,recall,specificity,notebook_id) VALUES (\\\"Bowens_disease\\\",?,,,,,);\")\n",
    "cursor.execute(\"INSERT INTO metrics (type,confusion_matrix,precision,f1_score,roc_auc,recall,specificity,notebook_id) VALUES (\\\"Dermatofibroma\\\",?,,,,,);\")\n",
    "cursor.execute(\"INSERT INTO metrics (type,confusion_matrix,precision,f1_score,roc_auc,recall,specificity,notebook_id) VALUES (\\\"Melanocytic_nevi\\\",?,,,,,);\")\n",
    "cursor.execute(\"INSERT INTO metrics (type,confusion_matrix,precision,f1_score,roc_auc,recall,specificity,notebook_id) VALUES (\\\"Melanoma\\\",?,,,,,);\")\n",
    "cursor.execute(\"INSERT INTO metrics (type,confusion_matrix,precision,f1_score,roc_auc,recall,specificity,notebook_id) VALUES (\\\"Vascular_lesion\\\",?,,,,,);\")\n",
    "\n",
    "cursor.execute(\"INSERT INTO noteboook (name,architecture,confusion_matrix,loss,accuracy,auc,recall,precision,false_positives,false_negatives,true_negatives,true_positives,val_loss,val_accuracy,val_auc,val_recall,val_precision,val_false_positives,val_false_negatives,val_true_negatives,val_true_positives,configuration_id) VALUES (,\\\"ResNetV2\\\",?,,,,,,,,,,,,,,,,,,,)\", image_data)\n",
    "cursor.execute(\"INSERT INTO metrics (type,confusion_matrix,precision,f1_score,roc_auc,recall,specificity,notebook_id) VALUES (\\\"Basal_cell_carcinoma\\\",?,,,,,);\")\n",
    "cursor.execute(\"INSERT INTO metrics (type,confusion_matrix,precision,f1_score,roc_auc,recall,specificity,notebook_id) VALUES (\\\"Benign_keratosis\\\",?,,,,,);\")\n",
    "cursor.execute(\"INSERT INTO metrics (type,confusion_matrix,precision,f1_score,roc_auc,recall,specificity,notebook_id) VALUES (\\\"Bowens_disease\\\",?,,,,,);\")\n",
    "cursor.execute(\"INSERT INTO metrics (type,confusion_matrix,precision,f1_score,roc_auc,recall,specificity,notebook_id) VALUES (\\\"Dermatofibroma\\\",?,,,,,);\")\n",
    "cursor.execute(\"INSERT INTO metrics (type,confusion_matrix,precision,f1_score,roc_auc,recall,specificity,notebook_id) VALUES (\\\"Melanocytic_nevi\\\",?,,,,,);\")\n",
    "cursor.execute(\"INSERT INTO metrics (type,confusion_matrix,precision,f1_score,roc_auc,recall,specificity,notebook_id) VALUES (\\\"Melanoma\\\",?,,,,,);\")\n",
    "cursor.execute(\"INSERT INTO metrics (type,confusion_matrix,precision,f1_score,roc_auc,recall,specificity,notebook_id) VALUES (\\\"Vascular_lesion\\\",?,,,,,);\")\n",
    "\n",
    "cursor.execute(\"INSERT INTO noteboook (name,architecture,confusion_matrix,loss,accuracy,auc,recall,precision,false_positives,false_negatives,true_negatives,true_positives,val_loss,val_accuracy,val_auc,val_recall,val_precision,val_false_positives,val_false_negatives,val_true_negatives,val_true_positives,configuration_id) VALUES (,\\\"Xception\\\",?,,,,,,,,,,,,,,,,,,,)\", image_data)\n",
    "cursor.execute(\"INSERT INTO metrics (type,confusion_matrix,precision,f1_score,roc_auc,recall,specificity,notebook_id) VALUES (\\\"Basal_cell_carcinoma\\\",?,,,,,);\")\n",
    "cursor.execute(\"INSERT INTO metrics (type,confusion_matrix,precision,f1_score,roc_auc,recall,specificity,notebook_id) VALUES (\\\"Benign_keratosis\\\",?,,,,,);\")\n",
    "cursor.execute(\"INSERT INTO metrics (type,confusion_matrix,precision,f1_score,roc_auc,recall,specificity,notebook_id) VALUES (\\\"Bowens_disease\\\",?,,,,,);\")\n",
    "cursor.execute(\"INSERT INTO metrics (type,confusion_matrix,precision,f1_score,roc_auc,recall,specificity,notebook_id) VALUES (\\\"Dermatofibroma\\\",?,,,,,);\")\n",
    "cursor.execute(\"INSERT INTO metrics (type,confusion_matrix,precision,f1_score,roc_auc,recall,specificity,notebook_id) VALUES (\\\"Melanocytic_nevi\\\",?,,,,,);\")\n",
    "cursor.execute(\"INSERT INTO metrics (type,confusion_matrix,precision,f1_score,roc_auc,recall,specificity,notebook_id) VALUES (\\\"Melanoma\\\",?,,,,,);\")\n",
    "cursor.execute(\"INSERT INTO metrics (type,confusion_matrix,precision,f1_score,roc_auc,recall,specificity,notebook_id) VALUES (\\\"Vascular_lesion\\\",?,,,,,);\")\n",
    "\n",
    "connection.commit()"
   ]
  },
  {
   "attachments": {},
   "cell_type": "markdown",
   "metadata": {},
   "source": [
    "Reading image files"
   ]
  },
  {
   "cell_type": "code",
   "execution_count": null,
   "metadata": {},
   "outputs": [],
   "source": [
    "with open('/content/gdrive/MyDrive/tcc/test.jpg', 'rb') as file:\n",
    "    image_data = file.read()"
   ]
  },
  {
   "attachments": {},
   "cell_type": "markdown",
   "metadata": {},
   "source": [
    "Test if information have been saved"
   ]
  },
  {
   "cell_type": "code",
   "execution_count": null,
   "metadata": {},
   "outputs": [],
   "source": [
    "cursor.execute('SELECT * FROM configuration')\n",
    "cursor.fetchall()\n",
    "\n",
    "#retrieved_image_data = row[0]\n",
    "\n",
    "#with open('retrieved_image.jpg', 'wb') as file:\n",
    "#    file.write(retrieved_image_data)"
   ]
  },
  {
   "attachments": {},
   "cell_type": "markdown",
   "metadata": {},
   "source": [
    "Close the current connection"
   ]
  },
  {
   "cell_type": "code",
   "execution_count": null,
   "metadata": {},
   "outputs": [],
   "source": [
    "connection.close()"
   ]
  }
 ],
 "metadata": {
  "kernelspec": {
   "display_name": "Python 3",
   "language": "python",
   "name": "python3"
  },
  "language_info": {
   "codemirror_mode": {
    "name": "ipython",
    "version": 3
   },
   "file_extension": ".py",
   "mimetype": "text/x-python",
   "name": "python",
   "nbconvert_exporter": "python",
   "pygments_lexer": "ipython3",
   "version": "3.10.6"
  },
  "orig_nbformat": 4
 },
 "nbformat": 4,
 "nbformat_minor": 2
}
