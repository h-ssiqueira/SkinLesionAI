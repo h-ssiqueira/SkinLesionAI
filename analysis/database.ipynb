{
 "cells": [
  {
   "attachments": {},
   "cell_type": "markdown",
   "metadata": {},
   "source": [
    "# Database creation"
   ]
  },
  {
   "attachments": {},
   "cell_type": "markdown",
   "metadata": {},
   "source": [
    "## Libraries import and connection establishing"
   ]
  },
  {
   "cell_type": "code",
   "execution_count": 9,
   "metadata": {},
   "outputs": [],
   "source": [
    "import sqlite3, matplotlib.pyplot as plt, matplotlib.image as mpimg, base64, io, re"
   ]
  },
  {
   "cell_type": "code",
   "execution_count": 10,
   "metadata": {},
   "outputs": [],
   "source": [
    "connection = sqlite3.connect('database.db')\n",
    "cursor = connection.cursor()"
   ]
  },
  {
   "attachments": {},
   "cell_type": "markdown",
   "metadata": {},
   "source": [
    "Create tables and relationships from the script"
   ]
  },
  {
   "cell_type": "code",
   "execution_count": 11,
   "metadata": {},
   "outputs": [
    {
     "data": {
      "text/plain": [
       "[('notebook',),\n",
       " ('sqlite_autoindex_notebook_1',),\n",
       " ('sqlite_sequence',),\n",
       " ('configuration',),\n",
       " ('metrics',)]"
      ]
     },
     "execution_count": 11,
     "metadata": {},
     "output_type": "execute_result"
    }
   ],
   "source": [
    "with open(\"database.sql\", 'r') as script:\n",
    "    statements = script.read().split(';')\n",
    "    for statement in statements:\n",
    "        cursor.execute(statement)\n",
    "connection.commit()\n",
    "cursor.execute(\"SELECT name FROM sqlite_master;\")\n",
    "cursor.fetchall()"
   ]
  },
  {
   "attachments": {},
   "cell_type": "markdown",
   "metadata": {},
   "source": [
    "Functions to extract images and metrics from a notebook\n",
    "metrics: [Specificity, recall, roc auc, f1-score, precision]"
   ]
  },
  {
   "cell_type": "code",
   "execution_count": 12,
   "metadata": {},
   "outputs": [],
   "source": [
    "def getNotebook(notebook):\n",
    "    if notebook.startswith('c'):\n",
    "        notebook = open(\"\".join([\"../Notebooks/trainings/convnext/\",notebook,'.ipynb']))\n",
    "    elif notebook.startswith('r'):\n",
    "        notebook = open(\"\".join([\"../Notebooks/trainings/resnetv2/\",notebook,'.ipynb']))\n",
    "    elif notebook.startswith('x'):\n",
    "        notebook = open(\"\".join([\"../Notebooks/trainings/xception/\",notebook,'.ipynb']))\n",
    "    return notebook.read().splitlines()\n",
    "\n",
    "def getNotebookMetrics(notebook):\n",
    "    images = []\n",
    "    patterns = {\n",
    "        'bowensDisease': re.compile(r'^\"\\s*Bowens disease\\s+([\\d.]+)\\s+'),\n",
    "        'basalCellCarcinoma': re.compile(r'^\"\\s*Basal cell carcinoma\\s+([\\d.]+)\\s+'),\n",
    "        'benignKeratosis': re.compile(r'^\"\\s*Benign keratosis\\s+([\\d.]+)\\s+'),\n",
    "        'dermatofibroma': re.compile(r'^\"\\s*Dermatofibroma\\s+([\\d.]+)\\s+'),\n",
    "        'vascularLesion': re.compile(r'^\"\\s*Vascular lesion\\s+([\\d.]+)\\s+'),\n",
    "        'melanoma': re.compile(r'^\"\\s*Melanoma\\s+([\\d.]+)\\s+'),\n",
    "        'melanocyticNevi': re.compile(r'^\"\\s*Melanocytic nevi\\s+([\\d.]+)\\s+')\n",
    "    }\n",
    "    metrics = {key: [] for key in patterns}\n",
    "    config = []\n",
    "\n",
    "    lines = getNotebook(notebook)\n",
    "    for line in reversed(lines):\n",
    "        if line.strip().startswith('\\\"image/') and len(images) < 13:\n",
    "            parts = line.split(': ')\n",
    "            images.append((parts[0].strip('\"'), parts[1].strip().strip('\"').replace('\\\\n','')))\n",
    "        elif line.strip().startswith('\\\"Test set evaluation:'):\n",
    "            values = re.findall(r'\\d+\\.\\d+|\\d+', line.strip())\n",
    "            valuesTest = [float(value) for value in values]\n",
    "        elif line.strip().startswith('\\\"Validation set evaluation:'):\n",
    "            values = re.findall(r'\\d+\\.\\d+|\\d+', line.strip())\n",
    "            valuesValidation = [float(value) for value in values]\n",
    "        elif line.strip().startswith('\\\"useCallback = ') or line.strip().startswith('\\\"customOptimizer = ') or line.strip().startswith('\\\"minMaxScalerNorm = ') or line.strip().startswith('\\\"standardScalerNorm = ') or line.strip().startswith('\\\"dataAugmentation = ') or line.strip().startswith('\\\"segmentation = ') or line.strip().startswith('\\\"balanceClasses = ') or line.strip().startswith('\\\"freezeLayers = ') or line.strip().startswith('\\\"transferLearning = '):\n",
    "            match = re.search(r'True|False', line)\n",
    "            config.append(match.group(0) == 'True')\n",
    "        else:\n",
    "            for key, pattern in patterns.items():\n",
    "                match = pattern.match(line.strip())\n",
    "                if match:\n",
    "                    metrics[key].append(float(match.group(1)))\n",
    "                    break\n",
    "    return config, images, [metrics[key] for key in patterns], [valuesTest,valuesValidation]\n",
    "\n",
    "def displayNotebookImages(images):\n",
    "    for image_format, image_data in images:\n",
    "        decoded_image = io.BytesIO(base64.b64decode(image_data))\n",
    "        img = mpimg.imread(decoded_image, format=image_format)\n",
    "        plt.subplots(figsize=(10, 10))\n",
    "        plt.imshow(img)\n",
    "\n",
    "def displayDatabaseImages(images):\n",
    "    for img in images:\n",
    "        decoded_image = io.BytesIO(base64.b64decode(img[0]))\n",
    "        img = mpimg.imread(decoded_image, format='png')\n",
    "        plt.subplots(figsize=(10, 10))\n",
    "        plt.imshow(img)\n",
    "\n",
    "# config, images, metrics, setsMetrics = getNotebookMetrics('xceptionAll')\n",
    "# for metric in metrics:\n",
    "#     print(metric)\n",
    "# print(setsMetrics)\n",
    "# print(config)\n",
    "# displayNotebookImages(images)"
   ]
  },
  {
   "attachments": {},
   "cell_type": "markdown",
   "metadata": {},
   "source": [
    "## Insert information into database"
   ]
  },
  {
   "cell_type": "code",
   "execution_count": 13,
   "metadata": {},
   "outputs": [],
   "source": [
    "def checkIfExists(name):\n",
    "    cursor.execute(\"SELECT COUNT(1) FROM notebook WHERE name = \\\"\" + name + \"\\\";\")\n",
    "    return cursor.fetchall()[0][0]\n",
    "\n",
    "def insertConfiguration(config):\n",
    "    scaler = \"None\"\n",
    "    if config[2]:\n",
    "        scaler = \"MinMaxScaler\"\n",
    "    elif config[3]:\n",
    "        scaler = \"StandardScaler\"\n",
    "    cursor.execute(\"\"\"\n",
    "        INSERT INTO configuration\n",
    "        (transfer_learning,freeze_layers,balance_classes,segmentation,data_augmentation,normalization,custom_optimizer,callback) \\\n",
    "        VALUES\n",
    "        (?,?,?,?,?,?,?,?);\"\"\",\n",
    "        (str(config[8]),str(config[7]),str(config[6]),str(config[5]),str(config[4]),scaler,str(config[1]),str(config[0])))\n",
    "    connection.commit()\n",
    "    cursor.execute('SELECT id FROM configuration ORDER BY id DESC LIMIT 1;')\n",
    "    return cursor.fetchone()[0]\n",
    "\n",
    "def insertNotebook(name, images, setMetrics, configId):\n",
    "    if name.startswith('c'):\n",
    "        architecture = \"ConvNeXt\"\n",
    "    elif name.startswith('r'):\n",
    "        architecture = \"ResNetV2\"\n",
    "    else:\n",
    "        architecture = \"Xception\"\n",
    "    query = \"\"\"\n",
    "        INSERT INTO notebook\n",
    "        (name, architecture, confusion_matrix, loss, accuracy, auc, recall, precision, false_positives, false_negatives, true_negatives, true_positives, val_loss, val_accuracy, val_auc, val_recall, val_precision, val_false_positives, val_false_negatives, val_true_negatives, val_true_positives, loss_epochs, accuracy_epochs, auc_epochs, recall_epochs, precision_epochs, configuration_id)\n",
    "        VALUES\n",
    "        (?, ?, ?,\n",
    "        ?, ?, ?, ?, ?, ?, ?, ?, ?,\n",
    "        ?, ?, ?, ?, ?, ?, ?, ?, ?,\n",
    "        ?, ?, ?, ?, ?, ?);\"\"\"\n",
    "    values = (name, architecture, images[7][1],\n",
    "            setMetrics[0][0], setMetrics[0][1], setMetrics[0][2], setMetrics[0][3], setMetrics[0][4], setMetrics[0][5], setMetrics[0][6], setMetrics[0][7],setMetrics[0][8],\n",
    "            setMetrics[1][0], setMetrics[1][1], setMetrics[1][2], setMetrics[1][3], setMetrics[1][4], setMetrics[1][5], setMetrics[1][6], setMetrics[1][7],setMetrics[1][8],\n",
    "            images[12][1], images[11][1], images[10][1], images[9][1], images[8][1], configId)\n",
    "    cursor.execute(query, values)\n",
    "    connection.commit()\n",
    "    cursor.execute('SELECT id FROM notebook ORDER BY id DESC LIMIT 1;')\n",
    "    return cursor.fetchone()[0]\n",
    "\n",
    "def insertMetrics(images, metrics, notebookId):\n",
    "    i = 6\n",
    "    j = 0\n",
    "    for cancerType in [\"Bowens_disease\",\"Basal_cell_carcinoma\",\"Benign_keratosis\",\"Dermatofibroma\",\"Vascular_lesion\",\"Melanoma\",\"Melanocytic_nevi\"]:\n",
    "        cursor.execute(\"\"\"\n",
    "            INSERT INTO metrics\n",
    "            (type,confusion_matrix,precision,f1_score,roc_auc,recall,specificity,notebook_id)\n",
    "            VALUES\n",
    "            (?,?,?,?,?,?,?,?);\"\"\",\n",
    "            (cancerType,images[i][1],metrics[j][4],metrics[j][3],metrics[j][2],metrics[j][1],metrics[j][0],notebookId))\n",
    "        i = i - 1\n",
    "        j = j + 1\n",
    "    connection.commit()"
   ]
  },
  {
   "cell_type": "code",
   "execution_count": 14,
   "metadata": {},
   "outputs": [],
   "source": [
    "names = [\"convnextAll\",\"resnetAll\",\"xceptionAll\",\"convnextBalancedNormTransf\",\"resnetBalancedNormTransf\",\"xceptionBalancedNormTransf\",\"convnextDataaugmentation\",\"resnetDataaugmentation\",\"xceptionDataaugmentation\",\"convNextRaw\",\"resNetRaw\",\"xceptionRaw\",\"convnextRawBalanced\",\"resnetRawBalanced\",\"xceptionRawBalanced\",\"convnextSegmentation\",\"resnetSegmentation\",\"xceptionSegmentation\",\"convnextTransf\",\"resnetTransf\",\"xceptionTransf\",\"convnextDataAugmentationTransf\",\"resnetDataAugmentationTransf\",\"xceptionDataAugmentationTransf\",\"convnextDataAugmentationTransfBalanced\",\"resnetDataAugmentationTransfBalanced\",\"xceptionDataAugmentationTransfBalanced\",\"convnextDataAugTransfBalMinMaxOpt\",\"resnetDataAugTransfBalMinMaxOpt\",\"convnextDataAugTransfBalOpt\",\"resnetDataAugTransfBalOpt\",\"xceptionDataAugTransfBalOpt\"]\n",
    "\n",
    "for name in names:\n",
    "    if not checkIfExists(name):\n",
    "        config, images, metrics, setsMetrics = getNotebookMetrics(name)\n",
    "        if name.startswith('c'):\n",
    "            configId = insertConfiguration(config)\n",
    "        notebookId = insertNotebook(name, images, setsMetrics, configId)\n",
    "        insertMetrics(images, metrics, notebookId)"
   ]
  },
  {
   "attachments": {},
   "cell_type": "markdown",
   "metadata": {},
   "source": [
    "Test if information have been saved"
   ]
  },
  {
   "cell_type": "code",
   "execution_count": 15,
   "metadata": {},
   "outputs": [
    {
     "data": {
      "text/plain": [
       "[(32,)]"
      ]
     },
     "execution_count": 15,
     "metadata": {},
     "output_type": "execute_result"
    }
   ],
   "source": [
    "cursor.execute('SELECT confusion_matrix from notebook order by accuracy desc;')\n",
    "cursor.execute('SELECT count(*) FROM notebook;')\n",
    "images = cursor.fetchall()\n",
    "images\n",
    "#displayDatabaseImages(images)"
   ]
  },
  {
   "attachments": {},
   "cell_type": "markdown",
   "metadata": {},
   "source": [
    "Close the current connection"
   ]
  },
  {
   "cell_type": "code",
   "execution_count": 16,
   "metadata": {},
   "outputs": [],
   "source": [
    "connection.close()"
   ]
  }
 ],
 "metadata": {
  "kernelspec": {
   "display_name": "Python 3",
   "language": "python",
   "name": "python3"
  },
  "language_info": {
   "codemirror_mode": {
    "name": "ipython",
    "version": 3
   },
   "file_extension": ".py",
   "mimetype": "text/x-python",
   "name": "python",
   "nbconvert_exporter": "python",
   "pygments_lexer": "ipython3",
   "version": "3.10.0"
  },
  "orig_nbformat": 4
 },
 "nbformat": 4,
 "nbformat_minor": 2
}
